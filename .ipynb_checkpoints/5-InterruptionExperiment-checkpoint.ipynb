{
 "cells": [
  {
   "cell_type": "code",
   "execution_count": 1,
   "id": "be5698e7-d167-42fc-8e74-2cb0d3997e00",
   "metadata": {},
   "outputs": [],
   "source": [
    "import os\n",
    "from dotenv import load_dotenv\n",
    "from typing import Dict, List, Any, Optional, Annotated, Union, Literal\n",
    "from typing_extensions import TypedDict\n",
    "\n",
    "from langchain_openai import ChatOpenAI\n",
    "from langchain_community.utilities.sql_database import SQLDatabase\n",
    "from langchain_community.vectorstores import SKLearnVectorStore\n",
    "from langchain_openai import OpenAIEmbeddings\n",
    "from langchain_core.tools import tool\n",
    "from langchain_core.messages import BaseMessage, HumanMessage, SystemMessage, AIMessage, ToolMessage, filter_messages\n",
    "from langchain_core.runnables import RunnablePassthrough\n",
    "from langgraph.graph import MessagesState\n",
    "\n",
    "from langgraph.prebuilt import tools_condition, ToolNode\n",
    "\n",
    "from langgraph.graph import StateGraph, START, END\n",
    "from langgraph.checkpoint.memory import MemorySaver\n",
    "from langgraph.prebuilt import ToolNode\n",
    "from langgraph.errors import NodeInterrupt\n",
    "\n",
    "from IPython.display import Image, display"
   ]
  },
  {
   "cell_type": "code",
   "execution_count": 2,
   "id": "4f8ab283-33f9-40a9-b8ec-e0c2193ecda7",
   "metadata": {},
   "outputs": [
    {
     "data": {
      "text/plain": [
       "True"
      ]
     },
     "execution_count": 2,
     "metadata": {},
     "output_type": "execute_result"
    }
   ],
   "source": [
    "load_dotenv()"
   ]
  },
  {
   "cell_type": "code",
   "execution_count": 3,
   "id": "3c50e3ba-375f-4de5-8f22-36b0b3030630",
   "metadata": {},
   "outputs": [
    {
     "name": "stdout",
     "output_type": "stream",
     "text": [
      "['albums', 'artists', 'customers', 'employees', 'genres', 'invoice_items', 'invoices', 'media_types', 'playlist_track', 'playlists', 'tracks']\n"
     ]
    }
   ],
   "source": [
    "db = SQLDatabase.from_uri(\"sqlite:///../sql-support-bot/chinook.db\")\n",
    "print(db.get_usable_table_names())"
   ]
  },
  {
   "cell_type": "code",
   "execution_count": 4,
   "id": "960aeba5-4ca2-4e97-848a-1a291ed59e69",
   "metadata": {},
   "outputs": [],
   "source": [
    "os.environ[\"LANGCHAIN_PROJECT\"] = \"music-store-support-demo-prep\""
   ]
  },
  {
   "cell_type": "markdown",
   "id": "effdfc06-a498-4b35-bee3-940c4dd57103",
   "metadata": {},
   "source": [
    "# Set up LLMs, state and interrupt messages"
   ]
  },
  {
   "cell_type": "code",
   "execution_count": 5,
   "id": "d7c73486-1ec1-4be2-b3f9-c1275d54523e",
   "metadata": {},
   "outputs": [],
   "source": [
    "llm = ChatOpenAI(temperature=0, model_name=\"gpt-4o-mini\")"
   ]
  },
  {
   "cell_type": "code",
   "execution_count": 6,
   "id": "bb4bcac3-d59e-4f3f-9e3a-1de36c1069b8",
   "metadata": {},
   "outputs": [],
   "source": [
    "# Define the node types for our graph\n",
    "class NodeType(str, Enum):\n",
    "    ROUTER = \"router\"\n",
    "    QUERY = \"query\"\n",
    "    UPDATE = \"update\"\n",
    "    HUMAN_APPROVAL = \"human_approval\"\n",
    "    RESPONSE = \"response\"\n",
    "\n",
    "# Define our graph state schema\n",
    "class GraphState(TypedDict):\n",
    "    messages: List[Union[HumanMessage, AIMessage, SystemMessage]]\n",
    "    customer_id: int\n",
    "    next_node: NodeType\n",
    "    tool_results: Optional[List[Dict]]\n",
    "    update_proposal: Optional[Dict]\n",
    "    approved: Optional[bool]\n",
    "    error: Optional[str]\n"
   ]
  },
  {
   "cell_type": "code",
   "execution_count": 7,
   "id": "d13864e1-bd3e-4c8c-9d89-10f1895d4d0e",
   "metadata": {},
   "outputs": [],
   "source": [
    "action_confirmation_interrupt_message = \"This action will update the database. Please confirm that you want to proceed (yes/no)\""
   ]
  },
  {
   "cell_type": "markdown",
   "id": "0188cbcd-a9be-4a39-995a-4d75ca7f79e0",
   "metadata": {},
   "source": [
    "# Helper Functions"
   ]
  },
  {
   "cell_type": "code",
   "execution_count": 8,
   "id": "74f3b801-d347-4498-97c9-48a4e19e173c",
   "metadata": {},
   "outputs": [],
   "source": [
    "def get_last_human_message(messages: List[BaseMessage]) -> Optional[HumanMessage]:\n",
    "    \"\"\"Extract the last human message from the conversation history.\"\"\"\n",
    "    for message in reversed(messages):\n",
    "        if isinstance(message, HumanMessage):\n",
    "            return message\n",
    "    return None"
   ]
  },
  {
   "cell_type": "markdown",
   "id": "e39c055f-4614-4afd-987f-9beeb3d64781",
   "metadata": {},
   "source": [
    "# Account Agent"
   ]
  },
  {
   "cell_type": "markdown",
   "id": "09b9bc0f-d5fd-4ed8-a881-a2bbee04e634",
   "metadata": {},
   "source": [
    "## Set up graph"
   ]
  },
  {
   "cell_type": "markdown",
   "id": "79c09508-0ad8-4ac3-8fbc-ad19a1d2e250",
   "metadata": {},
   "source": [
    "### Tools"
   ]
  },
  {
   "cell_type": "markdown",
   "id": "6b267511-4c74-496b-8e33-63f0f3be2120",
   "metadata": {},
   "source": [
    "#### Tools for customer profile"
   ]
  },
  {
   "cell_type": "code",
   "execution_count": null,
   "id": "34eafb91-cf40-4d97-8006-a1b810325e15",
   "metadata": {},
   "outputs": [],
   "source": [
    "@tool\n",
    "def query_customer_info(customer_id: int):\n",
    "    \"\"\"Look up customer info given their ID. Requires customer authentication.\"\"\"\n",
    "    print(\"-\" * 50)\n",
    "    print(f\"query_customer_info called with {customer_id}\")\n",
    "    return db.run(f\"SELECT * FROM customers WHERE CustomerId = {customer_id};\")\n",
    "\n",
    "\n",
    "@tool\n",
    "def get_spending_history(customer_id: int, start_date: str = None, end_date: str = None):\n",
    "    \"\"\"Get a customer's spending history, optionally within a date range.\"\"\"\n",
    "    date_filter = \"\"\n",
    "    if start_date and end_date:\n",
    "        date_filter = f\"AND InvoiceDate BETWEEN '{start_date}' AND '{end_date}'\"\n",
    "    elif start_date:\n",
    "        date_filter = f\"AND InvoiceDate >= '{start_date}'\"\n",
    "    elif end_date:\n",
    "        date_filter = f\"AND InvoiceDate <= '{end_date}'\"\n",
    "    \n",
    "    return db.run(f\"\"\"\n",
    "        SELECT strftime('%Y-%m', InvoiceDate) as Month, \n",
    "               SUM(Total) as MonthlyTotal,\n",
    "               COUNT(InvoiceId) as PurchaseCount\n",
    "        FROM invoices\n",
    "        WHERE CustomerId = {customer_id} {date_filter}\n",
    "        GROUP BY strftime('%Y-%m', InvoiceDate)\n",
    "        ORDER BY Month DESC;\n",
    "    \"\"\", include_columns=True)\n",
    "\n",
    "\n",
    "@tool\n",
    "def get_invoice_details(invoice_id: int):\n",
    "    \"\"\"Get detailed line items for a specific invoice.\"\"\"\n",
    "    return db.run(f\"\"\"\n",
    "        SELECT ii.InvoiceLineId, t.Name as TrackName, \n",
    "               ar.Name as ArtistName, al.Title as AlbumTitle,\n",
    "               ii.UnitPrice, ii.Quantity\n",
    "        FROM invoice_items ii\n",
    "        JOIN tracks t ON ii.TrackId = t.TrackId\n",
    "        JOIN albums al ON t.AlbumId = al.AlbumId\n",
    "        JOIN artists ar ON al.ArtistId = ar.ArtistId\n",
    "        WHERE ii.InvoiceId = {invoice_id}\n",
    "        ORDER BY ii.InvoiceLineId;\n",
    "    \"\"\", include_columns=True)"
   ]
  },
  {
   "cell_type": "code",
   "execution_count": null,
   "id": "8e25a514-e4af-4e6d-b642-71a67acab8bc",
   "metadata": {},
   "outputs": [],
   "source": [
    "@tool\n",
    "def get_invoice_item(track_id: int) -> Dict:\n",
    "    \"\"\"Returns the invoice item id for a particular track.\"\"\"\n",
    "    # In a real implementation, this would query a product catalog\n",
    "    return {\n",
    "        \"invoice_item_id\": 5001,\n",
    "        \"title\": \"Highway to Hell\", \n",
    "        \"artist\": \"AC/DC\", \n",
    "        \"price\": 12.99, \n",
    "        \"genre\": \"rock\"\n",
    "    }\n",
    "\n",
    "\n",
    "@tool\n",
    "def make_purchase(customer_id: int, invoice_item_id: int) -> Dict:\n",
    "    \"\"\"Purchase a particular track.\"\"\"\n",
    "    # In a real implementation, this would create a purchase record\n",
    "    return {\n",
    "        \"success\": True,\n",
    "        \"customer_id\": customer_id,\n",
    "        \"invoice_id\": 200,\n",
    "        \"invoice_item_id\": invoice_item_id,\n",
    "        \"total\": 12.99\n",
    "    }\n",
    "\n",
    "@tool\n",
    "def update_customer_info(customer_id: int, field: str, value: str) -> str:\n",
    "    \"\"\"\n",
    "    Update a customer's information.\n",
    "    - customer_id: The ID of the customer to update\n",
    "    - field: The field to update (FirstName, LastName, Company, Address, City, State, Country, PostalCode, Phone, Email)\n",
    "    - value: The new value for the field\n",
    "    - confirmed: Has the user confirmed that they want to proceed?\n",
    "    \"\"\"\n",
    "    print(\"-\" * 50)\n",
    "    print(f\"update_customer_info called with {customer_id}\")\n",
    "    allowed_fields = [\"FirstName\", \"LastName\", \"Company\", \"Address\", \"City\", \n",
    "                       \"State\", \"Country\", \"PostalCode\", \"Phone\", \"Email\"]\n",
    "\n",
    "    if field not in allowed_fields:\n",
    "        return f\"Error: Cannot update field '{field}'. Allowed fields are: {', '.join(allowed_fields)}\"\n",
    "\n",
    "    # Verify customer exists first\n",
    "    customer = db.run(f\"SELECT * FROM customers WHERE CustomerId = {customer_id};\")\n",
    "    if not customer:\n",
    "        return f\"Error: No customer found with ID {customer_id}\"\n",
    "\n",
    "    try:\n",
    "        # Sanitize the value to prevent SQL injection\n",
    "        sanitized_value = value.replace(\"'\", \"''\")  # Double up single quotes for SQL safety\n",
    "        \n",
    "        # Execute the actual update query\n",
    "        update_query = f\"UPDATE customers SET {field} = '{sanitized_value}' WHERE CustomerId = {customer_id};\"\n",
    "        db.run(update_query)\n",
    "        \n",
    "        # Simply assume success if no exceptions occurred\n",
    "        return f\"Successfully updated {field} to '{value}' for customer {customer_id}\"\n",
    "    \n",
    "    except Exception as e:\n",
    "        return f\"Error updating database: {str(e)}\""
   ]
  },
  {
   "cell_type": "code",
   "execution_count": 10,
   "id": "840afeb0-264f-493b-b1a0-faf3942299bc",
   "metadata": {},
   "outputs": [],
   "source": [
    "query_tools = [query_customer_info, get_spending_history, get_invoice_details]\n",
    "update_tools = [get_invoice_item, make_purchase, update_customer_info]"
   ]
  },
  {
   "cell_type": "code",
   "execution_count": 11,
   "id": "ef52ed51-b0d6-4f1e-a1cc-2c80464c0bd1",
   "metadata": {},
   "outputs": [],
   "source": [
    "query_tool_executor = ToolExecutor(query_tools)\n",
    "update_tool_executor = ToolExecutor(update_tools)"
   ]
  },
  {
   "cell_type": "markdown",
   "id": "c852ab5f-f2e2-4946-81bd-82104fd97a73",
   "metadata": {},
   "source": [
    "### Node: Router"
   ]
  },
  {
   "cell_type": "code",
   "execution_count": 12,
   "id": "ffda24f6-8481-4103-a64e-2ffdb4aad995",
   "metadata": {},
   "outputs": [],
   "source": [
    "router_prompt = ChatPromptTemplate.from_template(\"\"\"\n",
    "You are an AI assistant for a music store. Determine if the customer request requires:\n",
    "1. QUERY operations (retrieving information only)\n",
    "2. UPDATE operations (making changes to customer data or purchases)\n",
    "\n",
    "Customer ID: {customer_id}\n",
    "Customer request: {input}\n",
    "\n",
    "Respond with just one word: QUERY or UPDATE\n",
    "\"\"\")\n",
    "\n",
    "def router_llm(state):\n",
    "    \"\"\"Routes the request to either the query or update node.\"\"\"\n",
    "    customer_id = state[\"customer_id\"]\n",
    "    latest_message = state[\"messages\"][-1].content\n",
    "    \n",
    "    response = llm.invoke(router_prompt.format(\n",
    "        customer_id=customer_id, \n",
    "        input=latest_message\n",
    "    ))\n",
    "    \n",
    "    if \"QUERY\" in response.content:\n",
    "        return {\"next_node\": NodeType.QUERY}\n",
    "    else:\n",
    "        return {\"next_node\": NodeType.UPDATE}"
   ]
  },
  {
   "cell_type": "markdown",
   "id": "c61a6d3d-10c9-444a-8f09-af4d0f4145a0",
   "metadata": {},
   "source": [
    "### Node: Query ToolNode"
   ]
  },
  {
   "cell_type": "code",
   "execution_count": null,
   "id": "2794e12e-c17d-434e-8292-a16ac46ae8d5",
   "metadata": {},
   "outputs": [],
   "source": [
    "query_node = ToolNode(\n",
    "    llm=llm,\n",
    "    tools=query_tools,\n",
    "    tool_executor=query_tool_executor\n",
    ")"
   ]
  },
  {
   "cell_type": "markdown",
   "id": "ae950e06-b107-464d-b3c9-dc942354bef7",
   "metadata": {},
   "source": [
    "### Node: Update Proposal"
   ]
  },
  {
   "cell_type": "code",
   "execution_count": null,
   "id": "de3e0203-2f23-44a0-8581-4e5bfe4e4e89",
   "metadata": {},
   "outputs": [],
   "source": [
    "update_prompt = ChatPromptTemplate.from_template(\"\"\"\n",
    "You are an AI assistant for a music store. Create a proposal for the customer's update request.\n",
    "DO NOT EXECUTE the update yet - just describe what will be done.\n",
    "\n",
    "Available tools:\n",
    "- get_invoice_item: Find details about a track using its ID\n",
    "- make_purchase: Purchase a track (requires invoice_item_id)\n",
    "- update_customer_info: Update customer profile information\n",
    "\n",
    "Customer ID: {customer_id}\n",
    "Customer request: {input}\n",
    "\n",
    "Format your response as follows:\n",
    "\n",
    "PROPOSAL:\n",
    "[Detailed description of the proposed changes]\n",
    "\n",
    "TOOL: [name of the tool you would use]\n",
    "PARAMETERS: \n",
    "customer_id: {customer_id}\n",
    "[other parameters needed by the tool]\n",
    "\"\"\")\n",
    "\n",
    "def update_node(state):\n",
    "    \"\"\"Creates a proposal for updates without executing them.\"\"\"\n",
    "    customer_id = state[\"customer_id\"]\n",
    "    latest_message = state[\"messages\"][-1].content\n",
    "    \n",
    "    response = llm.invoke(update_prompt.format(\n",
    "        customer_id=customer_id, \n",
    "        input=latest_message\n",
    "    ))\n",
    "    \n",
    "    content = response.content\n",
    "    \n",
    "    # Parse the proposal and tool information\n",
    "    proposal_text = \"\"\n",
    "    tool_name = \"\"\n",
    "    parameters = {}\n",
    "    \n",
    "    if \"PROPOSAL:\" in content and \"TOOL:\" in content:\n",
    "        proposal_text = content.split(\"PROPOSAL:\")[1].split(\"TOOL:\")[0].strip()\n",
    "        tool_part = content.split(\"TOOL:\")[1].strip()\n",
    "        \n",
    "        if \"PARAMETERS:\" in tool_part:\n",
    "            tool_name = tool_part.split(\"PARAMETERS:\")[0].strip()\n",
    "            params_text = tool_part.split(\"PARAMETERS:\")[1].strip()\n",
    "            \n",
    "            # Simple parameter parsing\n",
    "            for line in params_text.strip().split(\"\\n\"):\n",
    "                if \":\" in line:\n",
    "                    key, value = line.split(\":\", 1)\n",
    "                    key = key.strip()\n",
    "                    value = value.strip()\n",
    "                    \n",
    "                    # Try to convert to appropriate types\n",
    "                    if value.isdigit():\n",
    "                        parameters[key] = int(value)\n",
    "                    else:\n",
    "                        parameters[key] = value\n",
    "    \n",
    "    # Ensure customer_id is always included\n",
    "    parameters[\"customer_id\"] = customer_id\n",
    "    \n",
    "    return {\n",
    "        \"next_node\": NodeType.HUMAN_APPROVAL,\n",
    "        \"update_proposal\": {\n",
    "            \"description\": proposal_text,\n",
    "            \"tool\": tool_name,\n",
    "            \"parameters\": parameters\n",
    "        }\n",
    "    }"
   ]
  },
  {
   "cell_type": "markdown",
   "id": "26032d40-5a53-4451-abcd-55e374945a39",
   "metadata": {},
   "source": [
    "### Node: Human Approval"
   ]
  },
  {
   "cell_type": "code",
   "execution_count": null,
   "id": "e6f6fe83-513b-4b19-873e-3aa0890d345b",
   "metadata": {},
   "outputs": [],
   "source": [
    "def human_approval_node(state):\n",
    "    \"\"\"Handles human-in-the-loop approval for updates.\"\"\"\n",
    "    proposal = state.get(\"update_proposal\", {})\n",
    "    description = proposal.get(\"description\", \"\")\n",
    "    tool_name = proposal.get(\"tool\", \"\")\n",
    "    parameters = proposal.get(\"parameters\", {})\n",
    "    \n",
    "    # Create a human-readable description of what will be done\n",
    "    if tool_name == \"make_purchase\":\n",
    "        action_description = f\"Purchase track with invoice_item_id: {parameters.get('invoice_item_id')}\"\n",
    "    elif tool_name == \"update_customer_info\":\n",
    "        action_description = f\"Update {parameters.get('field')} to: {parameters.get('value')}\"\n",
    "    else:\n",
    "        action_description = f\"Execute {tool_name} with parameters: {parameters}\"\n",
    "    \n",
    "    # In a real implementation, this would:\n",
    "    # 1. Interrupt the flow\n",
    "    # 2. Present a UI to the user showing the proposed changes\n",
    "    # 3. Wait for approval or rejection\n",
    "    # 4. Resume the flow with the user's decision\n",
    "    \n",
    "    # For example:\n",
    "    # from your_ui_library import show_approval_dialog\n",
    "    # approval_result = show_approval_dialog(\n",
    "    #     title=\"Approval Required\",\n",
    "    #     message=f\"The following change has been requested:\\n{description}\\n\\nAction: {action_description}\",\n",
    "    #     options=[\"Approve\", \"Reject\"]\n",
    "    # )\n",
    "    # approved = approval_result == \"Approve\"\n",
    "    \n",
    "    # Simulation for this example:\n",
    "    approved = True  # In a real system, this would come from user input\n",
    "    \n",
    "    if approved:\n",
    "        try:\n",
    "            # Execute the approved tool\n",
    "            result = update_tool_executor.execute(\n",
    "                tool_name=tool_name,\n",
    "                **parameters\n",
    "            )\n",
    "            return {\n",
    "                \"approved\": True,\n",
    "                \"next_node\": NodeType.RESPONSE,\n",
    "                \"tool_results\": [{\"tool\": tool_name, \"result\": result}]\n",
    "            }\n",
    "        except Exception as e:\n",
    "            return {\n",
    "                \"approved\": False,\n",
    "                \"next_node\": NodeType.RESPONSE,\n",
    "                \"error\": f\"Error executing {tool_name}: {str(e)}\"\n",
    "            }\n",
    "    else:\n",
    "        return {\n",
    "            \"approved\": False,\n",
    "            \"next_node\": NodeType.RESPONSE,\n",
    "            \"error\": \"Update not approved by user\"\n",
    "        }"
   ]
  },
  {
   "cell_type": "markdown",
   "id": "40eb7c7f-63ce-43b0-810b-8d8ca56b5444",
   "metadata": {},
   "source": [
    "### Node: Response LLM"
   ]
  },
  {
   "cell_type": "code",
   "execution_count": null,
   "id": "95f56fb0-4e7d-49d8-92fe-3fd83ae57e59",
   "metadata": {},
   "outputs": [],
   "source": [
    "response_prompt = ChatPromptTemplate.from_template(\"\"\"\n",
    "You are an AI assistant for a music store. Provide a natural language response to the customer.\n",
    "\n",
    "Customer request: {input}\n",
    "Operation type: {operation_type}\n",
    "\n",
    "{context}\n",
    "\n",
    "Respond in a helpful, friendly way. Summarize what was done or found. \n",
    "If there was an error, explain what went wrong in simple terms.\n",
    "\"\"\")\n",
    "\n",
    "def response_llm(state):\n",
    "    \"\"\"Generates natural language responses based on tool results.\"\"\"\n",
    "    latest_message = state[\"messages\"][-1].content\n",
    "    operation_type = state.get(\"next_node\", \"\")\n",
    "    \n",
    "    # Prepare context based on operation type\n",
    "    context = \"\"\n",
    "    if \"tool_results\" in state and state.get(\"tool_results\"):\n",
    "        if operation_type == NodeType.QUERY:\n",
    "            context = f\"Query results: {state['tool_results']}\"\n",
    "        elif state.get(\"approved\", False):\n",
    "            context = f\"Update approved and completed: {state['tool_results']}\"\n",
    "        else:\n",
    "            context = f\"Update failed: {state.get('error', 'Unknown error')}\"\n",
    "    else:\n",
    "        context = f\"Error: {state.get('error', 'No results found')}\"\n",
    "    \n",
    "    response = llm.invoke(response_prompt.format(\n",
    "        input=latest_message,\n",
    "        operation_type=operation_type,\n",
    "        context=context\n",
    "    ))\n",
    "    \n",
    "    # Add the response to messages\n",
    "    return {\"messages\": state[\"messages\"] + [AIMessage(content=response.content)]}"
   ]
  },
  {
   "cell_type": "markdown",
   "id": "14e36bac-6cb2-4c13-a288-9f32c48f7b55",
   "metadata": {},
   "source": [
    "### Graph definition"
   ]
  },
  {
   "cell_type": "code",
   "execution_count": 14,
   "id": "d3661c5e-015d-4de1-83fa-d9495dec0d27",
   "metadata": {},
   "outputs": [],
   "source": [
    "def create_music_store_graph():\n",
    "    \"\"\"Creates and returns the compiled LangGraph for the music store application.\"\"\"\n",
    "    graph = StateGraph(GraphState)\n",
    "    \n",
    "    # Add nodes\n",
    "    graph.add_node(NodeType.ROUTER, router_llm)\n",
    "    graph.add_node(NodeType.QUERY, query_node)\n",
    "    graph.add_node(NodeType.UPDATE, update_node)\n",
    "    graph.add_node(NodeType.HUMAN_APPROVAL, human_approval_node)\n",
    "    graph.add_node(NodeType.RESPONSE, response_llm)\n",
    "    \n",
    "    # Add edges\n",
    "    graph.add_edge(NodeType.ROUTER, NodeType.QUERY, \n",
    "                  condition=lambda x: x.get(\"next_node\") == NodeType.QUERY)\n",
    "    graph.add_edge(NodeType.ROUTER, NodeType.UPDATE, \n",
    "                  condition=lambda x: x.get(\"next_node\") == NodeType.UPDATE)\n",
    "    graph.add_edge(NodeType.QUERY, NodeType.RESPONSE)\n",
    "    graph.add_edge(NodeType.UPDATE, NodeType.HUMAN_APPROVAL)\n",
    "    graph.add_edge(NodeType.HUMAN_APPROVAL, NodeType.RESPONSE)\n",
    "    graph.add_edge(NodeType.RESPONSE, END)\n",
    "    \n",
    "    # Set the entry point\n",
    "    graph.set_entry_point(NodeType.ROUTER)\n",
    "    \n",
    "    # Compile the graph\n",
    "    return graph.compile()\n",
    "\n",
    "# Create the application\n",
    "music_store_app = create_music_store_graph()"
   ]
  },
  {
   "cell_type": "code",
   "execution_count": 15,
   "id": "d34f155e-63d5-4186-a9b2-3d275e96599a",
   "metadata": {},
   "outputs": [
    {
     "data": {
      "image/png": "[encoded data removed]",
      "text/plain": [
       "<IPython.core.display.Image object>"
      ]
     },
     "metadata": {},
     "output_type": "display_data"
    }
   ],
   "source": [
    "display(Image(music_store_app.get_graph().draw_mermaid_png()))"
   ]
  },
  {
   "cell_type": "markdown",
   "id": "57813d14-bb4c-4767-a211-91fc22900ef6",
   "metadata": {},
   "source": [
    "## Test"
   ]
  },
  {
   "cell_type": "code",
   "execution_count": null,
   "id": "e39465d0-b0a8-43a3-be1f-66bf2c14cf14",
   "metadata": {},
   "outputs": [],
   "source": [
    "def process_user_request(user_input: str, customer_id: int):\n",
    "    \"\"\"Process a user request through the graph.\"\"\"\n",
    "    initial_state = {\n",
    "        \"messages\": [HumanMessage(content=user_input)],\n",
    "        \"customer_id\": customer_id,\n",
    "        \"next_node\": NodeType.ROUTER,\n",
    "        \"tool_results\": None,\n",
    "        \"update_proposal\": None,\n",
    "        \"approved\": None,\n",
    "        \"error\": None\n",
    "    }\n",
    "    \n",
    "    final_state = music_store_app.invoke(initial_state)\n",
    "    return final_state"
   ]
  },
  {
   "cell_type": "code",
   "execution_count": null,
   "id": "1bec37e8-3250-434a-b9a9-9fe5d86e629a",
   "metadata": {},
   "outputs": [],
   "source": []
  },
  {
   "cell_type": "markdown",
   "id": "7f59f48f-6f8b-400e-8791-f9a3f8eaf338",
   "metadata": {},
   "source": [
    "#### Test fetching account details without providing ID up front"
   ]
  },
  {
   "cell_type": "code",
   "execution_count": 16,
   "id": "c3246b7d-4153-42ab-8dd4-bf718179bd21",
   "metadata": {},
   "outputs": [
    {
     "name": "stdout",
     "output_type": "stream",
     "text": [
      "================================\u001b[1m Human Message \u001b[0m=================================\n",
      "\n",
      "I want to check my account details\n",
      "==================================\u001b[1m Ai Message \u001b[0m==================================\n",
      "\n",
      "I'll help you check your account details. Let me retrieve that information for you.\n",
      "==================================\u001b[1m Ai Message \u001b[0m==================================\n",
      "\n",
      "I'll help you check your account details. Let me retrieve that information for you.\n",
      "==================================\u001b[1m Ai Message \u001b[0m==================================\n",
      "\n",
      "I couldn't process your request. Please try again.\n"
     ]
    }
   ],
   "source": [
    "# Input\n",
    "initial_input = {\n",
    "    \"messages\": [HumanMessage(content=\"I want to check my account details\")], \n",
    "    \"current_mode\": \"account\", \n",
    "    \"customer_id\": 2\n",
    "}\n",
    "\n",
    "# Thread\n",
    "thread = {\"configurable\": {\"thread_id\": \"customer_id_request_4\"}}\n",
    "\n",
    "# Run the graph - it will stop if an interruption occurs\n",
    "try:\n",
    "    for event in account_agent_graph.stream(initial_input, thread, stream_mode=\"values\"):\n",
    "        # Display messages as they come\n",
    "        event['messages'][-1].pretty_print()\n",
    "except Exception as e:\n",
    "    print(f\"Graph execution stopped: {e}\")\n",
    "\n",
    "# Check if there was an interruption\n",
    "state = account_agent_graph.get_state(thread)\n",
    "if state.tasks and any(task.interrupts for task in state.tasks):\n",
    "    # Get the interruption message\n",
    "    interrupt_task = next(task for task in state.tasks if task.interrupts)\n",
    "    interrupt_message = interrupt_task.interrupts[0].value\n",
    "    \n",
    "    print(f\"\\nAgent needs more information: {interrupt_message}\")\n",
    "    \n",
    "    # Get customer ID from user\n",
    "    customer_id_input = input(\"Please enter your customer ID: \")\n",
    "    \n",
    "    # Validate input\n",
    "    if customer_id_input.isdigit():\n",
    "        # Update the state with the provided customer ID\n",
    "        account_agent_graph.update_state(\n",
    "            thread,\n",
    "            {\n",
    "                \"customer_id\": int(customer_id_input),\n",
    "                \"current_mode\": \"account\",\n",
    "                \"messages\": state.values[\"messages\"] + [\n",
    "                    HumanMessage(content=f\"My customer ID is {customer_id_input}\")\n",
    "                ]\n",
    "            }\n",
    "        )\n",
    "        \n",
    "        # Continue the graph execution with the updated state\n",
    "        for event in account_agent_graph.stream(None, thread, stream_mode=\"values\"):\n",
    "            event['messages'][-1].pretty_print()\n",
    "    else:\n",
    "        print(\"Invalid customer ID. Please enter a numeric ID.\")"
   ]
  },
  {
   "cell_type": "markdown",
   "id": "0a09bacc-af85-49b0-83bc-fed7c889a52f",
   "metadata": {},
   "source": [
    "#### Test updating account attribute"
   ]
  },
  {
   "cell_type": "code",
   "execution_count": 17,
   "id": "caaddf46-275c-41e3-8097-68b9ed2d8f68",
   "metadata": {},
   "outputs": [
    {
     "name": "stdout",
     "output_type": "stream",
     "text": [
      "================================\u001b[1m Human Message \u001b[0m=================================\n",
      "\n",
      "Please update my email to leonekohler@surfeu.de\n",
      "==================================\u001b[1m Ai Message \u001b[0m==================================\n",
      "\n",
      "I'll help you update your email address to leonekohler@surfeu.de. Let me process that change for you.\n"
     ]
    },
    {
     "name": "stdin",
     "output_type": "stream",
     "text": [
      "Do you want to call the tool? (yes/no):  yes\n"
     ]
    },
    {
     "name": "stdout",
     "output_type": "stream",
     "text": [
      "==================================\u001b[1m Ai Message \u001b[0m==================================\n",
      "\n",
      "I'll help you update your email address to leonekohler@surfeu.de. Let me process that change for you.\n",
      "==================================\u001b[1m Ai Message \u001b[0m==================================\n",
      "\n",
      "I'll help you update your email address to leonekohler@surfeu.de. Let me process that change for you.\n",
      "==================================\u001b[1m Ai Message \u001b[0m==================================\n",
      "\n",
      "I couldn't process your request. Please try again.\n"
     ]
    }
   ],
   "source": [
    "# Input\n",
    "initial_input = {\n",
    "    # Leonie@kohler.com, leonekohler@surfeu.de\n",
    "    \"messages\": [HumanMessage(content=\"Please update my email to leonekohler@surfeu.de\")], \n",
    "    \"current_mode\": \"router\", \n",
    "    \"customer_id\": 2\n",
    "}\n",
    "\n",
    "# Thread\n",
    "thread = {\"configurable\": {\"thread_id\": \"12\"}}\n",
    "\n",
    "# Run the graph until the first interruption\n",
    "for event in account_agent_graph.stream(initial_input, thread, stream_mode=\"values\"):\n",
    "    event['messages'][-1].pretty_print()\n",
    "\n",
    "# Get user feedback\n",
    "user_approval = input(\"Do you want to call the tool? (yes/no): \")\n",
    "\n",
    "# Check approval\n",
    "if user_approval.lower() == \"yes\":\n",
    "    \n",
    "    # If approved, continue the graph execution\n",
    "    for event in account_agent_graph.stream(None, thread, stream_mode=\"values\"):\n",
    "        event['messages'][-1].pretty_print()\n",
    "        \n",
    "else:\n",
    "    print(\"Operation cancelled by user.\")\n",
    "\n",
    "# query_customer_info({\"customer_id\" : 2})"
   ]
  },
  {
   "cell_type": "markdown",
   "id": "d16b0f2b-5bd4-4de9-af4a-f6c6e5978743",
   "metadata": {},
   "source": [
    "#### Test response query not related to the account"
   ]
  },
  {
   "cell_type": "code",
   "execution_count": 18,
   "id": "7e972b7f-8d94-4355-8c6b-0f31cd933c16",
   "metadata": {},
   "outputs": [
    {
     "name": "stdout",
     "output_type": "stream",
     "text": [
      "================================\u001b[1m Human Message \u001b[0m=================================\n",
      "\n",
      "Hey. recommend music by Amy Winehouse\n",
      "==================================\u001b[1m Ai Message \u001b[0m==================================\n",
      "\n",
      "It seems like you're looking for music recommendations by Amy Winehouse. However, I can only assist with account-related queries or updates. If you have any questions about your account or need to update your information, please let me know!\n"
     ]
    }
   ],
   "source": [
    "# Define a thread config dictionary\n",
    "thread_config = {\"configurable\": {\"thread_id\": \"1\"}}\n",
    "\n",
    "# Then use it in your invoke call\n",
    "response = account_agent_graph.invoke(\n",
    "    {\"messages\": [HumanMessage(content=\"Hey. recommend music by Amy Winehouse\")], \n",
    "     \"current_mode\": \"router\", \n",
    "     \"customer_id\": None}, \n",
    "    thread_config\n",
    ")\n",
    "\n",
    "for m in response[\"messages\"]:\n",
    "    m.pretty_print()"
   ]
  }
 ],
 "metadata": {
  "kernelspec": {
   "display_name": "Python 3 (ipykernel)",
   "language": "python",
   "name": "python3"
  },
  "language_info": {
   "codemirror_mode": {
    "name": "ipython",
    "version": 3
   },
   "file_extension": ".py",
   "mimetype": "text/x-python",
   "name": "python",
   "nbconvert_exporter": "python",
   "pygments_lexer": "ipython3",
   "version": "3.12.3"
  }
 },
 "nbformat": 4,
 "nbformat_minor": 5
}
