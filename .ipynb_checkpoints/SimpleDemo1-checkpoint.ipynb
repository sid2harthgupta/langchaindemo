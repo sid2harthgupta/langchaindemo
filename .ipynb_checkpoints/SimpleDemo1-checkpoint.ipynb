{
 "cells": [
  {
   "cell_type": "code",
   "execution_count": 1,
   "id": "be5698e7-d167-42fc-8e74-2cb0d3997e00",
   "metadata": {},
   "outputs": [],
   "source": [
    "import os\n",
    "from dotenv import load_dotenv\n",
    "from typing import Dict, List, Any, Optional, Annotated, Union, Literal\n",
    "from typing_extensions import TypedDict\n",
    "\n",
    "from langchain_openai import ChatOpenAI\n",
    "from langchain_community.utilities.sql_database import SQLDatabase\n",
    "from langchain_community.vectorstores import SKLearnVectorStore\n",
    "from langchain_openai import OpenAIEmbeddings\n",
    "from langchain_core.tools import tool\n",
    "from langchain_core.messages import BaseMessage, HumanMessage, SystemMessage, AIMessage, ToolMessage\n",
    "from langchain_core.runnables import RunnablePassthrough\n",
    "from langgraph.graph import MessagesState\n",
    "\n",
    "from langgraph.graph import StateGraph, START, END\n",
    "from langgraph.checkpoint.memory import MemorySaver\n",
    "from langgraph.prebuilt import ToolNode\n",
    "\n",
    "from IPython.display import Image, display"
   ]
  },
  {
   "cell_type": "code",
   "execution_count": 2,
   "id": "4f8ab283-33f9-40a9-b8ec-e0c2193ecda7",
   "metadata": {},
   "outputs": [
    {
     "data": {
      "text/plain": [
       "True"
      ]
     },
     "execution_count": 2,
     "metadata": {},
     "output_type": "execute_result"
    }
   ],
   "source": [
    "load_dotenv()"
   ]
  },
  {
   "cell_type": "code",
   "execution_count": 3,
   "id": "3b62437e-e413-42ee-be03-1853ec969610",
   "metadata": {},
   "outputs": [],
   "source": [
    "model = ChatOpenAI(temperature=0, model_name=\"gpt-4o-mini\")"
   ]
  },
  {
   "cell_type": "code",
   "execution_count": 4,
   "id": "3c50e3ba-375f-4de5-8f22-36b0b3030630",
   "metadata": {},
   "outputs": [
    {
     "name": "stdout",
     "output_type": "stream",
     "text": [
      "['albums', 'artists', 'customers', 'employees', 'genres', 'invoice_items', 'invoices', 'media_types', 'playlist_track', 'playlists', 'tracks']\n"
     ]
    }
   ],
   "source": [
    "db = SQLDatabase.from_uri(\"sqlite:///sql-support-bot/chinook.db\")\n",
    "print(db.get_usable_table_names())"
   ]
  },
  {
   "cell_type": "code",
   "execution_count": 5,
   "id": "960aeba5-4ca2-4e97-848a-1a291ed59e69",
   "metadata": {},
   "outputs": [],
   "source": [
    "os.environ[\"LANGCHAIN_PROJECT\"] = \"music-store-support-demo-prep\""
   ]
  },
  {
   "cell_type": "markdown",
   "id": "effdfc06-a498-4b35-bee3-940c4dd57103",
   "metadata": {},
   "source": [
    "## Set up state"
   ]
  },
  {
   "cell_type": "code",
   "execution_count": 6,
   "id": "bb4bcac3-d59e-4f3f-9e3a-1de36c1069b8",
   "metadata": {},
   "outputs": [],
   "source": [
    "class MusicStoreChatbotState(MessagesState):\n",
    "    customer_id: Optional[int]\n",
    "    current_mode: Literal[\"router\", \"account\", \"music\"]"
   ]
  },
  {
   "cell_type": "markdown",
   "id": "d25e4236-40b4-4b73-aed2-0a8d2ddda8cb",
   "metadata": {},
   "source": [
    "## Define Tools"
   ]
  },
  {
   "cell_type": "markdown",
   "id": "79b7e33c-626f-4125-bd03-d16d826bce03",
   "metadata": {},
   "source": [
    "### Tool helper: Allow fuzzy retrieval for artists and tracks/songs"
   ]
  },
  {
   "cell_type": "code",
   "execution_count": 7,
   "id": "ab790a79-d7fe-41e0-b774-aca7284179a4",
   "metadata": {},
   "outputs": [],
   "source": [
    "artists = db._execute(\"SELECT * FROM artists\")\n",
    "songs = db._execute(\"SELECT * FROM tracks\")\n",
    "artist_retriever = SKLearnVectorStore.from_texts(\n",
    "    [a['Name'] for a in artists],\n",
    "    OpenAIEmbeddings(),\n",
    "    metadatas=artists\n",
    ").as_retriever()"
   ]
  },
  {
   "cell_type": "code",
   "execution_count": 8,
   "id": "505bafba-d234-4f14-8771-10c684071d50",
   "metadata": {},
   "outputs": [],
   "source": [
    "song_retriever = SKLearnVectorStore.from_texts(\n",
    "    [a['Name'] for a in songs],\n",
    "    OpenAIEmbeddings(),\n",
    "    metadatas=songs\n",
    ").as_retriever()"
   ]
  },
  {
   "cell_type": "markdown",
   "id": "f857bd5b-0090-4c48-8514-7f272b0caf94",
   "metadata": {},
   "source": [
    "### Tool definitions"
   ]
  },
  {
   "cell_type": "code",
   "execution_count": 9,
   "id": "918e44a5-f214-425c-ba97-ec95f4deb2f7",
   "metadata": {},
   "outputs": [],
   "source": [
    "# Account Management Tools\n",
    "\n",
    "#######     1      #######\n",
    "@tool\n",
    "def get_customer_info(customer_id: int):\n",
    "    \"\"\"Look up customer info given their ID. Requires customer authentication.\"\"\"\n",
    "    return db.run(f\"SELECT * FROM customers WHERE CustomerId = {customer_id};\")\n",
    "\n",
    "\n",
    "#######     2      #######\n",
    "@tool\n",
    "def update_customer_info(customer_id: int, field: str, value: str):\n",
    "    \"\"\"\n",
    "    Update a customer's information. This is a sensitive operation that requires human approval.\n",
    "    - customer_id: The ID of the customer to update\n",
    "    - field: The field to update (FirstName, LastName, Company, Address, City, State, Country, PostalCode, Phone, Email)\n",
    "    - value: The new value for the field\n",
    "    \"\"\"\n",
    "    allowed_fields = [\"FirstName\", \"LastName\", \"Company\", \"Address\", \"City\", \n",
    "                       \"State\", \"Country\", \"PostalCode\", \"Phone\", \"Email\"]\n",
    "\n",
    "    if field not in allowed_fields:\n",
    "        return f\"Error: Cannot update field '{field}'. Allowed fields are: {', '.join(allowed_fields)}\"\n",
    "\n",
    "    # Verify customer exists first\n",
    "    customer = db.run(f\"SELECT * FROM customers WHERE CustomerId = {customer_id};\")\n",
    "    if not customer:\n",
    "        return f\"Error: No customer found with ID {customer_id}\"\n",
    "\n",
    "    # This is what would actually run after approval\n",
    "    return f\"Successfully updated {field} to '{value}' for customer {customer_id}\"\n",
    "\n",
    "\n",
    "# Music Recommendation Tools\n",
    "\n",
    "#######     3      #######\n",
    "@tool\n",
    "def get_albums_by_artist(artist: str):\n",
    "    \"\"\"Get albums by an artist (or similar artists).\"\"\"\n",
    "    docs = artist_retriever.get_relevant_documents(artist)\n",
    "    artist_ids = \", \".join([str(d.metadata['ArtistId']) for d in docs])\n",
    "    return db.run(\n",
    "        f\"SELECT Title, Name as ArtistName FROM albums LEFT JOIN artists ON albums.ArtistId = artists.ArtistId WHERE albums.ArtistId in ({artist_ids});\",\n",
    "        include_columns=True)\n",
    "\n",
    "\n",
    "#######     4      #######\n",
    "@tool\n",
    "def get_tracks_by_artist(artist: str):\n",
    "    \"\"\"Get songs by an artist (or similar artists).\"\"\"\n",
    "    docs = artist_retriever.get_relevant_documents(artist)\n",
    "    artist_ids = \", \".join([str(d.metadata['ArtistId']) for d in docs])\n",
    "    return db.run(\n",
    "        f\"SELECT tracks.Name as SongName, artists.Name as ArtistName FROM albums LEFT JOIN artists ON albums.ArtistId = artists.ArtistId LEFT JOIN tracks ON tracks.AlbumId = albums.AlbumId WHERE albums.ArtistId in ({artist_ids});\",\n",
    "        include_columns=True)\n",
    "\n",
    "\n",
    "#######     5      #######\n",
    "@tool\n",
    "def search_songs(song_title: str):\n",
    "    \"\"\"Search for songs by title.\"\"\"\n",
    "    docs = song_retriever.get_relevant_documents(song_title)\n",
    "    return [{\"Title\": doc.page_content, \"TrackId\": doc.metadata[\"TrackId\"]} for doc in docs[:5]]"
   ]
  },
  {
   "cell_type": "code",
   "execution_count": 10,
   "id": "d7c73486-1ec1-4be2-b3f9-c1275d54523e",
   "metadata": {},
   "outputs": [],
   "source": [
    "tools = [\n",
    "    get_customer_info,\n",
    "    update_customer_info,\n",
    "    get_albums_by_artist,\n",
    "    get_tracks_by_artist,\n",
    "    search_songs\n",
    "]\n",
    "llm_with_tools = model.bind_tools(tools)"
   ]
  },
  {
   "cell_type": "markdown",
   "id": "7563e895-6219-4e4d-b5eb-8dd6453295fe",
   "metadata": {},
   "source": [
    "## Graph definition"
   ]
  },
  {
   "cell_type": "markdown",
   "id": "6b05a50e-9fc9-4310-9eed-a8e97b878243",
   "metadata": {},
   "source": [
    "### Router Agent"
   ]
  },
  {
   "cell_type": "code",
   "execution_count": 11,
   "id": "1ad67970-1afb-4477-ab31-08c0ee562f8b",
   "metadata": {},
   "outputs": [],
   "source": [
    "# Router Agent\n",
    "router_system_message = \"\"\"You are a helpful customer support assistant for a music store.\n",
    "Your job is to determine what the customer needs help with and route them to the appropriate department:\n",
    "\n",
    "1. ACCOUNT - For updating personal information, account details, or authentication\n",
    "2. MUSIC - For music recommendations, searching for songs/artists, or questions about music inventory\n",
    "3. ROUTER - for anything that does not fit into ACCOUNT or MUSIC\n",
    "\n",
    "Respond with the department that best matches their query.\n",
    "If they want to access personal information and have not provided a customer ID, please ask for the ID.\n",
    "\"\"\"\n",
    "\n",
    "\n",
    "def route_conversation(state: MusicStoreChatbotState) -> Literal[\"account\", \"music\", \"router\"]:\n",
    "    \"\"\"Route the conversation to the appropriate department\"\"\"\n",
    "    print(\"Routing conversation...\")\n",
    "    last_human_message = get_last_human_message(state[\"messages\"])\n",
    "    if not last_human_message:\n",
    "        print(\"No human message found...\")\n",
    "        return state\n",
    "\n",
    "    # Prepare conversation for the router\n",
    "    router_messages = [SystemMessage(content=router_system_message), last_human_message]\n",
    "    response = model.invoke(router_messages)\n",
    "\n",
    "    # Update the state with the correct department\n",
    "    content = response.content.lower()\n",
    "    if \"account\" in content:\n",
    "        department = \"account\"\n",
    "    elif \"music\" in content:\n",
    "        department = \"music\"\n",
    "    else:\n",
    "        department = \"router\"  # Stay in router mode if unclear\n",
    "\n",
    "    # Return the routing decision\n",
    "    return {\"current_mode\": department}\n",
    "\n",
    "\n",
    "def get_last_human_message(messages: List[BaseMessage]) -> Optional[HumanMessage]:\n",
    "    \"\"\"Extract the last human message from the conversation history.\"\"\"\n",
    "    for message in reversed(messages):\n",
    "        if isinstance(message, HumanMessage):\n",
    "            return message\n",
    "    return None"
   ]
  },
  {
   "cell_type": "code",
   "execution_count": 12,
   "id": "3303ae47-9f3c-43a3-b8d9-0f2abfc2b592",
   "metadata": {},
   "outputs": [],
   "source": [
    "def music_node(state: MusicStoreChatbotState):\n",
    "    print(\"music_node invoked\")\n",
    "    return state\n",
    "\n",
    "\n",
    "def account_node(state: MusicStoreChatbotState):\n",
    "    print(\"account_node invoked\")\n",
    "    return state\n",
    "\n",
    "\n",
    "def route_condition(state: MusicStoreChatbotState) -> str:\n",
    "    \"\"\"Return the routing condition based on the current state\"\"\"\n",
    "    return state[\"current_mode\"]\n",
    "\n",
    "entry_builder = StateGraph(MusicStoreChatbotState)\n",
    "entry_builder.add_node(\"route_conversation\", route_conversation)\n",
    "# For sub-graphs, use the sub-graph builder instead of the function name, \n",
    "# ex. entry_builder.add_node(\"music_node\", qs_builder.compile())\n",
    "entry_builder.add_node(\"music_node\", music_node)\n",
    "entry_builder.add_node(\"account_node\", account_node)\n",
    "\n",
    "# Add the starting edge\n",
    "entry_builder.add_edge(START, \"route_conversation\")\n",
    "\n",
    "# Add conditional edges - this is the key part\n",
    "entry_builder.add_conditional_edges(\n",
    "    \"route_conversation\",  # Source node\n",
    "    route_condition,  # Function that returns the condition value\n",
    "    {\n",
    "        \"music\": \"music_node\",\n",
    "        \"account\": \"account_node\",\n",
    "        \"router\": END\n",
    "    }\n",
    ")\n",
    "\n",
    "# Add the ending edges\n",
    "entry_builder.add_edge(\"music_node\", END)\n",
    "entry_builder.add_edge(\"account_node\", END)\n",
    "\n",
    "memory = MemorySaver()\n",
    "# Can hard-code interruptions  using `builder.compile(interrupt_before=[\"tools\"], checkpointer=memory)`\n",
    "graph = entry_builder.compile(checkpointer=memory)"
   ]
  },
  {
   "cell_type": "code",
   "execution_count": null,
   "id": "2afe4ead-cc1d-43f5-a797-565d0efd591b",
   "metadata": {},
   "outputs": [],
   "source": []
  },
  {
   "cell_type": "code",
   "execution_count": null,
   "id": "e49ef4d3-2583-4870-a8b1-ad8e573fb837",
   "metadata": {},
   "outputs": [],
   "source": []
  },
  {
   "cell_type": "code",
   "execution_count": 13,
   "id": "5dfcfa4f-287a-4cef-a4c1-c915f9619dab",
   "metadata": {},
   "outputs": [
    {
     "name": "stdout",
     "output_type": "stream",
     "text": [
      "Routing conversation...\n",
      "music_node invoked\n"
     ]
    },
    {
     "data": {
      "text/plain": [
       "{'messages': [HumanMessage(content='Hey. recommend music by Amy Winehouse', additional_kwargs={}, response_metadata={}, id='cb91263a-f713-4c26-b78a-7badd1d0b77a')],\n",
       " 'customer_id': None,\n",
       " 'current_mode': 'music'}"
      ]
     },
     "execution_count": 13,
     "metadata": {},
     "output_type": "execute_result"
    }
   ],
   "source": [
    "# Define a thread config dictionary\n",
    "thread_config = {\"configurable\": {\"thread_id\": \"1\"}}\n",
    "\n",
    "# Then use it in your invoke call\n",
    "graph.invoke(\n",
    "    {\"messages\": [HumanMessage(content=\"Hey. recommend music by Amy Winehouse\")], \n",
    "     \"current_mode\": \"router\", \n",
    "     \"customer_id\": None}, \n",
    "    thread_config\n",
    ")"
   ]
  },
  {
   "cell_type": "code",
   "execution_count": 14,
   "id": "ee196fc1-4c67-45a3-8b13-c041b8490316",
   "metadata": {},
   "outputs": [
    {
     "name": "stdout",
     "output_type": "stream",
     "text": [
      "Routing conversation...\n",
      "account_node invoked\n"
     ]
    },
    {
     "data": {
      "text/plain": [
       "{'messages': [HumanMessage(content='Hey. recommend music by Amy Winehouse', additional_kwargs={}, response_metadata={}, id='cb91263a-f713-4c26-b78a-7badd1d0b77a'),\n",
       "  HumanMessage(content='Hey, my customer ID is 2. Please update my email to a@b.com', additional_kwargs={}, response_metadata={}, id='fb80f5b5-f275-4d91-b78e-a2c64b3d9723')],\n",
       " 'customer_id': None,\n",
       " 'current_mode': 'account'}"
      ]
     },
     "execution_count": 14,
     "metadata": {},
     "output_type": "execute_result"
    }
   ],
   "source": [
    "# Define a thread config dictionary\n",
    "thread_config = {\"configurable\": {\"thread_id\": \"1\"}}\n",
    "\n",
    "# Then use it in your invoke call\n",
    "graph.invoke(\n",
    "    {\"messages\": [HumanMessage(content=\"Hey, my customer ID is 2. Please update my email to a@b.com\")], \n",
    "     \"current_mode\": \"router\", \n",
    "     \"customer_id\": None}, \n",
    "    thread_config\n",
    ")"
   ]
  },
  {
   "cell_type": "code",
   "execution_count": 15,
   "id": "8bd6bb6c-753f-4982-a313-e861343657d7",
   "metadata": {},
   "outputs": [
    {
     "name": "stdout",
     "output_type": "stream",
     "text": [
      "Routing conversation...\n"
     ]
    },
    {
     "data": {
      "text/plain": [
       "{'messages': [HumanMessage(content='Hey. recommend music by Amy Winehouse', additional_kwargs={}, response_metadata={}, id='cb91263a-f713-4c26-b78a-7badd1d0b77a'),\n",
       "  HumanMessage(content='Hey, my customer ID is 2. Please update my email to a@b.com', additional_kwargs={}, response_metadata={}, id='fb80f5b5-f275-4d91-b78e-a2c64b3d9723'),\n",
       "  HumanMessage(content='What is the meaning of life?', additional_kwargs={}, response_metadata={}, id='de8480b9-6b0a-4b42-9ecb-a7cb9c4d99dc')],\n",
       " 'customer_id': None,\n",
       " 'current_mode': 'router'}"
      ]
     },
     "execution_count": 15,
     "metadata": {},
     "output_type": "execute_result"
    }
   ],
   "source": [
    "# Define a thread config dictionary\n",
    "thread_config = {\"configurable\": {\"thread_id\": \"1\"}}\n",
    "\n",
    "# Then use it in your invoke call\n",
    "graph.invoke(\n",
    "    {\"messages\": [HumanMessage(content=\"What is the meaning of life?\")], \n",
    "     \"current_mode\": \"router\", \n",
    "     \"customer_id\": None}, \n",
    "    thread_config\n",
    ")"
   ]
  },
  {
   "cell_type": "code",
   "execution_count": 16,
   "id": "0b4c1ee9-9094-4fb0-bdbe-3d49eb5f95c0",
   "metadata": {},
   "outputs": [],
   "source": [
    "# display(Image(graph.get_graph().draw_mermaid_png()))"
   ]
  },
  {
   "cell_type": "code",
   "execution_count": 17,
   "id": "d4183d31-5468-4100-9ac5-72a618872baf",
   "metadata": {},
   "outputs": [],
   "source": [
    "# # Request an update that requires approval\n",
    "# message = \"Please change my email to newemail@example.com\"\n",
    "# response, needs_approval, update_info = await process_message(message, \"user123\")\n",
    "# print(f\"User: {message}\")\n",
    "# print(f\"Bot: {response}\")\n",
    "\n",
    "# if needs_approval:\n",
    "#     print(\"\\n[Human manager approval required]\")\n",
    "#     # Simulate manager approval\n",
    "#     approval_response = await resume_with_approval(True, update_info, \"user123\")\n",
    "#     print(f\"Bot (after approval): {approval_response}\")"
   ]
  }
 ],
 "metadata": {
  "kernelspec": {
   "display_name": "Python 3 (ipykernel)",
   "language": "python",
   "name": "python3"
  },
  "language_info": {
   "codemirror_mode": {
    "name": "ipython",
    "version": 3
   },
   "file_extension": ".py",
   "mimetype": "text/x-python",
   "name": "python",
   "nbconvert_exporter": "python",
   "pygments_lexer": "ipython3",
   "version": "3.12.3"
  }
 },
 "nbformat": 4,
 "nbformat_minor": 5
}
