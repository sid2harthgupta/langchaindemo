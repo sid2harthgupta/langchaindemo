{
 "cells": [
  {
   "cell_type": "code",
   "execution_count": 1,
   "id": "be5698e7-d167-42fc-8e74-2cb0d3997e00",
   "metadata": {},
   "outputs": [],
   "source": [
    "import os\n",
    "from dotenv import load_dotenv\n",
    "from typing import Dict, List, Any, Optional, Annotated, Union, Literal\n",
    "from typing_extensions import TypedDict\n",
    "\n",
    "from langchain_openai import ChatOpenAI\n",
    "from langchain_community.utilities.sql_database import SQLDatabase\n",
    "from langchain_community.vectorstores import SKLearnVectorStore\n",
    "from langchain_openai import OpenAIEmbeddings\n",
    "from langchain_core.tools import tool\n",
    "from langchain_core.messages import BaseMessage, HumanMessage, SystemMessage, AIMessage, ToolMessage\n",
    "from langchain_core.runnables import RunnablePassthrough\n",
    "from langgraph.graph import MessagesState\n",
    "\n",
    "from langgraph.prebuilt import tools_condition, ToolNode\n",
    "\n",
    "from langgraph.graph import StateGraph, START, END\n",
    "from langgraph.checkpoint.memory import MemorySaver\n",
    "from langgraph.prebuilt import ToolNode\n",
    "\n",
    "from IPython.display import Image, display"
   ]
  },
  {
   "cell_type": "code",
   "execution_count": 2,
   "id": "4f8ab283-33f9-40a9-b8ec-e0c2193ecda7",
   "metadata": {},
   "outputs": [
    {
     "data": {
      "text/plain": [
       "True"
      ]
     },
     "execution_count": 2,
     "metadata": {},
     "output_type": "execute_result"
    }
   ],
   "source": [
    "load_dotenv()"
   ]
  },
  {
   "cell_type": "code",
   "execution_count": 3,
   "id": "3c50e3ba-375f-4de5-8f22-36b0b3030630",
   "metadata": {},
   "outputs": [
    {
     "name": "stdout",
     "output_type": "stream",
     "text": [
      "['albums', 'artists', 'customers', 'employees', 'genres', 'invoice_items', 'invoices', 'media_types', 'playlist_track', 'playlists', 'tracks']\n"
     ]
    }
   ],
   "source": [
    "db = SQLDatabase.from_uri(\"sqlite:///../sql-support-bot/chinook.db\")\n",
    "print(db.get_usable_table_names())"
   ]
  },
  {
   "cell_type": "code",
   "execution_count": 4,
   "id": "960aeba5-4ca2-4e97-848a-1a291ed59e69",
   "metadata": {},
   "outputs": [],
   "source": [
    "os.environ[\"LANGCHAIN_PROJECT\"] = \"music-store-support-demo-prep\""
   ]
  },
  {
   "cell_type": "markdown",
   "id": "effdfc06-a498-4b35-bee3-940c4dd57103",
   "metadata": {},
   "source": [
    "## Set up state"
   ]
  },
  {
   "cell_type": "code",
   "execution_count": 5,
   "id": "bb4bcac3-d59e-4f3f-9e3a-1de36c1069b8",
   "metadata": {},
   "outputs": [],
   "source": [
    "class MusicStoreChatbotState(MessagesState):\n",
    "    customer_id: Optional[int]\n",
    "    current_mode: Literal[\"router\", \"account\", \"music\"]"
   ]
  },
  {
   "cell_type": "code",
   "execution_count": 6,
   "id": "d7c73486-1ec1-4be2-b3f9-c1275d54523e",
   "metadata": {},
   "outputs": [],
   "source": [
    "model = ChatOpenAI(temperature=0, model_name=\"gpt-4o-mini\")"
   ]
  },
  {
   "cell_type": "markdown",
   "id": "0188cbcd-a9be-4a39-995a-4d75ca7f79e0",
   "metadata": {},
   "source": [
    "## Helper Functions"
   ]
  },
  {
   "cell_type": "code",
   "execution_count": 7,
   "id": "74f3b801-d347-4498-97c9-48a4e19e173c",
   "metadata": {},
   "outputs": [],
   "source": [
    "def get_last_human_message(messages: List[BaseMessage]) -> Optional[HumanMessage]:\n",
    "    \"\"\"Extract the last human message from the conversation history.\"\"\"\n",
    "    for message in reversed(messages):\n",
    "        if isinstance(message, HumanMessage):\n",
    "            return message\n",
    "    return None"
   ]
  },
  {
   "cell_type": "markdown",
   "id": "1a479b67-1732-4ef1-89de-502eb81a7050",
   "metadata": {},
   "source": [
    "## Recommendation Agent"
   ]
  },
  {
   "cell_type": "markdown",
   "id": "ce6c252f-1ebe-4ac5-b6ee-835b3c6e0994",
   "metadata": {},
   "source": [
    "### Tool Helpers- Allow fuzzy retrieval for artists and tracks/songs"
   ]
  },
  {
   "cell_type": "code",
   "execution_count": 9,
   "id": "508ca3ee-557e-4db0-93e6-efadb20a9659",
   "metadata": {},
   "outputs": [],
   "source": [
    "artists = db._execute(\"SELECT * FROM artists\")\n",
    "songs = db._execute(\"SELECT * FROM tracks\")\n",
    "artist_retriever = SKLearnVectorStore.from_texts(\n",
    "    [a['Name'] for a in artists],\n",
    "    OpenAIEmbeddings(),\n",
    "    metadatas=artists\n",
    ").as_retriever()\n",
    "\n",
    "\n",
    "song_retriever = SKLearnVectorStore.from_texts(\n",
    "    [a['Name'] for a in songs],\n",
    "    OpenAIEmbeddings(),\n",
    "    metadatas=songs\n",
    ").as_retriever()"
   ]
  },
  {
   "cell_type": "markdown",
   "id": "abc1c882-4b43-42f8-aeb6-befaa0dbb447",
   "metadata": {},
   "source": [
    "## Invoicing tools"
   ]
  },
  {
   "cell_type": "code",
   "execution_count": null,
   "id": "5029459b-cfdb-4ae4-b89b-2c0b4398330f",
   "metadata": {},
   "outputs": [],
   "source": []
  },
  {
   "cell_type": "code",
   "execution_count": 19,
   "id": "3d29833f-a1c3-48ac-82ac-994914f7af16",
   "metadata": {},
   "outputs": [],
   "source": [
    "#### Invoice query\n",
    "@tool\n",
    "def get_customer_invoices(customer_id: int, limit: int = 10):\n",
    "    \"\"\"Retrieve the most recent invoices for a customer.\"\"\"\n",
    "    return db.run(f\"\"\"\n",
    "        SELECT InvoiceId, InvoiceDate, Total \n",
    "        FROM invoices \n",
    "        WHERE CustomerId = {customer_id}\n",
    "        ORDER BY InvoiceDate DESC\n",
    "        LIMIT {limit};\n",
    "    \"\"\", include_columns=True)\n",
    "\n",
    "@tool\n",
    "def get_invoice_details(invoice_id: int):\n",
    "    \"\"\"Get detailed line items for a specific invoice.\"\"\"\n",
    "    return db.run(f\"\"\"\n",
    "        SELECT ii.InvoiceLineId, t.Name as TrackName, \n",
    "               ar.Name as ArtistName, al.Title as AlbumTitle,\n",
    "               ii.UnitPrice, ii.Quantity\n",
    "        FROM invoice_items ii\n",
    "        JOIN tracks t ON ii.TrackId = t.TrackId\n",
    "        JOIN albums al ON t.AlbumId = al.AlbumId\n",
    "        JOIN artists ar ON al.ArtistId = ar.ArtistId\n",
    "        WHERE ii.InvoiceId = {invoice_id}\n",
    "        ORDER BY ii.InvoiceLineId;\n",
    "    \"\"\", include_columns=True)\n",
    "\n",
    "\n",
    "#### Purchase History\n",
    "@tool\n",
    "def check_track_purchase_history(customer_id: int, track_name: str):\n",
    "    \"\"\"Check if and when a customer purchased a specific track.\"\"\"\n",
    "    # First, find tracks that match the provided name\n",
    "    docs = song_retriever.get_relevant_documents(track_name)\n",
    "    if not docs:\n",
    "        return f\"No tracks found matching '{track_name}'\"\n",
    "    \n",
    "    track_ids = \", \".join([str(doc.metadata['TrackId']) for doc in docs[:5]])\n",
    "    \n",
    "    return db.run(f\"\"\"\n",
    "        SELECT i.InvoiceDate, t.Name as TrackName, ar.Name as Artist, \n",
    "               al.Title as Album, ii.UnitPrice\n",
    "        FROM invoices i\n",
    "        JOIN invoice_items ii ON i.InvoiceId = ii.InvoiceId\n",
    "        JOIN tracks t ON ii.TrackId = t.TrackId\n",
    "        JOIN albums al ON t.AlbumId = al.AlbumId\n",
    "        JOIN artists ar ON al.ArtistId = ar.ArtistId\n",
    "        WHERE i.CustomerId = {customer_id} AND t.TrackId IN ({track_ids})\n",
    "        ORDER BY i.InvoiceDate DESC;\n",
    "    \"\"\", include_columns=True)\n",
    "\n",
    "@tool\n",
    "def get_spending_history(customer_id: int, start_date: str = None, end_date: str = None):\n",
    "    \"\"\"Get a customer's spending history, optionally within a date range.\"\"\"\n",
    "    date_filter = \"\"\n",
    "    if start_date and end_date:\n",
    "        date_filter = f\"AND InvoiceDate BETWEEN '{start_date}' AND '{end_date}'\"\n",
    "    elif start_date:\n",
    "        date_filter = f\"AND InvoiceDate >= '{start_date}'\"\n",
    "    elif end_date:\n",
    "        date_filter = f\"AND InvoiceDate <= '{end_date}'\"\n",
    "    \n",
    "    return db.run(f\"\"\"\n",
    "        SELECT strftime('%Y-%m', InvoiceDate) as Month, \n",
    "               SUM(Total) as MonthlyTotal,\n",
    "               COUNT(InvoiceId) as PurchaseCount\n",
    "        FROM invoices\n",
    "        WHERE CustomerId = {customer_id} {date_filter}\n",
    "        GROUP BY strftime('%Y-%m', InvoiceDate)\n",
    "        ORDER BY Month DESC;\n",
    "    \"\"\", include_columns=True)\n",
    "\n",
    "\n",
    "#### Preferences for generes and artists\n",
    "@tool\n",
    "def get_customer_top_genres(customer_id: int, limit: int = 5):\n",
    "    \"\"\"Identify a customer's favorite genres based on purchase history.\"\"\"\n",
    "    return db.run(f\"\"\"\n",
    "        SELECT g.Name as Genre, COUNT(ii.InvoiceLineId) as PurchaseCount\n",
    "        FROM invoice_items ii\n",
    "        JOIN invoices i ON ii.InvoiceId = i.InvoiceId\n",
    "        JOIN tracks t ON ii.TrackId = t.TrackId\n",
    "        JOIN genres g ON t.GenreId = g.GenreId\n",
    "        WHERE i.CustomerId = {customer_id}\n",
    "        GROUP BY g.GenreId\n",
    "        ORDER BY PurchaseCount DESC\n",
    "        LIMIT {limit};\n",
    "    \"\"\", include_columns=True)\n",
    "\n",
    "@tool\n",
    "def get_customer_top_artists(customer_id: int, limit: int = 5):\n",
    "    \"\"\"Identify a customer's favorite artists based on purchase history.\"\"\"\n",
    "    return db.run(f\"\"\"\n",
    "        SELECT ar.Name as Artist, COUNT(ii.InvoiceLineId) as PurchaseCount,\n",
    "               SUM(ii.UnitPrice) as TotalSpent\n",
    "        FROM invoice_items ii\n",
    "        JOIN invoices i ON ii.InvoiceId = i.InvoiceId\n",
    "        JOIN tracks t ON ii.TrackId = t.TrackId\n",
    "        JOIN albums al ON t.AlbumId = al.AlbumId\n",
    "        JOIN artists ar ON al.ArtistId = ar.ArtistId\n",
    "        WHERE i.CustomerId = {customer_id}\n",
    "        GROUP BY ar.ArtistId\n",
    "        ORDER BY PurchaseCount DESC\n",
    "        LIMIT {limit};\n",
    "    \"\"\", include_columns=True)"
   ]
  },
  {
   "cell_type": "code",
   "execution_count": 20,
   "id": "ec755f94-81f2-4144-bc93-e5795b4fb09e",
   "metadata": {},
   "outputs": [],
   "source": [
    "invoice_tools = [\n",
    "    get_customer_invoices,\n",
    "    get_invoice_details,\n",
    "    check_track_purchase_history,\n",
    "    get_spending_history,\n",
    "    get_customer_top_genres,\n",
    "    get_customer_top_artists\n",
    "]"
   ]
  },
  {
   "cell_type": "markdown",
   "id": "73eb36a8-146a-4489-a9d2-8f34497244c4",
   "metadata": {},
   "source": [
    "### LLM with Tools"
   ]
  },
  {
   "cell_type": "code",
   "execution_count": 10,
   "id": "57a70af4-730a-4261-a1a6-4b73857786da",
   "metadata": {},
   "outputs": [],
   "source": [
    "@tool\n",
    "def get_albums_by_artist(artist: str):\n",
    "    \"\"\"Get albums by an artist (or similar artists).\"\"\"\n",
    "    print(\"T\" * 50)\n",
    "    print(\"get_albums_by_artist tool called\")\n",
    "    print(\"T\" * 50)\n",
    "    docs = artist_retriever.get_relevant_documents(artist)\n",
    "    artist_ids = \", \".join([str(d.metadata['ArtistId']) for d in docs])\n",
    "    return db.run(\n",
    "        f\"SELECT Title, Name as ArtistName FROM albums LEFT JOIN artists ON albums.ArtistId = artists.ArtistId WHERE albums.ArtistId in ({artist_ids});\",\n",
    "        include_columns=True)\n",
    "\n",
    "\n",
    "@tool\n",
    "def get_tracks_by_artist(artist: str):\n",
    "    \"\"\"Get songs by an artist (or similar artists).\"\"\"\n",
    "    print(\"T\" * 50)\n",
    "    print(\"get_tracks_by_artist tool called\")\n",
    "    print(\"T\" * 50)\n",
    "    docs = artist_retriever.get_relevant_documents(artist)\n",
    "    artist_ids = \", \".join([str(d.metadata['ArtistId']) for d in docs])\n",
    "    return db.run(\n",
    "        f\"SELECT tracks.Name as SongName, artists.Name as ArtistName FROM albums LEFT JOIN artists ON albums.ArtistId = artists.ArtistId LEFT JOIN tracks ON tracks.AlbumId = albums.AlbumId WHERE albums.ArtistId in ({artist_ids});\",\n",
    "        include_columns=True)\n",
    "\n",
    "\n",
    "@tool\n",
    "def search_songs(song_title: str):\n",
    "    \"\"\"Search for songs by title.\"\"\"\n",
    "    print(\"T\" * 50)\n",
    "    print(\"search_songs tool called\")\n",
    "    print(\"T\" * 50)\n",
    "    docs = song_retriever.get_relevant_documents(song_title)\n",
    "    return [{\"Title\": doc.page_content, \"TrackId\": doc.metadata[\"TrackId\"]} for doc in docs[:5]]\n",
    "\n",
    "\n",
    "@tool\n",
    "def get_similar_music(genre: str, artist: str = \"\"):\n",
    "    \"\"\"Get music recommendations based on genre and optionally artist.\"\"\"\n",
    "    print(\"T\" * 50)\n",
    "    print(\"get_similar_music tool called\")\n",
    "    print(\"T\" * 50)\n",
    "    # Find genre ID\n",
    "    genre_query = f\"\"\"\n",
    "    SELECT GenreId FROM genres \n",
    "    WHERE Name LIKE '%{genre}%' \n",
    "    LIMIT 1\n",
    "    \"\"\"\n",
    "    genre_result = db.run(genre_query)\n",
    "\n",
    "    if not genre_result:\n",
    "        return f\"No genre found matching '{genre}'\"\n",
    "\n",
    "    genre_id = genre_result.split('|')[0].strip()\n",
    "\n",
    "    # Get tracks in that genre, optionally filtering by artist\n",
    "    artist_filter = \"\"\n",
    "    if artist:\n",
    "        docs = artist_retriever.get_relevant_documents(artist)\n",
    "        if docs:\n",
    "            artist_ids = \", \".join([str(d.metadata['ArtistId']) for d in docs])\n",
    "            artist_filter = f\"AND albums.ArtistId IN ({artist_ids})\"\n",
    "\n",
    "    query = f\"\"\"\n",
    "    SELECT tracks.Name as TrackName, artists.Name as ArtistName, albums.Title as AlbumTitle\n",
    "    FROM tracks\n",
    "    JOIN albums ON tracks.AlbumId = albums.AlbumId\n",
    "    JOIN artists ON albums.ArtistId = artists.ArtistId\n",
    "    WHERE tracks.GenreId = {genre_id} {artist_filter}\n",
    "    ORDER BY RANDOM()\n",
    "    LIMIT 5\n",
    "    \"\"\"\n",
    "\n",
    "    return db.run(query, include_columns=True)"
   ]
  },
  {
   "cell_type": "code",
   "execution_count": 21,
   "id": "8d04d1cb-0311-4888-880f-60bdf8715aed",
   "metadata": {},
   "outputs": [],
   "source": [
    "tools = [\n",
    "    get_albums_by_artist,\n",
    "    get_tracks_by_artist,\n",
    "    search_songs,\n",
    "    get_similar_music\n",
    "]\n",
    "music_recommendation_model = ChatOpenAI(temperature=0, model_name=\"gpt-4o-mini\")\n",
    "# music_recommendation_model_with_tools = music_recommendation_model.bind_tools(tools)\n",
    "music_recommendation_model_with_tools = music_recommendation_model.bind_tools(invoice_tools)"
   ]
  },
  {
   "cell_type": "markdown",
   "id": "781501e2-ea87-476c-93ad-aef654660986",
   "metadata": {},
   "source": [
    "### Graph Definition"
   ]
  },
  {
   "cell_type": "code",
   "execution_count": 23,
   "id": "da9ff5d9-9d19-48b0-94f3-e9610e201494",
   "metadata": {},
   "outputs": [],
   "source": [
    "# Music Recommendation Agent\n",
    "music_system_message = \"\"\"You are a music specialist at a music store.\n",
    "You can help customers:\n",
    "1. Search for their past invoices\n",
    "2. Help determine what type of music they have listened to in the past\n",
    "3. Help users figure out how much money they have spent in the past and on what\n",
    "\n",
    "Always be conversational and enthusiastic about music. If you don't find exactly what they're looking for, suggest alternatives.\n",
    "\"\"\"\n",
    "\n",
    "\n",
    "other_message = \"\"\"\n",
    "1. Find music by specific artists\n",
    "2. Discover new songs similar to their interests\n",
    "3. Search for specific tracks\n",
    "4. Get recommendations based on genres\n",
    "\"\"\"\n",
    "\n",
    "\n",
    "def handle_music_query(state: MusicStoreChatbotState):\n",
    "    \"\"\"Handle music-related queries\"\"\"\n",
    "    print(\"Processing music query...\")\n",
    "    \n",
    "    # Build messages for the music agent\n",
    "    messages = [SystemMessage(content=music_system_message)]\n",
    "    # Add some conversation context\n",
    "    context_messages = state[\"messages\"][-5:] if len(state[\"messages\"]) > 5 else state[\"messages\"]\n",
    "    messages.extend(context_messages)\n",
    "\n",
    "    # Let the agent determine what to do next\n",
    "    response = music_recommendation_model_with_tools.invoke(messages)\n",
    "    print(f\"Music agent: {response.content}\")\n",
    "\n",
    "    return {\n",
    "        \"messages\": state[\"messages\"] + [response]\n",
    "    }"
   ]
  },
  {
   "cell_type": "code",
   "execution_count": 24,
   "id": "dca4fb96-3232-4c0f-8266-eadaff09bc16",
   "metadata": {},
   "outputs": [],
   "source": [
    "music_recommendation_graph_builder = StateGraph(MusicStoreChatbotState)\n",
    "\n",
    "music_recommendation_graph_builder.add_node(\"handle_music_query\", handle_music_query)\n",
    "music_recommendation_graph_builder.add_node(\"tools\", ToolNode(invoice_tools))\n",
    "\n",
    "# Add the starting edge\n",
    "music_recommendation_graph_builder.add_edge(START, \"handle_music_query\")\n",
    "music_recommendation_graph_builder.add_conditional_edges(\n",
    "    \"handle_music_query\",\n",
    "    # If the latest message (result) from assistant is a tool call -> tools_condition routes to tools\n",
    "    # If the latest message (result) from assistant is a not a tool call -> tools_condition routes to END\n",
    "    tools_condition,\n",
    ")\n",
    "music_recommendation_graph_builder.add_edge(\"tools\", \"handle_music_query\")\n",
    "music_recommendation_graph_builder.add_edge(\"handle_music_query\", END)\n",
    "\n",
    "memory = MemorySaver()\n",
    "# Can hard-code interruptions  using `builder.compile(interrupt_before=[\"tools\"], checkpointer=memory)`\n",
    "music_recommendation_graph = music_recommendation_graph_builder.compile(checkpointer=memory)"
   ]
  },
  {
   "cell_type": "code",
   "execution_count": 25,
   "id": "bc8d9707-f866-46a8-87bd-5d404f34ad5e",
   "metadata": {},
   "outputs": [
    {
     "data": {
      "image/png": "[encoded data removed]",
      "text/plain": [
       "<IPython.core.display.Image object>"
      ]
     },
     "metadata": {},
     "output_type": "display_data"
    }
   ],
   "source": [
    "display(Image(music_recommendation_graph.get_graph().draw_mermaid_png()))"
   ]
  },
  {
   "cell_type": "markdown",
   "id": "f67c0c02-4d67-4e64-80a5-d05481cfb96b",
   "metadata": {},
   "source": [
    "### Invoice tools tests"
   ]
  },
  {
   "cell_type": "code",
   "execution_count": 28,
   "id": "b464f9b6-71a4-456b-8083-b9b1224751bc",
   "metadata": {},
   "outputs": [
    {
     "name": "stdout",
     "output_type": "stream",
     "text": [
      "Processing music query...\n",
      "Music agent: \n",
      "Processing music query...\n",
      "Music agent: Your music preferences are really interesting! 🎶 Here's what I found:\n",
      "\n",
      "### Top Genres:\n",
      "1. **Rock** - 17 purchases\n",
      "2. **Blues** - 9 purchases\n",
      "3. **Latin** - 4 purchases\n",
      "4. **Soundtrack** - 3 purchases\n",
      "5. **Alternative & Punk** - 2 purchases\n",
      "\n",
      "### Top Artists:\n",
      "1. **Eric Clapton** - 6 purchases, totaling about $5.94\n",
      "2. **Pearl Jam** - 5 purchases, totaling about $4.95\n",
      "3. **Buddy Guy** - 3 purchases, totaling about $2.97\n",
      "4. **U2** - 2 purchases, totaling about $1.98\n",
      "5. **Paul D'Ianno** - 2 purchases, totaling about $1.98\n",
      "\n",
      "It looks like you have a strong affinity for Rock and Blues! If you're looking for new music or artists in those genres, I’d be happy to help you discover some fresh tunes! 🎸\n"
     ]
    },
    {
     "data": {
      "text/plain": [
       "{'messages': [HumanMessage(content='Hey, what are my most recent purchases?', additional_kwargs={}, response_metadata={}, id='7205b61e-b255-4ef0-8d62-ca0639bf09bf'),\n",
       "  AIMessage(content='I can help you with that! Could you please provide me with your customer ID?', additional_kwargs={'refusal': None}, response_metadata={'token_usage': {'completion_tokens': 19, 'prompt_tokens': 334, 'total_tokens': 353, 'completion_tokens_details': {'accepted_prediction_tokens': 0, 'audio_tokens': 0, 'reasoning_tokens': 0, 'rejected_prediction_tokens': 0}, 'prompt_tokens_details': {'audio_tokens': 0, 'cached_tokens': 0}}, 'model_name': 'gpt-4o-mini-2024-07-18', 'system_fingerprint': 'fp_06737a9306', 'finish_reason': 'stop', 'logprobs': None}, id='run-33e92460-b2a0-46ab-805c-4562aaedab42-0', usage_metadata={'input_tokens': 334, 'output_tokens': 19, 'total_tokens': 353, 'input_token_details': {'audio': 0, 'cache_read': 0}, 'output_token_details': {'audio': 0, 'reasoning': 0}}),\n",
       "  HumanMessage(content='Hey, what are my most recent purchases? My customer ID is 2', additional_kwargs={}, response_metadata={}, id='806b6326-a4d0-4f1b-8487-a5d7e860fd45'),\n",
       "  AIMessage(content='', additional_kwargs={'tool_calls': [{'id': 'call_Rcb6wHWM5fqBCzpeYLjKlMVv', 'function': {'arguments': '{\"customer_id\":2}', 'name': 'get_customer_invoices'}, 'type': 'function'}], 'refusal': None}, response_metadata={'token_usage': {'completion_tokens': 18, 'prompt_tokens': 374, 'total_tokens': 392, 'completion_tokens_details': {'accepted_prediction_tokens': 0, 'audio_tokens': 0, 'reasoning_tokens': 0, 'rejected_prediction_tokens': 0}, 'prompt_tokens_details': {'audio_tokens': 0, 'cached_tokens': 0}}, 'model_name': 'gpt-4o-mini-2024-07-18', 'system_fingerprint': 'fp_06737a9306', 'finish_reason': 'tool_calls', 'logprobs': None}, id='run-092b476d-7f55-4df8-81e9-4610f84108b8-0', tool_calls=[{'name': 'get_customer_invoices', 'args': {'customer_id': 2}, 'id': 'call_Rcb6wHWM5fqBCzpeYLjKlMVv', 'type': 'tool_call'}], usage_metadata={'input_tokens': 374, 'output_tokens': 18, 'total_tokens': 392, 'input_token_details': {'audio': 0, 'cache_read': 0}, 'output_token_details': {'audio': 0, 'reasoning': 0}}),\n",
       "  ToolMessage(content=\"[{'InvoiceId': 293, 'InvoiceDate': '2012-07-13 00:00:00', 'Total': 0.99}, {'InvoiceId': 241, 'InvoiceDate': '2011-11-23 00:00:00', 'Total': 5.94}, {'InvoiceId': 219, 'InvoiceDate': '2011-08-21 00:00:00', 'Total': 3.96}, {'InvoiceId': 196, 'InvoiceDate': '2011-05-19 00:00:00', 'Total': 1.98}, {'InvoiceId': 67, 'InvoiceDate': '2009-10-12 00:00:00', 'Total': 8.91}, {'InvoiceId': 12, 'InvoiceDate': '2009-02-11 00:00:00', 'Total': 13.86}, {'InvoiceId': 1, 'InvoiceDate': '2009-01-01 00:00:00', 'Total': 1.98}]\", name='get_customer_invoices', id='ff6efdd7-a609-447e-9231-34a702b2d73b', tool_call_id='call_Rcb6wHWM5fqBCzpeYLjKlMVv'),\n",
       "  AIMessage(content='Here are your most recent purchases:\\n\\n1. **Invoice ID:** 293\\n   - **Date:** July 13, 2012\\n   - **Total:** $0.99\\n\\n2. **Invoice ID:** 241\\n   - **Date:** November 23, 2011\\n   - **Total:** $5.94\\n\\n3. **Invoice ID:** 219\\n   - **Date:** August 21, 2011\\n   - **Total:** $3.96\\n\\n4. **Invoice ID:** 196\\n   - **Date:** May 19, 2011\\n   - **Total:** $1.98\\n\\n5. **Invoice ID:** 67\\n   - **Date:** October 12, 2009\\n   - **Total:** $8.91\\n\\n6. **Invoice ID:** 12\\n   - **Date:** February 11, 2009\\n   - **Total:** $13.86\\n\\n7. **Invoice ID:** 1\\n   - **Date:** January 1, 2009\\n   - **Total:** $1.98\\n\\nIf you want more details about any specific invoice, just let me know! 🎶', additional_kwargs={'refusal': None}, response_metadata={'token_usage': {'completion_tokens': 250, 'prompt_tokens': 633, 'total_tokens': 883, 'completion_tokens_details': {'accepted_prediction_tokens': 0, 'audio_tokens': 0, 'reasoning_tokens': 0, 'rejected_prediction_tokens': 0}, 'prompt_tokens_details': {'audio_tokens': 0, 'cached_tokens': 0}}, 'model_name': 'gpt-4o-mini-2024-07-18', 'system_fingerprint': 'fp_06737a9306', 'finish_reason': 'stop', 'logprobs': None}, id='run-db302bd5-3a1f-4758-a3f5-b4da4968e725-0', usage_metadata={'input_tokens': 633, 'output_tokens': 250, 'total_tokens': 883, 'input_token_details': {'audio': 0, 'cache_read': 0}, 'output_token_details': {'audio': 0, 'reasoning': 0}}),\n",
       "  HumanMessage(content='Hey, what can you tell me about my music preferences? My customer ID is 2', additional_kwargs={}, response_metadata={}, id='7e2e4ec7-018b-4719-8370-e95510065503'),\n",
       "  AIMessage(content='', additional_kwargs={'tool_calls': [{'id': 'call_7Mo6QEExsROmqRNiKcrRi7K4', 'function': {'arguments': '{\"customer_id\": 2}', 'name': 'get_customer_top_genres'}, 'type': 'function'}, {'id': 'call_pMH0jkeUXxxGL0vRjUxjKyKL', 'function': {'arguments': '{\"customer_id\": 2}', 'name': 'get_customer_top_artists'}, 'type': 'function'}], 'refusal': None}, response_metadata={'token_usage': {'completion_tokens': 53, 'prompt_tokens': 873, 'total_tokens': 926, 'completion_tokens_details': {'accepted_prediction_tokens': 0, 'audio_tokens': 0, 'reasoning_tokens': 0, 'rejected_prediction_tokens': 0}, 'prompt_tokens_details': {'audio_tokens': 0, 'cached_tokens': 0}}, 'model_name': 'gpt-4o-mini-2024-07-18', 'system_fingerprint': 'fp_06737a9306', 'finish_reason': 'tool_calls', 'logprobs': None}, id='run-9bc1fabc-fd74-4e7a-ab30-65b1276d8b34-0', tool_calls=[{'name': 'get_customer_top_genres', 'args': {'customer_id': 2}, 'id': 'call_7Mo6QEExsROmqRNiKcrRi7K4', 'type': 'tool_call'}, {'name': 'get_customer_top_artists', 'args': {'customer_id': 2}, 'id': 'call_pMH0jkeUXxxGL0vRjUxjKyKL', 'type': 'tool_call'}], usage_metadata={'input_tokens': 873, 'output_tokens': 53, 'total_tokens': 926, 'input_token_details': {'audio': 0, 'cache_read': 0}, 'output_token_details': {'audio': 0, 'reasoning': 0}}),\n",
       "  ToolMessage(content=\"[{'Genre': 'Rock', 'PurchaseCount': 17}, {'Genre': 'Blues', 'PurchaseCount': 9}, {'Genre': 'Latin', 'PurchaseCount': 4}, {'Genre': 'Soundtrack', 'PurchaseCount': 3}, {'Genre': 'Alternative & Punk', 'PurchaseCount': 2}]\", name='get_customer_top_genres', id='fbbbe4cb-7df0-4bd5-9764-fe8a0da0ac1b', tool_call_id='call_7Mo6QEExsROmqRNiKcrRi7K4'),\n",
       "  ToolMessage(content='[{\\'Artist\\': \\'Eric Clapton\\', \\'PurchaseCount\\': 6, \\'TotalSpent\\': 5.9399999999999995}, {\\'Artist\\': \\'Pearl Jam\\', \\'PurchaseCount\\': 5, \\'TotalSpent\\': 4.95}, {\\'Artist\\': \\'Buddy Guy\\', \\'PurchaseCount\\': 3, \\'TotalSpent\\': 2.9699999999999998}, {\\'Artist\\': \\'U2\\', \\'PurchaseCount\\': 2, \\'TotalSpent\\': 1.98}, {\\'Artist\\': \"Paul D\\'Ianno\", \\'PurchaseCount\\': 2, \\'TotalSpent\\': 1.98}]', name='get_customer_top_artists', id='7a62ce9a-ba97-43c4-b8c5-f4089f5b4f22', tool_call_id='call_pMH0jkeUXxxGL0vRjUxjKyKL'),\n",
       "  AIMessage(content=\"Your music preferences are really interesting! 🎶 Here's what I found:\\n\\n### Top Genres:\\n1. **Rock** - 17 purchases\\n2. **Blues** - 9 purchases\\n3. **Latin** - 4 purchases\\n4. **Soundtrack** - 3 purchases\\n5. **Alternative & Punk** - 2 purchases\\n\\n### Top Artists:\\n1. **Eric Clapton** - 6 purchases, totaling about $5.94\\n2. **Pearl Jam** - 5 purchases, totaling about $4.95\\n3. **Buddy Guy** - 3 purchases, totaling about $2.97\\n4. **U2** - 2 purchases, totaling about $1.98\\n5. **Paul D'Ianno** - 2 purchases, totaling about $1.98\\n\\nIt looks like you have a strong affinity for Rock and Blues! If you're looking for new music or artists in those genres, I’d be happy to help you discover some fresh tunes! 🎸\", additional_kwargs={'refusal': None}, response_metadata={'token_usage': {'completion_tokens': 211, 'prompt_tokens': 860, 'total_tokens': 1071, 'completion_tokens_details': {'accepted_prediction_tokens': 0, 'audio_tokens': 0, 'reasoning_tokens': 0, 'rejected_prediction_tokens': 0}, 'prompt_tokens_details': {'audio_tokens': 0, 'cached_tokens': 0}}, 'model_name': 'gpt-4o-mini-2024-07-18', 'system_fingerprint': 'fp_06737a9306', 'finish_reason': 'stop', 'logprobs': None}, id='run-7bef8cd3-b704-459d-85a5-96bd3bdd81c5-0', usage_metadata={'input_tokens': 860, 'output_tokens': 211, 'total_tokens': 1071, 'input_token_details': {'audio': 0, 'cache_read': 0}, 'output_token_details': {'audio': 0, 'reasoning': 0}})],\n",
       " 'customer_id': 2,\n",
       " 'current_mode': 'router'}"
      ]
     },
     "execution_count": 28,
     "metadata": {},
     "output_type": "execute_result"
    }
   ],
   "source": [
    "# Define a thread config dictionary\n",
    "thread_config = {\"configurable\": {\"thread_id\": \"invoice-1\"}}\n",
    "\n",
    "# Then use it in your invoke call\n",
    "music_recommendation_graph.invoke(\n",
    "    {\"messages\": [HumanMessage(content=\"Hey, what can you tell me about my music preferences? My customer ID is 2\")], \n",
    "     \"current_mode\": \"router\", \n",
    "     \"customer_id\": 2}, \n",
    "    thread_config\n",
    ")"
   ]
  },
  {
   "cell_type": "markdown",
   "id": "81cc074f-0fba-4a38-9441-e29a111e5f6b",
   "metadata": {},
   "source": [
    "### Test"
   ]
  },
  {
   "cell_type": "code",
   "execution_count": 15,
   "id": "c7cdd3c8-3bff-495e-b3f6-0d993e2aaecd",
   "metadata": {},
   "outputs": [
    {
     "name": "stdout",
     "output_type": "stream",
     "text": [
      "Processing music query...\n",
      "Music agent: \n",
      "TTTTTTTTTTTTTTTTTTTTTTTTTTTTTTTTTTTTTTTTTTTTTTTTTT\n",
      "get_albums_by_artist tool called\n",
      "TTTTTTTTTTTTTTTTTTTTTTTTTTTTTTTTTTTTTTTTTTTTTTTTTT\n"
     ]
    },
    {
     "name": "stderr",
     "output_type": "stream",
     "text": [
      "/var/folders/h0/6_6mqq755ks82f6p8nvrzqlr0000gn/T/ipykernel_92700/1872880502.py:7: LangChainDeprecationWarning: The method `BaseRetriever.get_relevant_documents` was deprecated in langchain-core 0.1.46 and will be removed in 1.0. Use :meth:`~invoke` instead.\n",
      "  docs = artist_retriever.get_relevant_documents(artist)\n"
     ]
    },
    {
     "name": "stdout",
     "output_type": "stream",
     "text": [
      "Processing music query...\n",
      "Music agent: Amy Winehouse has some incredible albums that you should definitely check out! Here are her main works:\n",
      "\n",
      "1. **Frank** - This was her debut album, showcasing her unique blend of jazz, soul, and R&B.\n",
      "2. **Back to Black** - This is her iconic second album, featuring hits like \"Rehab\" and \"You Know I'm No Good.\"\n",
      "\n",
      "Both albums highlight her powerful voice and emotional depth. If you haven't listened to them yet, you're in for a treat! Would you like to know more about specific songs from these albums?\n"
     ]
    },
    {
     "data": {
      "text/plain": [
       "{'messages': [HumanMessage(content='Hey, recommend music by Amy Winehouse', additional_kwargs={}, response_metadata={}, id='5eca98a8-6d8d-4f94-b012-21f40af3cccf'),\n",
       "  AIMessage(content='', additional_kwargs={'tool_calls': [{'id': 'call_UkZH7KKIMG7DDPuOuRU1KJse', 'function': {'arguments': '{\"artist\":\"Amy Winehouse\"}', 'name': 'get_albums_by_artist'}, 'type': 'function'}], 'refusal': None}, response_metadata={'token_usage': {'completion_tokens': 20, 'prompt_tokens': 210, 'total_tokens': 230, 'completion_tokens_details': {'accepted_prediction_tokens': 0, 'audio_tokens': 0, 'reasoning_tokens': 0, 'rejected_prediction_tokens': 0}, 'prompt_tokens_details': {'audio_tokens': 0, 'cached_tokens': 0}}, 'model_name': 'gpt-4o-mini-2024-07-18', 'system_fingerprint': 'fp_06737a9306', 'finish_reason': 'tool_calls', 'logprobs': None}, id='run-6ff86126-5a4c-4f2d-86c1-5a042fb9e5ea-0', tool_calls=[{'name': 'get_albums_by_artist', 'args': {'artist': 'Amy Winehouse'}, 'id': 'call_UkZH7KKIMG7DDPuOuRU1KJse', 'type': 'tool_call'}], usage_metadata={'input_tokens': 210, 'output_tokens': 20, 'total_tokens': 230, 'input_token_details': {'audio': 0, 'cache_read': 0}, 'output_token_details': {'audio': 0, 'reasoning': 0}}),\n",
       "  ToolMessage(content=\"[{'Title': 'Jagged Little Pill', 'ArtistName': 'Alanis Morissette'}, {'Title': 'Audioslave', 'ArtistName': 'Audioslave'}, {'Title': 'Out Of Exile', 'ArtistName': 'Audioslave'}, {'Title': 'Revelations', 'ArtistName': 'Audioslave'}, {'Title': 'Bark at the Moon (Remastered)', 'ArtistName': 'Ozzy Osbourne'}, {'Title': 'Blizzard of Ozz', 'ArtistName': 'Ozzy Osbourne'}, {'Title': 'Diary of a Madman (Remastered)', 'ArtistName': 'Ozzy Osbourne'}, {'Title': 'No More Tears (Remastered)', 'ArtistName': 'Ozzy Osbourne'}, {'Title': 'Tribute', 'ArtistName': 'Ozzy Osbourne'}, {'Title': 'Speak of the Devil', 'ArtistName': 'Ozzy Osbourne'}, {'Title': 'Back to Black', 'ArtistName': 'Amy Winehouse'}, {'Title': 'Frank', 'ArtistName': 'Amy Winehouse'}]\", name='get_albums_by_artist', id='d152f3b8-7a59-496a-a18d-2c8b42536dfe', tool_call_id='call_UkZH7KKIMG7DDPuOuRU1KJse'),\n",
       "  AIMessage(content='Amy Winehouse has some incredible albums that you should definitely check out! Here are her main works:\\n\\n1. **Frank** - This was her debut album, showcasing her unique blend of jazz, soul, and R&B.\\n2. **Back to Black** - This is her iconic second album, featuring hits like \"Rehab\" and \"You Know I\\'m No Good.\"\\n\\nBoth albums highlight her powerful voice and emotional depth. If you haven\\'t listened to them yet, you\\'re in for a treat! Would you like to know more about specific songs from these albums?', additional_kwargs={'refusal': None}, response_metadata={'token_usage': {'completion_tokens': 114, 'prompt_tokens': 473, 'total_tokens': 587, 'completion_tokens_details': {'accepted_prediction_tokens': 0, 'audio_tokens': 0, 'reasoning_tokens': 0, 'rejected_prediction_tokens': 0}, 'prompt_tokens_details': {'audio_tokens': 0, 'cached_tokens': 0}}, 'model_name': 'gpt-4o-mini-2024-07-18', 'system_fingerprint': 'fp_06737a9306', 'finish_reason': 'stop', 'logprobs': None}, id='run-657b4419-33de-4085-9491-15adfec98eee-0', usage_metadata={'input_tokens': 473, 'output_tokens': 114, 'total_tokens': 587, 'input_token_details': {'audio': 0, 'cache_read': 0}, 'output_token_details': {'audio': 0, 'reasoning': 0}})],\n",
       " 'customer_id': None,\n",
       " 'current_mode': 'router'}"
      ]
     },
     "execution_count": 15,
     "metadata": {},
     "output_type": "execute_result"
    }
   ],
   "source": [
    "# Define a thread config dictionary\n",
    "thread_config = {\"configurable\": {\"thread_id\": \"1\"}}\n",
    "\n",
    "# Then use it in your invoke call\n",
    "music_recommendation_graph.invoke(\n",
    "    {\"messages\": [HumanMessage(content=\"Hey, recommend music by Amy Winehouse\")], \n",
    "     \"current_mode\": \"router\", \n",
    "     \"customer_id\": None}, \n",
    "    thread_config\n",
    ")"
   ]
  },
  {
   "cell_type": "code",
   "execution_count": 16,
   "id": "99f397bf-5460-4ff1-a850-d2e6acbc830e",
   "metadata": {},
   "outputs": [
    {
     "name": "stdout",
     "output_type": "stream",
     "text": [
      "Processing music query...\n",
      "Music agent: \n",
      "TTTTTTTTTTTTTTTTTTTTTTTTTTTTTTTTTTTTTTTTTTTTTTTTTT\n",
      "get_tracks_by_artist tool called\n",
      "TTTTTTTTTTTTTTTTTTTTTTTTTTTTTTTTTTTTTTTTTTTTTTTTTT\n",
      "Processing music query...\n",
      "Music agent: Here are some fantastic songs by Green Day that you might enjoy:\n",
      "\n",
      "1. **Maria**\n",
      "2. **Poprocks And Coke**\n",
      "3. **Longview**\n",
      "4. **Welcome To Paradise**\n",
      "5. **Basket Case**\n",
      "6. **When I Come Around**\n",
      "7. **She**\n",
      "8. **J.A.R. (Jason Andrew Relva)**\n",
      "9. **Geek Stink Breath**\n",
      "10. **Brain Stew**\n",
      "11. **Jaded**\n",
      "12. **Walking Contradiction**\n",
      "13. **Stuck With Me**\n",
      "14. **Hitchin' A Ride**\n",
      "15. **Good Riddance (Time Of Your Life)**\n",
      "16. **Redundant**\n",
      "17. **Nice Guys Finish Last**\n",
      "18. **Minority**\n",
      "19. **Warning**\n",
      "20. **Waiting**\n",
      "21. **Macy's Day Parade**\n",
      "22. **American Idiot**\n",
      "23. **Holiday**\n",
      "24. **Boulevard Of Broken Dreams**\n",
      "25. **Wake Me Up When September Ends**\n",
      "\n",
      "And many more! If you have a specific song in mind or want to explore more about their albums, just let me know! 🎶\n"
     ]
    }
   ],
   "source": [
    "# Define a thread config dictionary\n",
    "thread_config = {\"configurable\": {\"thread_id\": \"2\"}}\n",
    "\n",
    "# Then use it in your invoke call\n",
    "response = music_recommendation_graph.invoke(\n",
    "    {\"messages\": [HumanMessage(content=\"Hey, recommend songs by Green Day\")], \n",
    "     \"current_mode\": \"router\", \n",
    "     \"customer_id\": None}, \n",
    "    thread_config\n",
    ")"
   ]
  },
  {
   "cell_type": "code",
   "execution_count": 17,
   "id": "ec3b7c49-55be-45aa-81bc-70608d76fa4b",
   "metadata": {},
   "outputs": [
    {
     "name": "stdout",
     "output_type": "stream",
     "text": [
      "Processing music query...\n",
      "Music agent: \n",
      "TTTTTTTTTTTTTTTTTTTTTTTTTTTTTTTTTTTTTTTTTTTTTTTTTT\n",
      "search_songs tool called\n",
      "TTTTTTTTTTTTTTTTTTTTTTTTTTTTTTTTTTTTTTTTTTTTTTTTTT\n",
      "Processing music query...\n",
      "Music agent: Yes! \"Boulevard Of Broken Dreams\" is available. Would you like to know more about it, or are you interested in purchasing it? Let me know how I can help!\n"
     ]
    }
   ],
   "source": [
    "# Define a thread config dictionary\n",
    "thread_config = {\"configurable\": {\"thread_id\": \"3\"}}\n",
    "\n",
    "# Then use it in your invoke call\n",
    "response = music_recommendation_graph.invoke(\n",
    "    {\"messages\": [HumanMessage(content=\"Hey, is Boulevard Of Broken Dreams available for purchase?\")], \n",
    "     \"current_mode\": \"router\", \n",
    "     \"customer_id\": None}, \n",
    "    thread_config\n",
    ")"
   ]
  },
  {
   "cell_type": "code",
   "execution_count": 18,
   "id": "905874d8-d0b2-4b51-b005-34526a4253e7",
   "metadata": {},
   "outputs": [
    {
     "name": "stdout",
     "output_type": "stream",
     "text": [
      "Processing music query...\n",
      "Music agent: \n",
      "TTTTTTTTTTTTTTTTTTTTTTTTTTTTTTTTTTTTTTTTTTTTTTTTTT\n",
      "get_tracks_by_artist tool called\n",
      "TTTTTTTTTTTTTTTTTTTTTTTTTTTTTTTTTTTTTTTTTTTTTTTTTT\n",
      "TTTTTTTTTTTTTTTTTTTTTTTTTTTTTTTTTTTTTTTTTTTTTTTTTT\n",
      "get_albums_by_artist tool called\n",
      "TTTTTTTTTTTTTTTTTTTTTTTTTTTTTTTTTTTTTTTTTTTTTTTTTT\n",
      "TTTTTTTTTTTTTTTTTTTTTTTTTTTTTTTTTTTTTTTTTTTTTTTTTT\n",
      "get_similar_music tool called\n",
      "TTTTTTTTTTTTTTTTTTTTTTTTTTTTTTTTTTTTTTTTTTTTTTTTTT\n",
      "Processing music query...\n",
      "Music agent: Awesome choice with \"Boulevard Of Broken Dreams\"! It's such a powerful song. Here are some recommendations for you:\n",
      "\n",
      "### Songs by Green Day:\n",
      "1. **\"Basket Case\"**\n",
      "2. **\"Wake Me Up When September Ends\"**\n",
      "3. **\"American Idiot\"**\n",
      "4. **\"Longview\"**\n",
      "5. **\"Good Riddance (Time Of Your Life)\"**\n",
      "6. **\"Holiday\"**\n",
      "7. **\"Brain Stew\"**\n",
      "8. **\"She\"**\n",
      "\n",
      "### Albums by Green Day:\n",
      "1. **\"American Idiot\"**\n",
      "2. **\"International Superhits\"**\n",
      "3. **\"Dookie\"**\n",
      "4. **\"Nimrod\"**\n",
      "5. **\"21st Century Breakdown\"**\n",
      "\n",
      "### Similar Artists and Songs:\n",
      "If you're looking for something in a similar vibe, you might enjoy tracks from **Foo Fighters** and **Smashing Pumpkins**. Here are some standout songs from them:\n",
      "- **Foo Fighters**: \n",
      "  - \"Best Of You\"\n",
      "  - \"Everlong\"\n",
      "  - \"All My Life\"\n",
      "- **Smashing Pumpkins**:\n",
      "  - \"1979\"\n",
      "  - \"Bullet With Butterfly Wings\"\n",
      "  - \"Tonight, Tonight\"\n",
      "\n",
      "These tracks and albums should keep your playlist fresh and exciting! If you want more specific recommendations or have a different genre in mind, just let me know! 🎶\n"
     ]
    }
   ],
   "source": [
    "# Define a thread config dictionary\n",
    "thread_config = {\"configurable\": {\"thread_id\": \"4\"}}\n",
    "\n",
    "# Then use it in your invoke call\n",
    "response = music_recommendation_graph.invoke(\n",
    "    {\"messages\": [HumanMessage(content=\"Hey, I like Boulevard Of Broken Dreams. What other albums and songs would you recommend?\")], \n",
    "     \"current_mode\": \"router\", \n",
    "     \"customer_id\": None}, \n",
    "    thread_config\n",
    ")"
   ]
  },
  {
   "cell_type": "code",
   "execution_count": null,
   "id": "72545833-971b-4dfc-9afd-1443fe39207a",
   "metadata": {},
   "outputs": [],
   "source": []
  }
 ],
 "metadata": {
  "kernelspec": {
   "display_name": "Python 3 (ipykernel)",
   "language": "python",
   "name": "python3"
  },
  "language_info": {
   "codemirror_mode": {
    "name": "ipython",
    "version": 3
   },
   "file_extension": ".py",
   "mimetype": "text/x-python",
   "name": "python",
   "nbconvert_exporter": "python",
   "pygments_lexer": "ipython3",
   "version": "3.12.3"
  }
 },
 "nbformat": 4,
 "nbformat_minor": 5
}
