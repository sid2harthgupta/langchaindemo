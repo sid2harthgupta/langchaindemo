{
 "cells": [
  {
   "cell_type": "code",
   "execution_count": null,
   "id": "be5698e7-d167-42fc-8e74-2cb0d3997e00",
   "metadata": {},
   "outputs": [],
   "source": [
    "import os\n",
    "from dotenv import load_dotenv\n",
    "from typing import Dict, List, Any, Optional, Annotated, Union, Literal\n",
    "from typing_extensions import TypedDict\n",
    "\n",
    "from langchain_openai import ChatOpenAI\n",
    "from langchain_community.utilities.sql_database import SQLDatabase\n",
    "from langchain_community.vectorstores import SKLearnVectorStore\n",
    "from langchain_openai import OpenAIEmbeddings\n",
    "from langchain_core.tools import tool\n",
    "from langchain_core.messages import BaseMessage, HumanMessage, SystemMessage, AIMessage, ToolMessage\n",
    "from langchain_core.runnables import RunnablePassthrough\n",
    "from langgraph.graph import MessagesState\n",
    "\n",
    "from langgraph.prebuilt import tools_condition, ToolNode\n",
    "\n",
    "from langgraph.graph import StateGraph, START, END\n",
    "from langgraph.checkpoint.memory import MemorySaver\n",
    "from langgraph.prebuilt import ToolNode\n",
    "\n",
    "from IPython.display import Image, display"
   ]
  },
  {
   "cell_type": "code",
   "execution_count": null,
   "id": "4f8ab283-33f9-40a9-b8ec-e0c2193ecda7",
   "metadata": {},
   "outputs": [],
   "source": [
    "load_dotenv()"
   ]
  },
  {
   "cell_type": "code",
   "execution_count": null,
   "id": "3c50e3ba-375f-4de5-8f22-36b0b3030630",
   "metadata": {},
   "outputs": [],
   "source": [
    "db = SQLDatabase.from_uri(\"sqlite:///../sql-support-bot/chinook.db\")\n",
    "print(db.get_usable_table_names())"
   ]
  },
  {
   "cell_type": "code",
   "execution_count": null,
   "id": "960aeba5-4ca2-4e97-848a-1a291ed59e69",
   "metadata": {},
   "outputs": [],
   "source": [
    "os.environ[\"LANGCHAIN_PROJECT\"] = \"music-store-support-demo-prep\""
   ]
  },
  {
   "cell_type": "markdown",
   "id": "effdfc06-a498-4b35-bee3-940c4dd57103",
   "metadata": {},
   "source": [
    "## Set up state"
   ]
  },
  {
   "cell_type": "code",
   "execution_count": null,
   "id": "bb4bcac3-d59e-4f3f-9e3a-1de36c1069b8",
   "metadata": {},
   "outputs": [],
   "source": [
    "class MusicStoreChatbotState(MessagesState):\n",
    "    customer_id: Optional[int]\n",
    "    current_mode: Literal[\"router\", \"account\", \"music\"]"
   ]
  },
  {
   "cell_type": "code",
   "execution_count": null,
   "id": "d7c73486-1ec1-4be2-b3f9-c1275d54523e",
   "metadata": {},
   "outputs": [],
   "source": [
    "model = ChatOpenAI(temperature=0, model_name=\"gpt-4o-mini\")"
   ]
  },
  {
   "cell_type": "markdown",
   "id": "0188cbcd-a9be-4a39-995a-4d75ca7f79e0",
   "metadata": {},
   "source": [
    "## Helper Functions"
   ]
  },
  {
   "cell_type": "code",
   "execution_count": null,
   "id": "74f3b801-d347-4498-97c9-48a4e19e173c",
   "metadata": {},
   "outputs": [],
   "source": [
    "def get_last_human_message(messages: List[BaseMessage]) -> Optional[HumanMessage]:\n",
    "    \"\"\"Extract the last human message from the conversation history.\"\"\"\n",
    "    for message in reversed(messages):\n",
    "        if isinstance(message, HumanMessage):\n",
    "            return message\n",
    "    return None"
   ]
  },
  {
   "cell_type": "markdown",
   "id": "7563e895-6219-4e4d-b5eb-8dd6453295fe",
   "metadata": {},
   "source": [
    "## Graph definition"
   ]
  },
  {
   "cell_type": "markdown",
   "id": "6b05a50e-9fc9-4310-9eed-a8e97b878243",
   "metadata": {},
   "source": [
    "### Node: Route based on Customer ID"
   ]
  },
  {
   "cell_type": "code",
   "execution_count": null,
   "id": "ada3f56b-279f-4bed-aff5-a5e516d79247",
   "metadata": {},
   "outputs": [],
   "source": [
    "@tool\n",
    "def is_customer_id_known(state: MusicStoreChatbotState):\n",
    "    \"\"\"Routing based on Customer ID\"\"\"\n",
    "    print(\"T\" * 50)\n",
    "    print(\"is_customer_id_known\")\n",
    "    print(\"T\" * 50)\n",
    "    return state"
   ]
  },
  {
   "cell_type": "markdown",
   "id": "32db042f-8a5e-4a17-a32f-5f93dfdfc891",
   "metadata": {},
   "source": [
    "### Tools"
   ]
  },
  {
   "cell_type": "code",
   "execution_count": null,
   "id": "a48bee0c-9432-47ad-9e36-da7dda45757d",
   "metadata": {},
   "outputs": [],
   "source": [
    "@tool\n",
    "def get_customer_info(customer_id: int):\n",
    "    \"\"\"Look up customer info given their ID. Requires customer authentication.\"\"\"\n",
    "    return db.run(f\"SELECT * FROM customers WHERE CustomerId = {customer_id};\")\n",
    "\n",
    "@tool\n",
    "def update_customer_info(customer_id: int, field: str, value: str):\n",
    "    \"\"\"\n",
    "    Update a customer's information. This is a sensitive operation that requires human approval.\n",
    "    - customer_id: The ID of the customer to update\n",
    "    - field: The field to update (FirstName, LastName, Company, Address, City, State, Country, PostalCode, Phone, Email)\n",
    "    - value: The new value for the field\n",
    "    \"\"\"\n",
    "    allowed_fields = [\"FirstName\", \"LastName\", \"Company\", \"Address\", \"City\", \n",
    "                       \"State\", \"Country\", \"PostalCode\", \"Phone\", \"Email\"]\n",
    "\n",
    "    if field not in allowed_fields:\n",
    "        return f\"Error: Cannot update field '{field}'. Allowed fields are: {', '.join(allowed_fields)}\"\n",
    "\n",
    "    # Verify customer exists first\n",
    "    customer = db.run(f\"SELECT * FROM customers WHERE CustomerId = {customer_id};\")\n",
    "    if not customer:\n",
    "        return f\"Error: No customer found with ID {customer_id}\"\n",
    "\n",
    "    # This is what would actually run after approval\n",
    "    return f\"Successfully updated {field} to '{value}' for customer {customer_id}\"\n",
    "\n",
    "\n",
    "get_tool_names = [\"get_customer_info\"]\n",
    "get_tools = [get_customer_info]\n",
    "update_tool_names = [\"update_customer_info\"]\n",
    "update_tools = [update_customer_info]"
   ]
  },
  {
   "cell_type": "markdown",
   "id": "3befebaf-01d0-4bde-8ab0-22051ae4a369",
   "metadata": {},
   "source": [
    "### Node: Process Account Query"
   ]
  },
  {
   "cell_type": "code",
   "execution_count": null,
   "id": "f3b95896-6043-4cdf-93be-33c4e481c433",
   "metadata": {},
   "outputs": [],
   "source": [
    "account_system_message = \"\"\"You are a customer account specialist at a music store.\n",
    "You can help customers:\n",
    "1. Retrieve their account information\n",
    "2. Update their profile details\n",
    "\n",
    "IMPORTANT: \n",
    "- Always verify you have the customer_id before taking any actions.\n",
    "- For security, any updates to customer information require human manager approval.\n",
    "- DO NOT make updates without explicit approval.\n",
    "\"\"\"\n",
    "\n",
    "@tool\n",
    "def handle_account_query(state: MusicStoreChatbotState):\n",
    "    \"\"\"Handle account-related queries\"\"\"\n",
    "    assert state[\"customer_id\"] is not None\n",
    "    print(\"T\" * 50)\n",
    "    print(\"handle_account_query\")\n",
    "    print(\"T\" * 50)\n",
    "\n",
    "    # Build messages for the account agent\n",
    "    messages = [SystemMessage(content=account_system_message)]\n",
    "    # Add some conversation context\n",
    "    context_messages = state[\"messages\"][-5:] if len(state[\"messages\"]) > 5 else state[\"messages\"]\n",
    "    messages.extend(context_messages)\n",
    "\n",
    "    # Add customer context\n",
    "    customer_id = state[\"customer_id\"]\n",
    "    messages.append(SystemMessage(content=f\"Current authenticated customer ID: {customer_id}\"))\n",
    "\n",
    "    # Let the agent determine what to do next\n",
    "    response = model.bind_tools(tools=[get_customer_info, update_customer_info]).invoke(messages)\n",
    "\n",
    "    print(f\"handle_account_query response = {response}\")\n",
    "\n",
    "    return {\n",
    "        \"messages\": state[\"messages\"] + [response]\n",
    "    }\n",
    "\n",
    "\n",
    "def handle_account_query_route_condition(state: MusicStoreChatbotState) -> str:\n",
    "    handle_account_query_response = state[messages][-1]\n",
    "    destination = None\n",
    "\n",
    "    # Check if the last message has tool calls\n",
    "    if hasattr(last_message, \"tool_calls\") and last_message.tool_calls:\n",
    "        # Get the name of the called tool\n",
    "        tool_name = last_message.tool_calls[0][\"name\"]\n",
    "        \n",
    "        # Route to the appropriate tool node\n",
    "        if tool_name in get_tool_names:\n",
    "            destination = \"lookup_tools\"\n",
    "        elif tool_name in update_tool_names:\n",
    "            destination = \"update_tools\"\n",
    "    \n",
    "    # If no tool calls or tool not recognized, route to END\n",
    "    destination = END\n",
    "    print(\"~\" * 50)\n",
    "    print(f\"Destination = {destination}\")\n",
    "    print(\"~\" * 50)\n",
    "    return destination"
   ]
  },
  {
   "cell_type": "markdown",
   "id": "acd5d984-5abd-46ab-b2ef-dc754472ef02",
   "metadata": {},
   "source": [
    "### TODO: Separate out get and update customer tool nodes"
   ]
  },
  {
   "cell_type": "markdown",
   "id": "fdd586a5-ed0e-460d-b975-19c867a492a6",
   "metadata": {},
   "source": [
    "### Update Customer ID if in query (TODO: 1. Verify, 2. Prompt user)"
   ]
  },
  {
   "cell_type": "code",
   "execution_count": null,
   "id": "276dd7a2-f250-424d-a76b-7afcd2bfd272",
   "metadata": {},
   "outputs": [],
   "source": [
    "customer_id_prompt = \"\"\"Your task is to help determine the Customer ID of the user based on their presented chat history. \n",
    "If you are able to determine their Customer ID, return just the ID. If the ID cannot be inferred, return UNKNOWN.\"\"\"\n",
    "\n",
    "# @tool\n",
    "def get_customer_id(state: MusicStoreChatbotState):\n",
    "    \"\"\"Fetch the custimer ID if it is part of the query\"\"\"\n",
    "    print(\"T\" * 50)\n",
    "    print(\"get_customer_id\")\n",
    "    print(\"T\" * 50)\n",
    "    assert state[\"customer_id\"] is None\n",
    "\n",
    "    messages = [SystemMessage(content=customer_id_prompt)]\n",
    "    # Add some conversation context\n",
    "    context_messages = state[\"messages\"][-5:] if len(state[\"messages\"]) > 5 else state[\"messages\"]\n",
    "    messages.extend(context_messages)\n",
    "\n",
    "    # Let the agent determine what to do next\n",
    "    response = model.invoke(messages)\n",
    "    print(f\"Raw router response = {response.content}\")\n",
    "\n",
    "    # Update the state with the correct department\n",
    "    content = response.content.lower()\n",
    "    if content.isdigit():\n",
    "        return {\"customer_id\": int(content)}\n",
    "    else:\n",
    "        return state"
   ]
  },
  {
   "cell_type": "code",
   "execution_count": null,
   "id": "1a825203-55e4-4caf-bdb9-ae6ae3f0b51b",
   "metadata": {},
   "outputs": [],
   "source": [
    "def customer_id_known_route_condition(state: MusicStoreChatbotState) -> bool:\n",
    "    \"\"\"Return the routing condition based on the current state\"\"\"\n",
    "    customer_id_is_known = state[\"customer_id\"] is not None\n",
    "    print(\"~\" * 50)\n",
    "    print(f\"Destination = {customer_id_is_known}\")\n",
    "    print(\"~\" * 50)\n",
    "    return state[\"customer_id\"] is not None\n",
    "\n",
    "entry_builder = StateGraph(MusicStoreChatbotState)\n",
    "entry_builder.add_node(\"is_customer_id_known\", is_customer_id_known)\n",
    "entry_builder.add_node(\"handle_account_query\", handle_account_query)\n",
    "entry_builder.add_node(\"get_customer_id\", get_customer_id)\n",
    "entry_builder.add_node(\"lookup_tools\", ToolNode(get_tools))\n",
    "entry_builder.add_node(\"update_tools\", ToolNode(update_tools))\n",
    "\n",
    "# Add the starting edge\n",
    "entry_builder.add_edge(START, \"is_customer_id_known\")\n",
    "entry_builder.add_edge(\"is_customer_id_known\", \"get_customer_id\")\n",
    "entry_builder.add_edge(\"lookup_tools\", \"handle_account_query\")\n",
    "entry_builder.add_edge(\"update_tools\", \"handle_account_query\")\n",
    "\n",
    "entry_builder.add_conditional_edges(\n",
    "    \"is_customer_id_known\",  # Source node\n",
    "    customer_id_known_route_condition,  # Function that returns the condition value\n",
    "    {\n",
    "        True: \"handle_account_query\",\n",
    "        False: \"get_customer_id\",\n",
    "    }\n",
    ")\n",
    "\n",
    "entry_builder.add_conditional_edges(\n",
    "    \"handle_account_query\",  # Source node\n",
    "    handle_account_query_route_condition,  # Function that returns the condition value\n",
    "    {\n",
    "        \"update_tools\": \"update_tools\",\n",
    "        \"lookup_tools\": \"lookup_tools\",\n",
    "        END: END\n",
    "    }\n",
    ")\n",
    "\n",
    "entry_builder.add_conditional_edges(\n",
    "    \"get_customer_id\",  # Source node\n",
    "    customer_id_known_route_condition,  # Function that returns the condition value\n",
    "    {\n",
    "        True: \"is_customer_id_known\",\n",
    "        False: END,\n",
    "    }\n",
    ")\n",
    "\n",
    "memory = MemorySaver()\n",
    "# Can hard-code interruptions  using `builder.compile(interrupt_before=[\"tools\"], checkpointer=memory)`\n",
    "graph = entry_builder.compile(checkpointer=memory)"
   ]
  },
  {
   "cell_type": "code",
   "execution_count": null,
   "id": "bf941bbb-3f8a-4a89-b6a8-a25ef9f2522c",
   "metadata": {},
   "outputs": [],
   "source": [
    "display(Image(graph.get_graph().draw_mermaid_png()))"
   ]
  },
  {
   "cell_type": "markdown",
   "id": "4306e6ff-2f5d-4fdc-abd5-4000f26293e2",
   "metadata": {},
   "source": [
    "### Test"
   ]
  },
  {
   "cell_type": "code",
   "execution_count": null,
   "id": "8bd6bb6c-753f-4982-a313-e861343657d7",
   "metadata": {},
   "outputs": [],
   "source": [
    "# Define a thread config dictionary\n",
    "thread_config = {\"configurable\": {\"thread_id\": \"21\"}}\n",
    "\n",
    "# Then use it in your invoke call\n",
    "graph.invoke(\n",
    "    {\"messages\": [HumanMessage(content=\"Hey, my customer ID is 2. Please show me all my information\")], \n",
    "     \"current_mode\": \"router\", \n",
    "     \"customer_id\": None}, \n",
    "    thread_config\n",
    ")"
   ]
  },
  {
   "cell_type": "code",
   "execution_count": null,
   "id": "5dfcfa4f-287a-4cef-a4c1-c915f9619dab",
   "metadata": {},
   "outputs": [],
   "source": [
    "# Define a thread config dictionary\n",
    "thread_config = {\"configurable\": {\"thread_id\": \"1\"}}\n",
    "\n",
    "# Then use it in your invoke call\n",
    "graph.invoke(\n",
    "    {\"messages\": [HumanMessage(content=\"Hey. recommend music by Amy Winehouse\")], \n",
    "     \"current_mode\": \"router\", \n",
    "     \"customer_id\": None}, \n",
    "    thread_config\n",
    ")"
   ]
  },
  {
   "cell_type": "code",
   "execution_count": null,
   "id": "ee196fc1-4c67-45a3-8b13-c041b8490316",
   "metadata": {},
   "outputs": [],
   "source": [
    "# Define a thread config dictionary\n",
    "thread_config = {\"configurable\": {\"thread_id\": \"1\"}}\n",
    "\n",
    "# Then use it in your invoke call\n",
    "graph.invoke(\n",
    "    {\"messages\": [HumanMessage(content=\"Hey, my customer ID is 2. Please update my email to a@b.com\")], \n",
    "     \"current_mode\": \"router\", \n",
    "     \"customer_id\": None}, \n",
    "    thread_config\n",
    ")"
   ]
  },
  {
   "cell_type": "code",
   "execution_count": null,
   "id": "4c3d551b-9f5f-46d2-80bc-e9a6db1e3634",
   "metadata": {},
   "outputs": [],
   "source": []
  }
 ],
 "metadata": {
  "kernelspec": {
   "display_name": "Python 3 (ipykernel)",
   "language": "python",
   "name": "python3"
  },
  "language_info": {
   "codemirror_mode": {
    "name": "ipython",
    "version": 3
   },
   "file_extension": ".py",
   "mimetype": "text/x-python",
   "name": "python",
   "nbconvert_exporter": "python",
   "pygments_lexer": "ipython3",
   "version": "3.12.3"
  }
 },
 "nbformat": 4,
 "nbformat_minor": 5
}
