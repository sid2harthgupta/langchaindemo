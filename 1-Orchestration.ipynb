{
 "cells": [
  {
   "cell_type": "code",
   "execution_count": 1,
   "id": "be5698e7-d167-42fc-8e74-2cb0d3997e00",
   "metadata": {},
   "outputs": [],
   "source": [
    "import os\n",
    "from dotenv import load_dotenv\n",
    "from typing import Dict, List, Any, Optional, Annotated, Union, Literal\n",
    "from typing_extensions import TypedDict\n",
    "\n",
    "from langchain_openai import ChatOpenAI\n",
    "from langchain_community.utilities.sql_database import SQLDatabase\n",
    "from langchain_community.vectorstores import SKLearnVectorStore\n",
    "from langchain_openai import OpenAIEmbeddings\n",
    "from langchain_core.tools import tool\n",
    "from langchain_core.messages import BaseMessage, HumanMessage, SystemMessage, AIMessage, ToolMessage\n",
    "from langchain_core.runnables import RunnablePassthrough\n",
    "from langgraph.graph import MessagesState\n",
    "\n",
    "from langgraph.prebuilt import tools_condition, ToolNode\n",
    "\n",
    "from langgraph.graph import StateGraph, START, END\n",
    "from langgraph.checkpoint.memory import MemorySaver\n",
    "from langgraph.prebuilt import ToolNode\n",
    "\n",
    "from IPython.display import Image, display"
   ]
  },
  {
   "cell_type": "code",
   "execution_count": 2,
   "id": "4f8ab283-33f9-40a9-b8ec-e0c2193ecda7",
   "metadata": {},
   "outputs": [
    {
     "data": {
      "text/plain": [
       "True"
      ]
     },
     "execution_count": 2,
     "metadata": {},
     "output_type": "execute_result"
    }
   ],
   "source": [
    "load_dotenv()"
   ]
  },
  {
   "cell_type": "code",
   "execution_count": 3,
   "id": "3c50e3ba-375f-4de5-8f22-36b0b3030630",
   "metadata": {},
   "outputs": [
    {
     "name": "stdout",
     "output_type": "stream",
     "text": [
      "['albums', 'artists', 'customers', 'employees', 'genres', 'invoice_items', 'invoices', 'media_types', 'playlist_track', 'playlists', 'tracks']\n"
     ]
    }
   ],
   "source": [
    "db = SQLDatabase.from_uri(\"sqlite:///../sql-support-bot/chinook.db\")\n",
    "print(db.get_usable_table_names())"
   ]
  },
  {
   "cell_type": "code",
   "execution_count": 4,
   "id": "960aeba5-4ca2-4e97-848a-1a291ed59e69",
   "metadata": {},
   "outputs": [],
   "source": [
    "os.environ[\"LANGCHAIN_PROJECT\"] = \"music-store-support-demo-prep\""
   ]
  },
  {
   "cell_type": "markdown",
   "id": "effdfc06-a498-4b35-bee3-940c4dd57103",
   "metadata": {},
   "source": [
    "## Set up state"
   ]
  },
  {
   "cell_type": "code",
   "execution_count": 5,
   "id": "bb4bcac3-d59e-4f3f-9e3a-1de36c1069b8",
   "metadata": {},
   "outputs": [],
   "source": [
    "class MusicStoreChatbotState(MessagesState):\n",
    "    customer_id: Optional[int]\n",
    "    current_mode: Literal[\"router\", \"account\", \"music\"]"
   ]
  },
  {
   "cell_type": "code",
   "execution_count": 6,
   "id": "d7c73486-1ec1-4be2-b3f9-c1275d54523e",
   "metadata": {},
   "outputs": [],
   "source": [
    "account_agent_model = ChatOpenAI(temperature=0, model_name=\"gpt-4o-mini\")"
   ]
  },
  {
   "cell_type": "markdown",
   "id": "0188cbcd-a9be-4a39-995a-4d75ca7f79e0",
   "metadata": {},
   "source": [
    "## Helper Functions"
   ]
  },
  {
   "cell_type": "code",
   "execution_count": 7,
   "id": "74f3b801-d347-4498-97c9-48a4e19e173c",
   "metadata": {},
   "outputs": [],
   "source": [
    "def get_last_human_message(messages: List[BaseMessage]) -> Optional[HumanMessage]:\n",
    "    \"\"\"Extract the last human message from the conversation history.\"\"\"\n",
    "    for message in reversed(messages):\n",
    "        if isinstance(message, HumanMessage):\n",
    "            return message\n",
    "    return None\n",
    "\n",
    "\n",
    "def print_conversation(state):\n",
    "    print(\"\\n\" + \"=\"*50)\n",
    "    print(\"CONVERSATION\")\n",
    "    print(\"=\"*50)\n",
    "    \n",
    "    for message in state[\"messages\"]:\n",
    "        if isinstance(message, HumanMessage):\n",
    "            print(f\"\\n👤 USER: {message.content}\")\n",
    "        \n",
    "        elif isinstance(message, AIMessage):\n",
    "            # Skip empty AI messages (they're usually just tool calls)\n",
    "            if message.content:\n",
    "                print(f\"\\n🤖 ASSISTANT: {message.content}\")\n",
    "            # Optionally print tool calls if you want to see them\n",
    "            if hasattr(message, \"tool_calls\") and message.tool_calls:\n",
    "                for tool_call in message.tool_calls:\n",
    "                    print(f\"\\n🔧 TOOL CALL: {tool_call['name']}({tool_call['args']})\")\n",
    "        \n",
    "        elif isinstance(message, ToolMessage):\n",
    "            # Usually you don't need to show these raw tool responses to users\n",
    "            # But for debugging they can be helpful\n",
    "            print(f\"\\n🔧 TOOL RESPONSE ({message.name}): {message.content[:100]}...\" if len(message.content) > 100 else message.content)\n",
    "    \n",
    "    print(\"\\n\" + \"=\"*50)"
   ]
  },
  {
   "cell_type": "markdown",
   "id": "7563e895-6219-4e4d-b5eb-8dd6453295fe",
   "metadata": {},
   "source": [
    "## Graph definition"
   ]
  },
  {
   "cell_type": "markdown",
   "id": "6b05a50e-9fc9-4310-9eed-a8e97b878243",
   "metadata": {},
   "source": [
    "### Node: Route based on Customer ID"
   ]
  },
  {
   "cell_type": "code",
   "execution_count": 8,
   "id": "ada3f56b-279f-4bed-aff5-a5e516d79247",
   "metadata": {},
   "outputs": [],
   "source": [
    "def is_customer_id_known(state: MusicStoreChatbotState):\n",
    "    \"\"\"Routing based on Customer ID\"\"\"\n",
    "    print(\"T\" * 50)\n",
    "    print(\"is_customer_id_known\")\n",
    "    print(\"T\" * 50)\n",
    "    return state"
   ]
  },
  {
   "cell_type": "markdown",
   "id": "32db042f-8a5e-4a17-a32f-5f93dfdfc891",
   "metadata": {},
   "source": [
    "### Tools"
   ]
  },
  {
   "cell_type": "code",
   "execution_count": 9,
   "id": "a48bee0c-9432-47ad-9e36-da7dda45757d",
   "metadata": {},
   "outputs": [],
   "source": [
    "@tool\n",
    "def get_customer_info(customer_id: int):\n",
    "    \"\"\"Look up customer info given their ID. Requires customer authentication.\"\"\"\n",
    "    return db.run(f\"SELECT * FROM customers WHERE CustomerId = {customer_id};\")\n",
    "\n",
    "@tool\n",
    "def update_customer_info(customer_id: int, field: str, value: str):\n",
    "    \"\"\"\n",
    "    Update a customer's information.\n",
    "    - customer_id: The ID of the customer to update\n",
    "    - field: The field to update (FirstName, LastName, Company, Address, City, State, Country, PostalCode, Phone, Email)\n",
    "    - value: The new value for the field\n",
    "    \"\"\"\n",
    "    print(\"T\" * 50)\n",
    "    print(f\"update_customer_info invoked witn {customer_id}, {field}, {value}\")\n",
    "    print(\"T\" * 50)\n",
    "    allowed_fields = [\"FirstName\", \"LastName\", \"Company\", \"Address\", \"City\", \n",
    "                       \"State\", \"Country\", \"PostalCode\", \"Phone\", \"Email\"]\n",
    "\n",
    "    if field not in allowed_fields:\n",
    "        print(f\"Invalid field: {field} !!!!!!!!\")\n",
    "        return f\"Error: Cannot update field '{field}'. Allowed fields are: {', '.join(allowed_fields)}\"\n",
    "\n",
    "    # Verify customer exists first\n",
    "    customer = db.run(f\"SELECT * FROM customers WHERE CustomerId = {customer_id};\")\n",
    "    if not customer:\n",
    "        return f\"Error: No customer found with ID {customer_id}\"\n",
    "\n",
    "    try:\n",
    "        # Sanitize the value to prevent SQL injection\n",
    "        sanitized_value = value.replace(\"'\", \"''\")  # Double up single quotes for SQL safety\n",
    "        \n",
    "        # Execute the actual update query\n",
    "        update_query = f\"UPDATE customers SET {field} = '{sanitized_value}' WHERE CustomerId = {customer_id};\"\n",
    "        db.run(update_query)\n",
    "        \n",
    "        # Verify the update was successful\n",
    "        updated_customer = db.run(f\"SELECT {field} FROM customers WHERE CustomerId = {customer_id};\")\n",
    "        if updated_customer and updated_customer[0][field] == value:\n",
    "            return f\"Successfully updated {field} to '{value}' for customer {customer_id}\"\n",
    "        else:\n",
    "            return f\"Update attempted but verification failed. Please check the database.\"\n",
    "    \n",
    "    except Exception as e:\n",
    "        print(f\"Database error: {str(e)}\")\n",
    "        return f\"Error updating database: {str(e)}\"\n",
    "\n",
    "\n",
    "get_tool_names = [\"get_customer_info\"]\n",
    "get_tools = [get_customer_info]\n",
    "update_tool_names = [\"update_customer_info\"]\n",
    "update_tools = [update_customer_info]"
   ]
  },
  {
   "cell_type": "code",
   "execution_count": 10,
   "id": "9098d427-e5c9-4727-8787-b61174977c14",
   "metadata": {},
   "outputs": [],
   "source": [
    "account_agent_model_with_tools = account_agent_model.bind_tools(tools=[get_customer_info, update_customer_info])"
   ]
  },
  {
   "cell_type": "markdown",
   "id": "3befebaf-01d0-4bde-8ab0-22051ae4a369",
   "metadata": {},
   "source": [
    "### Node: Process Account Query"
   ]
  },
  {
   "cell_type": "code",
   "execution_count": 11,
   "id": "f3b95896-6043-4cdf-93be-33c4e481c433",
   "metadata": {},
   "outputs": [],
   "source": [
    "account_system_message = \"\"\"You are a customer account specialist at a music store.\n",
    "You can help customers:\n",
    "1. Retrieve their account information\n",
    "2. Update their profile details\n",
    "\n",
    "Your response should be concise and in natural language. \n",
    "\n",
    "If a user is not found for the provided ID, please inform the user that the ID is invalid\n",
    "\"\"\"\n",
    "\n",
    "def handle_account_query(state: MusicStoreChatbotState):\n",
    "    \"\"\"Handle account-related queries\"\"\"\n",
    "    assert state[\"customer_id\"] is not None\n",
    "    print(\"T\" * 50)\n",
    "    print(\"handle_account_query\")\n",
    "    print(\"T\" * 50)\n",
    "\n",
    "    # Build messages for the account agent\n",
    "    messages = [SystemMessage(content=account_system_message)]\n",
    "    # Add some conversation context\n",
    "    context_messages = state[\"messages\"][-5:] if len(state[\"messages\"]) > 5 else state[\"messages\"]\n",
    "    messages.extend(context_messages)\n",
    "\n",
    "    # Add customer context\n",
    "    customer_id = state[\"customer_id\"]\n",
    "    messages.append(SystemMessage(content=f\"Current authenticated customer ID: {customer_id}\"))\n",
    "\n",
    "    # Let the agent determine what to do next\n",
    "    response = account_agent_model_with_tools.invoke(messages)\n",
    "\n",
    "    print(f\"handle_account_query response = {response}\")\n",
    "\n",
    "    return {\n",
    "        \"messages\": state[\"messages\"] + [response]\n",
    "    }\n",
    "\n",
    "\n",
    "def handle_account_query_route_condition(state: MusicStoreChatbotState) -> str:\n",
    "    last_message = state[\"messages\"][-1]\n",
    "    destination = END\n",
    "\n",
    "    # Check if the last message has tool calls\n",
    "    if hasattr(last_message, \"tool_calls\") and last_message.tool_calls:\n",
    "        # Get the name of the called tool\n",
    "        tool_name = last_message.tool_calls[0][\"name\"]\n",
    "        \n",
    "        # Route to the appropriate tool node\n",
    "        if tool_name in get_tool_names:\n",
    "            destination = \"lookup_tools\"\n",
    "        elif tool_name in update_tool_names:\n",
    "            destination = \"update_tools\"\n",
    "    \n",
    "    print(\"~\" * 50)\n",
    "    print(f\"Destination = {destination}\")\n",
    "    print(\"~\" * 50)\n",
    "    return destination"
   ]
  },
  {
   "cell_type": "markdown",
   "id": "fdd586a5-ed0e-460d-b975-19c867a492a6",
   "metadata": {},
   "source": [
    "### Update Customer ID if in query (TODO: 1. Verify, 2. Prompt user)"
   ]
  },
  {
   "cell_type": "code",
   "execution_count": 12,
   "id": "276dd7a2-f250-424d-a76b-7afcd2bfd272",
   "metadata": {},
   "outputs": [],
   "source": [
    "customer_id_prompt = \"\"\"Your task is to help determine the Customer ID of the user based on their presented chat history. \n",
    "If you are able to determine their Customer ID, return just the ID. If the ID cannot be inferred, return UNKNOWN.\"\"\"\n",
    "\n",
    "def get_customer_id(state: MusicStoreChatbotState):\n",
    "    \"\"\"Fetch the custimer ID if it is part of the query\"\"\"\n",
    "    print(\"T\" * 50)\n",
    "    print(\"get_customer_id\")\n",
    "    print(\"T\" * 50)\n",
    "    assert state[\"customer_id\"] is None\n",
    "\n",
    "    messages = [SystemMessage(content=customer_id_prompt)]\n",
    "    # Add some conversation context\n",
    "    context_messages = state[\"messages\"][-5:] if len(state[\"messages\"]) > 5 else state[\"messages\"]\n",
    "    messages.extend(context_messages)\n",
    "\n",
    "    # Let the agent determine what to do next\n",
    "    response = account_agent_model.invoke(messages)\n",
    "    print(f\"Raw router response = {response.content}\")\n",
    "\n",
    "    # Update the state with the correct department\n",
    "    content = response.content.lower()\n",
    "    if content.isdigit():\n",
    "        return {\"customer_id\": int(content)}\n",
    "    else:\n",
    "        return state"
   ]
  },
  {
   "cell_type": "code",
   "execution_count": 13,
   "id": "1a825203-55e4-4caf-bdb9-ae6ae3f0b51b",
   "metadata": {},
   "outputs": [],
   "source": [
    "def customer_id_set_route_condition(state: MusicStoreChatbotState) -> bool:\n",
    "    \"\"\"Return the routing condition based on the current state\"\"\"\n",
    "    customer_id_is_known = state[\"customer_id\"] is not None\n",
    "    print(\"~\" * 50)\n",
    "    print(f\"Destination = {customer_id_is_known}\")\n",
    "    print(\"~\" * 50)\n",
    "    return state[\"customer_id\"] is not None\n",
    "\n",
    "def customer_id_valid_route_condition(state: MusicStoreChatbotState) -> Literal[\"valid\", \"invalid\"]:\n",
    "    \"\"\"Return the routing condition based on the current state\"\"\"\n",
    "    # This is just to demonstrate more complex logic can also reside in the route condition.\n",
    "    # This logic could also be moved up to `get_customer_id`.\n",
    "    if state[\"customer_id\"] is None:\n",
    "        return \"invalid\"\n",
    "    customer = db.run(f\"SELECT * FROM customers WHERE CustomerId = {state[\"customer_id\"]};\")\n",
    "    if not customer:\n",
    "        return \"invalid\"\n",
    "    return \"valid\"\n",
    "\n",
    "account_agent_graph_builder = StateGraph(MusicStoreChatbotState)\n",
    "account_agent_graph_builder.add_node(\"is_customer_id_known\", is_customer_id_known)\n",
    "account_agent_graph_builder.add_node(\"handle_account_query\", handle_account_query)\n",
    "account_agent_graph_builder.add_node(\"get_customer_id\", get_customer_id)\n",
    "account_agent_graph_builder.add_node(\"lookup_tools\", ToolNode(get_tools))\n",
    "account_agent_graph_builder.add_node(\"update_tools\", ToolNode(update_tools))\n",
    "\n",
    "# Add the starting edge\n",
    "account_agent_graph_builder.add_edge(START, \"is_customer_id_known\")\n",
    "account_agent_graph_builder.add_edge(\"lookup_tools\", \"handle_account_query\")\n",
    "account_agent_graph_builder.add_edge(\"update_tools\", \"handle_account_query\")\n",
    "\n",
    "account_agent_graph_builder.add_conditional_edges(\n",
    "    \"is_customer_id_known\",  # Source node\n",
    "    customer_id_set_route_condition,  # Function that returns the condition value\n",
    "    {\n",
    "        True: \"handle_account_query\",\n",
    "        False: \"get_customer_id\",\n",
    "    }\n",
    ")\n",
    "\n",
    "account_agent_graph_builder.add_conditional_edges(\n",
    "    \"handle_account_query\",  # Source node\n",
    "    handle_account_query_route_condition,  # Function that returns the condition value\n",
    "    {\n",
    "        \"update_tools\": \"update_tools\",\n",
    "        \"lookup_tools\": \"lookup_tools\",\n",
    "        END: END\n",
    "    }\n",
    ")\n",
    "\n",
    "account_agent_graph_builder.add_conditional_edges(\n",
    "    \"get_customer_id\",  # Source node\n",
    "    customer_id_valid_route_condition,  # Function that returns the condition value\n",
    "    {\n",
    "        \"valid\": \"is_customer_id_known\",\n",
    "        \"invalid\": END,\n",
    "    }\n",
    ")\n",
    "\n",
    "memory = MemorySaver()\n",
    "# Can hard-code interruptions  using `builder.compile(interrupt_before=[\"tools\"], checkpointer=memory)`\n",
    "account_agent_graph = account_agent_graph_builder.compile(interrupt_before=[\"update_tools\"], checkpointer=memory)"
   ]
  },
  {
   "cell_type": "code",
   "execution_count": 14,
   "id": "bf941bbb-3f8a-4a89-b6a8-a25ef9f2522c",
   "metadata": {},
   "outputs": [
    {
     "data": {
      "image/png": "[encoded data removed]",
      "text/plain": [
       "<IPython.core.display.Image object>"
      ]
     },
     "metadata": {},
     "output_type": "display_data"
    }
   ],
   "source": [
    "display(Image(account_agent_graph.get_graph().draw_mermaid_png()))"
   ]
  },
  {
   "cell_type": "markdown",
   "id": "4306e6ff-2f5d-4fdc-abd5-4000f26293e2",
   "metadata": {},
   "source": [
    "### Test"
   ]
  },
  {
   "cell_type": "code",
   "execution_count": 15,
   "id": "8bd6bb6c-753f-4982-a313-e861343657d7",
   "metadata": {},
   "outputs": [
    {
     "name": "stdout",
     "output_type": "stream",
     "text": [
      "TTTTTTTTTTTTTTTTTTTTTTTTTTTTTTTTTTTTTTTTTTTTTTTTTT\n",
      "is_customer_id_known\n",
      "TTTTTTTTTTTTTTTTTTTTTTTTTTTTTTTTTTTTTTTTTTTTTTTTTT\n",
      "~~~~~~~~~~~~~~~~~~~~~~~~~~~~~~~~~~~~~~~~~~~~~~~~~~\n",
      "Destination = False\n",
      "~~~~~~~~~~~~~~~~~~~~~~~~~~~~~~~~~~~~~~~~~~~~~~~~~~\n",
      "TTTTTTTTTTTTTTTTTTTTTTTTTTTTTTTTTTTTTTTTTTTTTTTTTT\n",
      "get_customer_id\n",
      "TTTTTTTTTTTTTTTTTTTTTTTTTTTTTTTTTTTTTTTTTTTTTTTTTT\n",
      "Raw router response = 2\n",
      "TTTTTTTTTTTTTTTTTTTTTTTTTTTTTTTTTTTTTTTTTTTTTTTTTT\n",
      "is_customer_id_known\n",
      "TTTTTTTTTTTTTTTTTTTTTTTTTTTTTTTTTTTTTTTTTTTTTTTTTT\n",
      "~~~~~~~~~~~~~~~~~~~~~~~~~~~~~~~~~~~~~~~~~~~~~~~~~~\n",
      "Destination = True\n",
      "~~~~~~~~~~~~~~~~~~~~~~~~~~~~~~~~~~~~~~~~~~~~~~~~~~\n",
      "TTTTTTTTTTTTTTTTTTTTTTTTTTTTTTTTTTTTTTTTTTTTTTTTTT\n",
      "handle_account_query\n",
      "TTTTTTTTTTTTTTTTTTTTTTTTTTTTTTTTTTTTTTTTTTTTTTTTTT\n",
      "handle_account_query response = content='' additional_kwargs={'tool_calls': [{'id': 'call_u4GTmdwQzqFsisDfgobUXSzT', 'function': {'arguments': '{\"customer_id\":2}', 'name': 'get_customer_info'}, 'type': 'function'}], 'refusal': None} response_metadata={'token_usage': {'completion_tokens': 17, 'prompt_tokens': 200, 'total_tokens': 217, 'completion_tokens_details': {'accepted_prediction_tokens': 0, 'audio_tokens': 0, 'reasoning_tokens': 0, 'rejected_prediction_tokens': 0}, 'prompt_tokens_details': {'audio_tokens': 0, 'cached_tokens': 0}}, 'model_name': 'gpt-4o-mini-2024-07-18', 'system_fingerprint': 'fp_06737a9306', 'finish_reason': 'tool_calls', 'logprobs': None} id='run-352da619-9842-4a5b-ad41-791dd50a2ab5-0' tool_calls=[{'name': 'get_customer_info', 'args': {'customer_id': 2}, 'id': 'call_u4GTmdwQzqFsisDfgobUXSzT', 'type': 'tool_call'}] usage_metadata={'input_tokens': 200, 'output_tokens': 17, 'total_tokens': 217, 'input_token_details': {'audio': 0, 'cache_read': 0}, 'output_token_details': {'audio': 0, 'reasoning': 0}}\n",
      "~~~~~~~~~~~~~~~~~~~~~~~~~~~~~~~~~~~~~~~~~~~~~~~~~~\n",
      "Destination = lookup_tools\n",
      "~~~~~~~~~~~~~~~~~~~~~~~~~~~~~~~~~~~~~~~~~~~~~~~~~~\n",
      "TTTTTTTTTTTTTTTTTTTTTTTTTTTTTTTTTTTTTTTTTTTTTTTTTT\n",
      "handle_account_query\n",
      "TTTTTTTTTTTTTTTTTTTTTTTTTTTTTTTTTTTTTTTTTTTTTTTTTT\n",
      "handle_account_query response = content='Here is your account information:\\n\\n- **Name:** Leonie Köhler\\n- **Address:** Theodor-Heuss-Straße 34, Stuttgart, Germany, 70174\\n- **Phone:** +49 0711 2842222\\n- **Email:** leonekohler@surfeu.de\\n\\nIf you need any updates or further assistance, just let me know!' additional_kwargs={'refusal': None} response_metadata={'token_usage': {'completion_tokens': 81, 'prompt_tokens': 289, 'total_tokens': 370, 'completion_tokens_details': {'accepted_prediction_tokens': 0, 'audio_tokens': 0, 'reasoning_tokens': 0, 'rejected_prediction_tokens': 0}, 'prompt_tokens_details': {'audio_tokens': 0, 'cached_tokens': 0}}, 'model_name': 'gpt-4o-mini-2024-07-18', 'system_fingerprint': 'fp_06737a9306', 'finish_reason': 'stop', 'logprobs': None} id='run-210ac1b0-5caf-4b82-ae03-c5b7529c7b5e-0' usage_metadata={'input_tokens': 289, 'output_tokens': 81, 'total_tokens': 370, 'input_token_details': {'audio': 0, 'cache_read': 0}, 'output_token_details': {'audio': 0, 'reasoning': 0}}\n",
      "~~~~~~~~~~~~~~~~~~~~~~~~~~~~~~~~~~~~~~~~~~~~~~~~~~\n",
      "Destination = __end__\n",
      "~~~~~~~~~~~~~~~~~~~~~~~~~~~~~~~~~~~~~~~~~~~~~~~~~~\n",
      "\n",
      "==================================================\n",
      "CONVERSATION\n",
      "==================================================\n",
      "\n",
      "👤 USER: Hey, my customer ID is 2. Please show me all my information\n",
      "\n",
      "🔧 TOOL CALL: get_customer_info({'customer_id': 2})\n",
      "\n",
      "🔧 TOOL RESPONSE (get_customer_info): [(2, 'Leonie', 'Köhler', None, 'Theodor-Heuss-Straße 34', 'Stuttgart', None, 'Germany', '70174', '+4...\n",
      "\n",
      "🤖 ASSISTANT: Here is your account information:\n",
      "\n",
      "- **Name:** Leonie Köhler\n",
      "- **Address:** Theodor-Heuss-Straße 34, Stuttgart, Germany, 70174\n",
      "- **Phone:** +49 0711 2842222\n",
      "- **Email:** leonekohler@surfeu.de\n",
      "\n",
      "If you need any updates or further assistance, just let me know!\n",
      "\n",
      "==================================================\n"
     ]
    }
   ],
   "source": [
    "# Define a thread config dictionary\n",
    "thread_config = {\"configurable\": {\"thread_id\": \"22\"}}\n",
    "\n",
    "# Then use it in your invoke call\n",
    "response = account_agent_graph.invoke(\n",
    "    {\"messages\": [HumanMessage(content=\"Hey, my customer ID is 2. Please show me all my information\")], \n",
    "     \"current_mode\": \"router\", \n",
    "     \"customer_id\": None}, \n",
    "    thread_config\n",
    ")\n",
    "\n",
    "print_conversation(response)"
   ]
  },
  {
   "cell_type": "code",
   "execution_count": 16,
   "id": "5dfcfa4f-287a-4cef-a4c1-c915f9619dab",
   "metadata": {},
   "outputs": [
    {
     "name": "stdout",
     "output_type": "stream",
     "text": [
      "TTTTTTTTTTTTTTTTTTTTTTTTTTTTTTTTTTTTTTTTTTTTTTTTTT\n",
      "is_customer_id_known\n",
      "TTTTTTTTTTTTTTTTTTTTTTTTTTTTTTTTTTTTTTTTTTTTTTTTTT\n",
      "~~~~~~~~~~~~~~~~~~~~~~~~~~~~~~~~~~~~~~~~~~~~~~~~~~\n",
      "Destination = False\n",
      "~~~~~~~~~~~~~~~~~~~~~~~~~~~~~~~~~~~~~~~~~~~~~~~~~~\n",
      "TTTTTTTTTTTTTTTTTTTTTTTTTTTTTTTTTTTTTTTTTTTTTTTTTT\n",
      "get_customer_id\n",
      "TTTTTTTTTTTTTTTTTTTTTTTTTTTTTTTTTTTTTTTTTTTTTTTTTT\n",
      "Raw router response = UNKNOWN\n",
      "\n",
      "==================================================\n",
      "CONVERSATION\n",
      "==================================================\n",
      "\n",
      "👤 USER: Hey. recommend music by Amy Winehouse\n",
      "\n",
      "==================================================\n"
     ]
    }
   ],
   "source": [
    "# Define a thread config dictionary\n",
    "thread_config = {\"configurable\": {\"thread_id\": \"1\"}}\n",
    "\n",
    "# Then use it in your invoke call\n",
    "response = account_agent_graph.invoke(\n",
    "    {\"messages\": [HumanMessage(content=\"Hey. recommend music by Amy Winehouse\")], \n",
    "     \"current_mode\": \"router\", \n",
    "     \"customer_id\": None}, \n",
    "    thread_config\n",
    ")\n",
    "\n",
    "print_conversation(response)"
   ]
  },
  {
   "cell_type": "code",
   "execution_count": 17,
   "id": "ee196fc1-4c67-45a3-8b13-c041b8490316",
   "metadata": {},
   "outputs": [
    {
     "name": "stdout",
     "output_type": "stream",
     "text": [
      "TTTTTTTTTTTTTTTTTTTTTTTTTTTTTTTTTTTTTTTTTTTTTTTTTT\n",
      "is_customer_id_known\n",
      "TTTTTTTTTTTTTTTTTTTTTTTTTTTTTTTTTTTTTTTTTTTTTTTTTT\n",
      "~~~~~~~~~~~~~~~~~~~~~~~~~~~~~~~~~~~~~~~~~~~~~~~~~~\n",
      "Destination = False\n",
      "~~~~~~~~~~~~~~~~~~~~~~~~~~~~~~~~~~~~~~~~~~~~~~~~~~\n",
      "TTTTTTTTTTTTTTTTTTTTTTTTTTTTTTTTTTTTTTTTTTTTTTTTTT\n",
      "get_customer_id\n",
      "TTTTTTTTTTTTTTTTTTTTTTTTTTTTTTTTTTTTTTTTTTTTTTTTTT\n",
      "Raw router response = 2\n",
      "TTTTTTTTTTTTTTTTTTTTTTTTTTTTTTTTTTTTTTTTTTTTTTTTTT\n",
      "is_customer_id_known\n",
      "TTTTTTTTTTTTTTTTTTTTTTTTTTTTTTTTTTTTTTTTTTTTTTTTTT\n",
      "~~~~~~~~~~~~~~~~~~~~~~~~~~~~~~~~~~~~~~~~~~~~~~~~~~\n",
      "Destination = True\n",
      "~~~~~~~~~~~~~~~~~~~~~~~~~~~~~~~~~~~~~~~~~~~~~~~~~~\n",
      "TTTTTTTTTTTTTTTTTTTTTTTTTTTTTTTTTTTTTTTTTTTTTTTTTT\n",
      "handle_account_query\n",
      "TTTTTTTTTTTTTTTTTTTTTTTTTTTTTTTTTTTTTTTTTTTTTTTTTT\n",
      "handle_account_query response = content='' additional_kwargs={'tool_calls': [{'id': 'call_cQ7zZSiKuZ0qBVp8SGj5UanJ', 'function': {'arguments': '{\"customer_id\":2,\"field\":\"Email\",\"value\":\"a@b.com\"}', 'name': 'update_customer_info'}, 'type': 'function'}], 'refusal': None} response_metadata={'token_usage': {'completion_tokens': 28, 'prompt_tokens': 215, 'total_tokens': 243, 'completion_tokens_details': {'accepted_prediction_tokens': 0, 'audio_tokens': 0, 'reasoning_tokens': 0, 'rejected_prediction_tokens': 0}, 'prompt_tokens_details': {'audio_tokens': 0, 'cached_tokens': 0}}, 'model_name': 'gpt-4o-mini-2024-07-18', 'system_fingerprint': 'fp_06737a9306', 'finish_reason': 'tool_calls', 'logprobs': None} id='run-2ffe8143-e666-4c47-be9c-46e2f70f8759-0' tool_calls=[{'name': 'update_customer_info', 'args': {'customer_id': 2, 'field': 'Email', 'value': 'a@b.com'}, 'id': 'call_cQ7zZSiKuZ0qBVp8SGj5UanJ', 'type': 'tool_call'}] usage_metadata={'input_tokens': 215, 'output_tokens': 28, 'total_tokens': 243, 'input_token_details': {'audio': 0, 'cache_read': 0}, 'output_token_details': {'audio': 0, 'reasoning': 0}}\n",
      "~~~~~~~~~~~~~~~~~~~~~~~~~~~~~~~~~~~~~~~~~~~~~~~~~~\n",
      "Destination = update_tools\n",
      "~~~~~~~~~~~~~~~~~~~~~~~~~~~~~~~~~~~~~~~~~~~~~~~~~~\n",
      "\n",
      "==================================================\n",
      "CONVERSATION\n",
      "==================================================\n",
      "\n",
      "👤 USER: Hey. recommend music by Amy Winehouse\n",
      "\n",
      "👤 USER: Hey, my customer ID is 2. Please update my email to a@b.com\n",
      "\n",
      "🔧 TOOL CALL: update_customer_info({'customer_id': 2, 'field': 'Email', 'value': 'a@b.com'})\n",
      "\n",
      "==================================================\n"
     ]
    }
   ],
   "source": [
    "# Define a thread config dictionary\n",
    "thread_config = {\"configurable\": {\"thread_id\": \"1\"}}\n",
    "\n",
    "# Then use it in your invoke call\n",
    "response = account_agent_graph.invoke(\n",
    "    {\"messages\": [HumanMessage(content=\"Hey, my customer ID is 2. Please update my email to a@b.com\")], \n",
    "     \"current_mode\": \"router\", \n",
    "     \"customer_id\": None}, \n",
    "    thread_config\n",
    ")\n",
    "\n",
    "print_conversation(response)"
   ]
  },
  {
   "cell_type": "code",
   "execution_count": 18,
   "id": "4c3d551b-9f5f-46d2-80bc-e9a6db1e3634",
   "metadata": {},
   "outputs": [
    {
     "name": "stdout",
     "output_type": "stream",
     "text": [
      "================================\u001b[1m Human Message \u001b[0m=================================\n",
      "\n",
      "Hey, my customer ID is 2. Please update my email to a@b.com\n",
      "TTTTTTTTTTTTTTTTTTTTTTTTTTTTTTTTTTTTTTTTTTTTTTTTTT\n",
      "is_customer_id_known\n",
      "TTTTTTTTTTTTTTTTTTTTTTTTTTTTTTTTTTTTTTTTTTTTTTTTTT\n",
      "~~~~~~~~~~~~~~~~~~~~~~~~~~~~~~~~~~~~~~~~~~~~~~~~~~\n",
      "Destination = False\n",
      "~~~~~~~~~~~~~~~~~~~~~~~~~~~~~~~~~~~~~~~~~~~~~~~~~~\n",
      "================================\u001b[1m Human Message \u001b[0m=================================\n",
      "\n",
      "Hey, my customer ID is 2. Please update my email to a@b.com\n",
      "TTTTTTTTTTTTTTTTTTTTTTTTTTTTTTTTTTTTTTTTTTTTTTTTTT\n",
      "get_customer_id\n",
      "TTTTTTTTTTTTTTTTTTTTTTTTTTTTTTTTTTTTTTTTTTTTTTTTTT\n",
      "Raw router response = 2\n",
      "================================\u001b[1m Human Message \u001b[0m=================================\n",
      "\n",
      "Hey, my customer ID is 2. Please update my email to a@b.com\n",
      "TTTTTTTTTTTTTTTTTTTTTTTTTTTTTTTTTTTTTTTTTTTTTTTTTT\n",
      "is_customer_id_known\n",
      "TTTTTTTTTTTTTTTTTTTTTTTTTTTTTTTTTTTTTTTTTTTTTTTTTT\n",
      "~~~~~~~~~~~~~~~~~~~~~~~~~~~~~~~~~~~~~~~~~~~~~~~~~~\n",
      "Destination = True\n",
      "~~~~~~~~~~~~~~~~~~~~~~~~~~~~~~~~~~~~~~~~~~~~~~~~~~\n",
      "================================\u001b[1m Human Message \u001b[0m=================================\n",
      "\n",
      "Hey, my customer ID is 2. Please update my email to a@b.com\n",
      "TTTTTTTTTTTTTTTTTTTTTTTTTTTTTTTTTTTTTTTTTTTTTTTTTT\n",
      "handle_account_query\n",
      "TTTTTTTTTTTTTTTTTTTTTTTTTTTTTTTTTTTTTTTTTTTTTTTTTT\n",
      "handle_account_query response = content='' additional_kwargs={'tool_calls': [{'id': 'call_ztNxKyKE8l4UFeJIYbdqftzt', 'function': {'arguments': '{\"customer_id\":2,\"field\":\"Email\",\"value\":\"a@b.com\"}', 'name': 'update_customer_info'}, 'type': 'function'}], 'refusal': None} response_metadata={'token_usage': {'completion_tokens': 28, 'prompt_tokens': 203, 'total_tokens': 231, 'completion_tokens_details': {'accepted_prediction_tokens': 0, 'audio_tokens': 0, 'reasoning_tokens': 0, 'rejected_prediction_tokens': 0}, 'prompt_tokens_details': {'audio_tokens': 0, 'cached_tokens': 0}}, 'model_name': 'gpt-4o-mini-2024-07-18', 'system_fingerprint': 'fp_06737a9306', 'finish_reason': 'tool_calls', 'logprobs': None} id='run-14046393-0b8c-4a7f-a8ad-cba2653359a6-0' tool_calls=[{'name': 'update_customer_info', 'args': {'customer_id': 2, 'field': 'Email', 'value': 'a@b.com'}, 'id': 'call_ztNxKyKE8l4UFeJIYbdqftzt', 'type': 'tool_call'}] usage_metadata={'input_tokens': 203, 'output_tokens': 28, 'total_tokens': 231, 'input_token_details': {'audio': 0, 'cache_read': 0}, 'output_token_details': {'audio': 0, 'reasoning': 0}}\n",
      "~~~~~~~~~~~~~~~~~~~~~~~~~~~~~~~~~~~~~~~~~~~~~~~~~~\n",
      "Destination = update_tools\n",
      "~~~~~~~~~~~~~~~~~~~~~~~~~~~~~~~~~~~~~~~~~~~~~~~~~~\n",
      "==================================\u001b[1m Ai Message \u001b[0m==================================\n",
      "Tool Calls:\n",
      "  update_customer_info (call_ztNxKyKE8l4UFeJIYbdqftzt)\n",
      " Call ID: call_ztNxKyKE8l4UFeJIYbdqftzt\n",
      "  Args:\n",
      "    customer_id: 2\n",
      "    field: Email\n",
      "    value: a@b.com\n"
     ]
    },
    {
     "name": "stdin",
     "output_type": "stream",
     "text": [
      "Do you want to call the tool? (yes/no):  yes\n"
     ]
    },
    {
     "name": "stdout",
     "output_type": "stream",
     "text": [
      "==================================\u001b[1m Ai Message \u001b[0m==================================\n",
      "Tool Calls:\n",
      "  update_customer_info (call_ztNxKyKE8l4UFeJIYbdqftzt)\n",
      " Call ID: call_ztNxKyKE8l4UFeJIYbdqftzt\n",
      "  Args:\n",
      "    customer_id: 2\n",
      "    field: Email\n",
      "    value: a@b.com\n",
      "TTTTTTTTTTTTTTTTTTTTTTTTTTTTTTTTTTTTTTTTTTTTTTTTTT\n",
      "update_customer_info invoked witn 2, Email, a@b.com\n",
      "TTTTTTTTTTTTTTTTTTTTTTTTTTTTTTTTTTTTTTTTTTTTTTTTTT\n",
      "Database error: string indices must be integers, not 'str'\n",
      "=================================\u001b[1m Tool Message \u001b[0m=================================\n",
      "Name: update_customer_info\n",
      "\n",
      "Error updating database: string indices must be integers, not 'str'\n",
      "TTTTTTTTTTTTTTTTTTTTTTTTTTTTTTTTTTTTTTTTTTTTTTTTTT\n",
      "handle_account_query\n",
      "TTTTTTTTTTTTTTTTTTTTTTTTTTTTTTTTTTTTTTTTTTTTTTTTTT\n",
      "handle_account_query response = content='' additional_kwargs={'tool_calls': [{'id': 'call_phEz4XoaRHSSntWiGHrtdT02', 'function': {'arguments': '{\"customer_id\":2,\"field\":\"Email\",\"value\":\"a@b.com\"}', 'name': 'update_customer_info'}, 'type': 'function'}], 'refusal': None} response_metadata={'token_usage': {'completion_tokens': 28, 'prompt_tokens': 253, 'total_tokens': 281, 'completion_tokens_details': {'accepted_prediction_tokens': 0, 'audio_tokens': 0, 'reasoning_tokens': 0, 'rejected_prediction_tokens': 0}, 'prompt_tokens_details': {'audio_tokens': 0, 'cached_tokens': 0}}, 'model_name': 'gpt-4o-mini-2024-07-18', 'system_fingerprint': 'fp_06737a9306', 'finish_reason': 'tool_calls', 'logprobs': None} id='run-2cd67ac2-10ba-46ac-9172-c70881e6e660-0' tool_calls=[{'name': 'update_customer_info', 'args': {'customer_id': 2, 'field': 'Email', 'value': 'a@b.com'}, 'id': 'call_phEz4XoaRHSSntWiGHrtdT02', 'type': 'tool_call'}] usage_metadata={'input_tokens': 253, 'output_tokens': 28, 'total_tokens': 281, 'input_token_details': {'audio': 0, 'cache_read': 0}, 'output_token_details': {'audio': 0, 'reasoning': 0}}\n",
      "~~~~~~~~~~~~~~~~~~~~~~~~~~~~~~~~~~~~~~~~~~~~~~~~~~\n",
      "Destination = update_tools\n",
      "~~~~~~~~~~~~~~~~~~~~~~~~~~~~~~~~~~~~~~~~~~~~~~~~~~\n",
      "==================================\u001b[1m Ai Message \u001b[0m==================================\n",
      "Tool Calls:\n",
      "  update_customer_info (call_phEz4XoaRHSSntWiGHrtdT02)\n",
      " Call ID: call_phEz4XoaRHSSntWiGHrtdT02\n",
      "  Args:\n",
      "    customer_id: 2\n",
      "    field: Email\n",
      "    value: a@b.com\n"
     ]
    }
   ],
   "source": [
    "# Input\n",
    "initial_input = {\n",
    "    \"messages\": [HumanMessage(content=\"Hey, my customer ID is 2. Please update my email to a@b.com\")], \n",
    "    \"current_mode\": \"router\", \n",
    "    \"customer_id\": None\n",
    "}\n",
    "\n",
    "# Thread\n",
    "thread = {\"configurable\": {\"thread_id\": \"12\"}}\n",
    "\n",
    "# Run the graph until the first interruption\n",
    "for event in account_agent_graph.stream(initial_input, thread, stream_mode=\"values\"):\n",
    "    event['messages'][-1].pretty_print()\n",
    "\n",
    "# Get user feedback\n",
    "user_approval = input(\"Do you want to call the tool? (yes/no): \")\n",
    "\n",
    "# Check approval\n",
    "if user_approval.lower() == \"yes\":\n",
    "    \n",
    "    # If approved, continue the graph execution\n",
    "    for event in account_agent_graph.stream(None, thread, stream_mode=\"values\"):\n",
    "        event['messages'][-1].pretty_print()\n",
    "        \n",
    "else:\n",
    "    print(\"Operation cancelled by user.\")\n",
    "\n",
    "get_customer_info({\"customer_id\" : 2})"
   ]
  }
 ],
 "metadata": {
  "kernelspec": {
   "display_name": "Python 3 (ipykernel)",
   "language": "python",
   "name": "python3"
  },
  "language_info": {
   "codemirror_mode": {
    "name": "ipython",
    "version": 3
   },
   "file_extension": ".py",
   "mimetype": "text/x-python",
   "name": "python",
   "nbconvert_exporter": "python",
   "pygments_lexer": "ipython3",
   "version": "3.12.3"
  }
 },
 "nbformat": 4,
 "nbformat_minor": 5
}
