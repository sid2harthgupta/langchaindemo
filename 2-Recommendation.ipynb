{
 "cells": [
  {
   "cell_type": "code",
   "execution_count": null,
   "id": "be5698e7-d167-42fc-8e74-2cb0d3997e00",
   "metadata": {},
   "outputs": [],
   "source": [
    "import os\n",
    "from dotenv import load_dotenv\n",
    "from typing import Dict, List, Any, Optional, Annotated, Union, Literal\n",
    "from typing_extensions import TypedDict\n",
    "\n",
    "from langchain_openai import ChatOpenAI\n",
    "from langchain_community.utilities.sql_database import SQLDatabase\n",
    "from langchain_community.vectorstores import SKLearnVectorStore\n",
    "from langchain_openai import OpenAIEmbeddings\n",
    "from langchain_core.tools import tool\n",
    "from langchain_core.messages import BaseMessage, HumanMessage, SystemMessage, AIMessage, ToolMessage\n",
    "from langchain_core.runnables import RunnablePassthrough\n",
    "from langgraph.graph import MessagesState\n",
    "\n",
    "from langgraph.prebuilt import tools_condition, ToolNode\n",
    "\n",
    "from langgraph.graph import StateGraph, START, END\n",
    "from langgraph.checkpoint.memory import MemorySaver\n",
    "from langgraph.prebuilt import ToolNode\n",
    "\n",
    "from IPython.display import Image, display"
   ]
  },
  {
   "cell_type": "code",
   "execution_count": null,
   "id": "4f8ab283-33f9-40a9-b8ec-e0c2193ecda7",
   "metadata": {},
   "outputs": [],
   "source": [
    "load_dotenv()"
   ]
  },
  {
   "cell_type": "code",
   "execution_count": null,
   "id": "3c50e3ba-375f-4de5-8f22-36b0b3030630",
   "metadata": {},
   "outputs": [],
   "source": [
    "db = SQLDatabase.from_uri(\"sqlite:///../sql-support-bot/chinook.db\")\n",
    "print(db.get_usable_table_names())"
   ]
  },
  {
   "cell_type": "code",
   "execution_count": null,
   "id": "960aeba5-4ca2-4e97-848a-1a291ed59e69",
   "metadata": {},
   "outputs": [],
   "source": [
    "os.environ[\"LANGCHAIN_PROJECT\"] = \"music-store-support-demo-prep\""
   ]
  },
  {
   "cell_type": "markdown",
   "id": "effdfc06-a498-4b35-bee3-940c4dd57103",
   "metadata": {},
   "source": [
    "## Set up state"
   ]
  },
  {
   "cell_type": "code",
   "execution_count": null,
   "id": "bb4bcac3-d59e-4f3f-9e3a-1de36c1069b8",
   "metadata": {},
   "outputs": [],
   "source": [
    "class MusicStoreChatbotState(MessagesState):\n",
    "    customer_id: Optional[int]\n",
    "    current_mode: Literal[\"router\", \"account\", \"music\"]"
   ]
  },
  {
   "cell_type": "code",
   "execution_count": null,
   "id": "d7c73486-1ec1-4be2-b3f9-c1275d54523e",
   "metadata": {},
   "outputs": [],
   "source": [
    "model = ChatOpenAI(temperature=0, model_name=\"gpt-4o-mini\")"
   ]
  },
  {
   "cell_type": "markdown",
   "id": "0188cbcd-a9be-4a39-995a-4d75ca7f79e0",
   "metadata": {},
   "source": [
    "## Helper Functions"
   ]
  },
  {
   "cell_type": "code",
   "execution_count": null,
   "id": "74f3b801-d347-4498-97c9-48a4e19e173c",
   "metadata": {},
   "outputs": [],
   "source": [
    "def get_last_human_message(messages: List[BaseMessage]) -> Optional[HumanMessage]:\n",
    "    \"\"\"Extract the last human message from the conversation history.\"\"\"\n",
    "    for message in reversed(messages):\n",
    "        if isinstance(message, HumanMessage):\n",
    "            return message\n",
    "    return None"
   ]
  },
  {
   "cell_type": "code",
   "execution_count": null,
   "id": "5dfcfa4f-287a-4cef-a4c1-c915f9619dab",
   "metadata": {},
   "outputs": [],
   "source": [
    "# Define a thread config dictionary\n",
    "thread_config = {\"configurable\": {\"thread_id\": \"1\"}}\n",
    "\n",
    "# Then use it in your invoke call\n",
    "graph.invoke(\n",
    "    {\"messages\": [HumanMessage(content=\"Hey. recommend music by Amy Winehouse\")], \n",
    "     \"current_mode\": \"router\", \n",
    "     \"customer_id\": None}, \n",
    "    thread_config\n",
    ")"
   ]
  },
  {
   "cell_type": "code",
   "execution_count": null,
   "id": "ee196fc1-4c67-45a3-8b13-c041b8490316",
   "metadata": {},
   "outputs": [],
   "source": [
    "# Define a thread config dictionary\n",
    "thread_config = {\"configurable\": {\"thread_id\": \"1\"}}\n",
    "\n",
    "# Then use it in your invoke call\n",
    "graph.invoke(\n",
    "    {\"messages\": [HumanMessage(content=\"Hey, my customer ID is 2. Please update my email to a@b.com\")], \n",
    "     \"current_mode\": \"router\", \n",
    "     \"customer_id\": None}, \n",
    "    thread_config\n",
    ")"
   ]
  },
  {
   "cell_type": "code",
   "execution_count": null,
   "id": "8bd6bb6c-753f-4982-a313-e861343657d7",
   "metadata": {},
   "outputs": [],
   "source": [
    "# Define a thread config dictionary\n",
    "thread_config = {\"configurable\": {\"thread_id\": \"1\"}}\n",
    "\n",
    "# Then use it in your invoke call\n",
    "graph.invoke(\n",
    "    {\"messages\": [HumanMessage(content=\"What is the meaning of life?\")], \n",
    "     \"current_mode\": \"router\", \n",
    "     \"customer_id\": None}, \n",
    "    thread_config\n",
    ")"
   ]
  },
  {
   "cell_type": "markdown",
   "id": "1a479b67-1732-4ef1-89de-502eb81a7050",
   "metadata": {},
   "source": [
    "## Recommendation Agent"
   ]
  },
  {
   "cell_type": "markdown",
   "id": "ce6c252f-1ebe-4ac5-b6ee-835b3c6e0994",
   "metadata": {},
   "source": [
    "### Tool Helpers- Allow fuzzy retrieval for artists and tracks/songs"
   ]
  },
  {
   "cell_type": "code",
   "execution_count": null,
   "id": "508ca3ee-557e-4db0-93e6-efadb20a9659",
   "metadata": {},
   "outputs": [],
   "source": [
    "artists = db._execute(\"SELECT * FROM artists\")\n",
    "songs = db._execute(\"SELECT * FROM tracks\")\n",
    "artist_retriever = SKLearnVectorStore.from_texts(\n",
    "    [a['Name'] for a in artists],\n",
    "    OpenAIEmbeddings(),\n",
    "    metadatas=artists\n",
    ").as_retriever()\n",
    "\n",
    "\n",
    "song_retriever = SKLearnVectorStore.from_texts(\n",
    "    [a['Name'] for a in songs],\n",
    "    OpenAIEmbeddings(),\n",
    "    metadatas=songs\n",
    ").as_retriever()"
   ]
  },
  {
   "cell_type": "markdown",
   "id": "73eb36a8-146a-4489-a9d2-8f34497244c4",
   "metadata": {},
   "source": [
    "### LLM with Tools"
   ]
  },
  {
   "cell_type": "code",
   "execution_count": null,
   "id": "57a70af4-730a-4261-a1a6-4b73857786da",
   "metadata": {},
   "outputs": [],
   "source": [
    "@tool\n",
    "def get_albums_by_artist(artist: str):\n",
    "    \"\"\"Get albums by an artist (or similar artists).\"\"\"\n",
    "    print(\"T\" * 50)\n",
    "    print(\"get_albums_by_artist tool called\")\n",
    "    print(\"T\" * 50)\n",
    "    docs = artist_retriever.get_relevant_documents(artist)\n",
    "    artist_ids = \", \".join([str(d.metadata['ArtistId']) for d in docs])\n",
    "    return db.run(\n",
    "        f\"SELECT Title, Name as ArtistName FROM albums LEFT JOIN artists ON albums.ArtistId = artists.ArtistId WHERE albums.ArtistId in ({artist_ids});\",\n",
    "        include_columns=True)\n",
    "\n",
    "\n",
    "@tool\n",
    "def get_tracks_by_artist(artist: str):\n",
    "    \"\"\"Get songs by an artist (or similar artists).\"\"\"\n",
    "    print(\"T\" * 50)\n",
    "    print(\"get_tracks_by_artist tool called\")\n",
    "    print(\"T\" * 50)\n",
    "    docs = artist_retriever.get_relevant_documents(artist)\n",
    "    artist_ids = \", \".join([str(d.metadata['ArtistId']) for d in docs])\n",
    "    return db.run(\n",
    "        f\"SELECT tracks.Name as SongName, artists.Name as ArtistName FROM albums LEFT JOIN artists ON albums.ArtistId = artists.ArtistId LEFT JOIN tracks ON tracks.AlbumId = albums.AlbumId WHERE albums.ArtistId in ({artist_ids});\",\n",
    "        include_columns=True)\n",
    "\n",
    "\n",
    "@tool\n",
    "def search_songs(song_title: str):\n",
    "    \"\"\"Search for songs by title.\"\"\"\n",
    "    print(\"T\" * 50)\n",
    "    print(\"search_songs tool called\")\n",
    "    print(\"T\" * 50)\n",
    "    docs = song_retriever.get_relevant_documents(song_title)\n",
    "    return [{\"Title\": doc.page_content, \"TrackId\": doc.metadata[\"TrackId\"]} for doc in docs[:5]]\n",
    "\n",
    "\n",
    "@tool\n",
    "def get_similar_music(genre: str, artist: str = \"\"):\n",
    "    \"\"\"Get music recommendations based on genre and optionally artist.\"\"\"\n",
    "    print(\"T\" * 50)\n",
    "    print(\"get_similar_music tool called\")\n",
    "    print(\"T\" * 50)\n",
    "    # Find genre ID\n",
    "    genre_query = f\"\"\"\n",
    "    SELECT GenreId FROM genres \n",
    "    WHERE Name LIKE '%{genre}%' \n",
    "    LIMIT 1\n",
    "    \"\"\"\n",
    "    genre_result = db.run(genre_query)\n",
    "\n",
    "    if not genre_result:\n",
    "        return f\"No genre found matching '{genre}'\"\n",
    "\n",
    "    genre_id = genre_result.split('|')[0].strip()\n",
    "\n",
    "    # Get tracks in that genre, optionally filtering by artist\n",
    "    artist_filter = \"\"\n",
    "    if artist:\n",
    "        docs = artist_retriever.get_relevant_documents(artist)\n",
    "        if docs:\n",
    "            artist_ids = \", \".join([str(d.metadata['ArtistId']) for d in docs])\n",
    "            artist_filter = f\"AND albums.ArtistId IN ({artist_ids})\"\n",
    "\n",
    "    query = f\"\"\"\n",
    "    SELECT tracks.Name as TrackName, artists.Name as ArtistName, albums.Title as AlbumTitle\n",
    "    FROM tracks\n",
    "    JOIN albums ON tracks.AlbumId = albums.AlbumId\n",
    "    JOIN artists ON albums.ArtistId = artists.ArtistId\n",
    "    WHERE tracks.GenreId = {genre_id} {artist_filter}\n",
    "    ORDER BY RANDOM()\n",
    "    LIMIT 5\n",
    "    \"\"\"\n",
    "\n",
    "    return db.run(query, include_columns=True)"
   ]
  },
  {
   "cell_type": "code",
   "execution_count": null,
   "id": "8d04d1cb-0311-4888-880f-60bdf8715aed",
   "metadata": {},
   "outputs": [],
   "source": [
    "tools = [\n",
    "    get_albums_by_artist,\n",
    "    get_tracks_by_artist,\n",
    "    search_songs,\n",
    "    get_similar_music\n",
    "]\n",
    "music_recommendation_model = ChatOpenAI(temperature=0, model_name=\"gpt-4o-mini\")\n",
    "music_recommendation_model_with_tools = music_recommendation_model.bind_tools(tools)"
   ]
  },
  {
   "cell_type": "markdown",
   "id": "781501e2-ea87-476c-93ad-aef654660986",
   "metadata": {},
   "source": [
    "### Graph Definition"
   ]
  },
  {
   "cell_type": "code",
   "execution_count": null,
   "id": "da9ff5d9-9d19-48b0-94f3-e9610e201494",
   "metadata": {},
   "outputs": [],
   "source": [
    "# Music Recommendation Agent\n",
    "music_system_message = \"\"\"You are a music specialist at a music store.\n",
    "You can help customers:\n",
    "1. Find music by specific artists\n",
    "2. Discover new songs similar to their interests\n",
    "3. Search for specific tracks\n",
    "4. Get recommendations based on genres\n",
    "\n",
    "Always be conversational and enthusiastic about music. If you don't find exactly what they're looking for, suggest alternatives.\n",
    "\"\"\"\n",
    "\n",
    "\n",
    "def handle_music_query(state: MusicStoreChatbotState):\n",
    "    \"\"\"Handle music-related queries\"\"\"\n",
    "    print(\"Processing music query...\")\n",
    "    \n",
    "    # Build messages for the music agent\n",
    "    messages = [SystemMessage(content=music_system_message)]\n",
    "    # Add some conversation context\n",
    "    context_messages = state[\"messages\"][-5:] if len(state[\"messages\"]) > 5 else state[\"messages\"]\n",
    "    messages.extend(context_messages)\n",
    "\n",
    "    # Let the agent determine what to do next\n",
    "    response = music_recommendation_model_with_tools.invoke(messages)\n",
    "    print(f\"Music agent: {response.content}\")\n",
    "\n",
    "    return {\n",
    "        \"messages\": state[\"messages\"] + [response]\n",
    "    }"
   ]
  },
  {
   "cell_type": "code",
   "execution_count": null,
   "id": "dca4fb96-3232-4c0f-8266-eadaff09bc16",
   "metadata": {},
   "outputs": [],
   "source": [
    "music_recommendation_graph_builder = StateGraph(MusicStoreChatbotState)\n",
    "\n",
    "music_recommendation_graph_builder.add_node(\"handle_music_query\", handle_music_query)\n",
    "music_recommendation_graph_builder.add_node(\"tools\", ToolNode(tools))\n",
    "\n",
    "# Add the starting edge\n",
    "music_recommendation_graph_builder.add_edge(START, \"handle_music_query\")\n",
    "music_recommendation_graph_builder.add_conditional_edges(\n",
    "    \"handle_music_query\",\n",
    "    # If the latest message (result) from assistant is a tool call -> tools_condition routes to tools\n",
    "    # If the latest message (result) from assistant is a not a tool call -> tools_condition routes to END\n",
    "    tools_condition,\n",
    ")\n",
    "music_recommendation_graph_builder.add_edge(\"tools\", \"handle_music_query\")\n",
    "music_recommendation_graph_builder.add_edge(\"handle_music_query\", END)\n",
    "\n",
    "memory = MemorySaver()\n",
    "# Can hard-code interruptions  using `builder.compile(interrupt_before=[\"tools\"], checkpointer=memory)`\n",
    "music_recommendation_graph = music_recommendation_graph_builder.compile(checkpointer=memory)"
   ]
  },
  {
   "cell_type": "code",
   "execution_count": null,
   "id": "bc8d9707-f866-46a8-87bd-5d404f34ad5e",
   "metadata": {},
   "outputs": [],
   "source": [
    "display(Image(music_recommendation_graph.get_graph().draw_mermaid_png()))"
   ]
  },
  {
   "cell_type": "markdown",
   "id": "81cc074f-0fba-4a38-9441-e29a111e5f6b",
   "metadata": {},
   "source": [
    "### Test"
   ]
  },
  {
   "cell_type": "code",
   "execution_count": null,
   "id": "c7cdd3c8-3bff-495e-b3f6-0d993e2aaecd",
   "metadata": {},
   "outputs": [],
   "source": [
    "# Define a thread config dictionary\n",
    "thread_config = {\"configurable\": {\"thread_id\": \"1\"}}\n",
    "\n",
    "# Then use it in your invoke call\n",
    "music_recommendation_graph.invoke(\n",
    "    {\"messages\": [HumanMessage(content=\"Hey, recommend music by Amy Winehouse\")], \n",
    "     \"current_mode\": \"router\", \n",
    "     \"customer_id\": None}, \n",
    "    thread_config\n",
    ")"
   ]
  },
  {
   "cell_type": "code",
   "execution_count": null,
   "id": "99f397bf-5460-4ff1-a850-d2e6acbc830e",
   "metadata": {},
   "outputs": [],
   "source": [
    "# Define a thread config dictionary\n",
    "thread_config = {\"configurable\": {\"thread_id\": \"2\"}}\n",
    "\n",
    "# Then use it in your invoke call\n",
    "response = music_recommendation_graph.invoke(\n",
    "    {\"messages\": [HumanMessage(content=\"Hey, recommend songs by Green Day\")], \n",
    "     \"current_mode\": \"router\", \n",
    "     \"customer_id\": None}, \n",
    "    thread_config\n",
    ")"
   ]
  },
  {
   "cell_type": "code",
   "execution_count": null,
   "id": "ec3b7c49-55be-45aa-81bc-70608d76fa4b",
   "metadata": {},
   "outputs": [],
   "source": [
    "# Define a thread config dictionary\n",
    "thread_config = {\"configurable\": {\"thread_id\": \"3\"}}\n",
    "\n",
    "# Then use it in your invoke call\n",
    "response = music_recommendation_graph.invoke(\n",
    "    {\"messages\": [HumanMessage(content=\"Hey, is Boulevard Of Broken Dreams available for purchase?\")], \n",
    "     \"current_mode\": \"router\", \n",
    "     \"customer_id\": None}, \n",
    "    thread_config\n",
    ")"
   ]
  },
  {
   "cell_type": "code",
   "execution_count": null,
   "id": "905874d8-d0b2-4b51-b005-34526a4253e7",
   "metadata": {},
   "outputs": [],
   "source": [
    "# Define a thread config dictionary\n",
    "thread_config = {\"configurable\": {\"thread_id\": \"4\"}}\n",
    "\n",
    "# Then use it in your invoke call\n",
    "response = music_recommendation_graph.invoke(\n",
    "    {\"messages\": [HumanMessage(content=\"Hey, I like Boulevard Of Broken Dreams. What other albums and songs would you recommend?\")], \n",
    "     \"current_mode\": \"router\", \n",
    "     \"customer_id\": None}, \n",
    "    thread_config\n",
    ")"
   ]
  }
 ],
 "metadata": {
  "kernelspec": {
   "display_name": "Python 3 (ipykernel)",
   "language": "python",
   "name": "python3"
  },
  "language_info": {
   "codemirror_mode": {
    "name": "ipython",
    "version": 3
   },
   "file_extension": ".py",
   "mimetype": "text/x-python",
   "name": "python",
   "nbconvert_exporter": "python",
   "pygments_lexer": "ipython3",
   "version": "3.12.3"
  }
 },
 "nbformat": 4,
 "nbformat_minor": 5
}
