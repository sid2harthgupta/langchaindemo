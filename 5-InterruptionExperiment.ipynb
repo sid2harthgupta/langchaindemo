{
 "cells": [
  {
   "cell_type": "code",
   "execution_count": 18,
   "id": "be5698e7-d167-42fc-8e74-2cb0d3997e00",
   "metadata": {},
   "outputs": [],
   "source": [
    "import os\n",
    "from dotenv import load_dotenv\n",
    "from typing import Dict, List, Any, Optional, Annotated, Union, Literal\n",
    "from enum import Enum\n",
    "from typing_extensions import TypedDict\n",
    "\n",
    "from langchain_openai import ChatOpenAI\n",
    "from langchain_community.utilities.sql_database import SQLDatabase\n",
    "from langchain_community.vectorstores import SKLearnVectorStore\n",
    "from langchain_openai import OpenAIEmbeddings\n",
    "from langchain_core.tools import tool\n",
    "from langchain_core.messages import BaseMessage, HumanMessage, SystemMessage, AIMessage, ToolMessage, filter_messages\n",
    "from langchain_core.runnables import RunnablePassthrough\n",
    "from langgraph.graph import MessagesState\n",
    "\n",
    "from langgraph.prebuilt import tools_condition, ToolNode\n",
    "\n",
    "from langgraph.graph import StateGraph, START, END\n",
    "from langgraph.checkpoint.memory import MemorySaver\n",
    "from langgraph.prebuilt import ToolNode\n",
    "from langgraph.errors import NodeInterrupt\n",
    "\n",
    "from IPython.display import Image, display\n",
    "\n",
    "from langchain_core.prompts import ChatPromptTemplate"
   ]
  },
  {
   "cell_type": "code",
   "execution_count": 2,
   "id": "4f8ab283-33f9-40a9-b8ec-e0c2193ecda7",
   "metadata": {},
   "outputs": [
    {
     "data": {
      "text/plain": [
       "True"
      ]
     },
     "execution_count": 2,
     "metadata": {},
     "output_type": "execute_result"
    }
   ],
   "source": [
    "load_dotenv()"
   ]
  },
  {
   "cell_type": "code",
   "execution_count": 3,
   "id": "3c50e3ba-375f-4de5-8f22-36b0b3030630",
   "metadata": {},
   "outputs": [
    {
     "name": "stdout",
     "output_type": "stream",
     "text": [
      "['albums', 'artists', 'customers', 'employees', 'genres', 'invoice_items', 'invoices', 'media_types', 'playlist_track', 'playlists', 'tracks']\n"
     ]
    }
   ],
   "source": [
    "db = SQLDatabase.from_uri(\"sqlite:///../sql-support-bot/chinook.db\")\n",
    "print(db.get_usable_table_names())"
   ]
  },
  {
   "cell_type": "code",
   "execution_count": 4,
   "id": "960aeba5-4ca2-4e97-848a-1a291ed59e69",
   "metadata": {},
   "outputs": [],
   "source": [
    "os.environ[\"LANGCHAIN_PROJECT\"] = \"music-store-support-demo-prep\""
   ]
  },
  {
   "cell_type": "markdown",
   "id": "effdfc06-a498-4b35-bee3-940c4dd57103",
   "metadata": {},
   "source": [
    "# Set up LLMs, state and interrupt messages"
   ]
  },
  {
   "cell_type": "code",
   "execution_count": 5,
   "id": "d7c73486-1ec1-4be2-b3f9-c1275d54523e",
   "metadata": {},
   "outputs": [],
   "source": [
    "llm = ChatOpenAI(temperature=0, model_name=\"gpt-4o-mini\")"
   ]
  },
  {
   "cell_type": "code",
   "execution_count": 6,
   "id": "bb4bcac3-d59e-4f3f-9e3a-1de36c1069b8",
   "metadata": {},
   "outputs": [],
   "source": [
    "# Define the node types for our graph\n",
    "class NodeType(str, Enum):\n",
    "    ROUTER = \"router\"\n",
    "    QUERY = \"query\"\n",
    "    UPDATE = \"update\"\n",
    "    HUMAN_APPROVAL = \"human_approval\"\n",
    "    RESPONSE = \"response\"\n",
    "\n",
    "# Define our graph state schema\n",
    "class GraphState(TypedDict):\n",
    "    messages: List[Union[HumanMessage, AIMessage, SystemMessage]]\n",
    "    customer_id: int\n",
    "    next_node: NodeType\n",
    "    tool_results: Optional[List[Dict]]\n",
    "    update_proposal: Optional[Dict]\n",
    "    approved: Optional[bool]\n",
    "    error: Optional[str]\n"
   ]
  },
  {
   "cell_type": "code",
   "execution_count": 7,
   "id": "d13864e1-bd3e-4c8c-9d89-10f1895d4d0e",
   "metadata": {},
   "outputs": [],
   "source": [
    "action_confirmation_interrupt_message = \"This action will update the database. Please confirm that you want to proceed (yes/no)\""
   ]
  },
  {
   "cell_type": "markdown",
   "id": "0188cbcd-a9be-4a39-995a-4d75ca7f79e0",
   "metadata": {},
   "source": [
    "# Helper Functions"
   ]
  },
  {
   "cell_type": "code",
   "execution_count": 8,
   "id": "74f3b801-d347-4498-97c9-48a4e19e173c",
   "metadata": {},
   "outputs": [],
   "source": [
    "def get_last_human_message(messages: List[BaseMessage]) -> Optional[HumanMessage]:\n",
    "    \"\"\"Extract the last human message from the conversation history.\"\"\"\n",
    "    for message in reversed(messages):\n",
    "        if isinstance(message, HumanMessage):\n",
    "            return message\n",
    "    return None"
   ]
  },
  {
   "cell_type": "markdown",
   "id": "e39c055f-4614-4afd-987f-9beeb3d64781",
   "metadata": {},
   "source": [
    "# Account Agent"
   ]
  },
  {
   "cell_type": "markdown",
   "id": "09b9bc0f-d5fd-4ed8-a881-a2bbee04e634",
   "metadata": {},
   "source": [
    "## Set up graph"
   ]
  },
  {
   "cell_type": "markdown",
   "id": "79c09508-0ad8-4ac3-8fbc-ad19a1d2e250",
   "metadata": {},
   "source": [
    "### Tools"
   ]
  },
  {
   "cell_type": "markdown",
   "id": "6b267511-4c74-496b-8e33-63f0f3be2120",
   "metadata": {},
   "source": [
    "#### Tools for customer profile"
   ]
  },
  {
   "cell_type": "code",
   "execution_count": 9,
   "id": "34eafb91-cf40-4d97-8006-a1b810325e15",
   "metadata": {},
   "outputs": [],
   "source": [
    "@tool\n",
    "def query_customer_info(customer_id: int):\n",
    "    \"\"\"Look up customer info given their ID. Requires customer authentication.\"\"\"\n",
    "    print(\"-\" * 50)\n",
    "    print(f\"query_customer_info called with {customer_id}\")\n",
    "    return db.run(f\"SELECT * FROM customers WHERE CustomerId = {customer_id};\")\n",
    "\n",
    "\n",
    "@tool\n",
    "def get_spending_history(customer_id: int, start_date: str = None, end_date: str = None):\n",
    "    \"\"\"Get a customer's spending history, optionally within a date range.\"\"\"\n",
    "    date_filter = \"\"\n",
    "    if start_date and end_date:\n",
    "        date_filter = f\"AND InvoiceDate BETWEEN '{start_date}' AND '{end_date}'\"\n",
    "    elif start_date:\n",
    "        date_filter = f\"AND InvoiceDate >= '{start_date}'\"\n",
    "    elif end_date:\n",
    "        date_filter = f\"AND InvoiceDate <= '{end_date}'\"\n",
    "    \n",
    "    return db.run(f\"\"\"\n",
    "        SELECT strftime('%Y-%m', InvoiceDate) as Month, \n",
    "               SUM(Total) as MonthlyTotal,\n",
    "               COUNT(InvoiceId) as PurchaseCount\n",
    "        FROM invoices\n",
    "        WHERE CustomerId = {customer_id} {date_filter}\n",
    "        GROUP BY strftime('%Y-%m', InvoiceDate)\n",
    "        ORDER BY Month DESC;\n",
    "    \"\"\", include_columns=True)\n",
    "\n",
    "\n",
    "@tool\n",
    "def get_invoice_details(invoice_id: int):\n",
    "    \"\"\"Get detailed line items for a specific invoice.\"\"\"\n",
    "    return db.run(f\"\"\"\n",
    "        SELECT ii.InvoiceLineId, t.Name as TrackName, \n",
    "               ar.Name as ArtistName, al.Title as AlbumTitle,\n",
    "               ii.UnitPrice, ii.Quantity\n",
    "        FROM invoice_items ii\n",
    "        JOIN tracks t ON ii.TrackId = t.TrackId\n",
    "        JOIN albums al ON t.AlbumId = al.AlbumId\n",
    "        JOIN artists ar ON al.ArtistId = ar.ArtistId\n",
    "        WHERE ii.InvoiceId = {invoice_id}\n",
    "        ORDER BY ii.InvoiceLineId;\n",
    "    \"\"\", include_columns=True)"
   ]
  },
  {
   "cell_type": "code",
   "execution_count": 10,
   "id": "8e25a514-e4af-4e6d-b642-71a67acab8bc",
   "metadata": {},
   "outputs": [],
   "source": [
    "@tool\n",
    "def get_invoice_item(track_id: int) -> Dict:\n",
    "    \"\"\"Returns the invoice item id for a particular track.\"\"\"\n",
    "    # In a real implementation, this would query a product catalog\n",
    "    return {\n",
    "        \"invoice_item_id\": 5001,\n",
    "        \"title\": \"Highway to Hell\", \n",
    "        \"artist\": \"AC/DC\", \n",
    "        \"price\": 12.99, \n",
    "        \"genre\": \"rock\"\n",
    "    }\n",
    "\n",
    "\n",
    "@tool\n",
    "def make_purchase(customer_id: int, invoice_item_id: int) -> Dict:\n",
    "    \"\"\"Purchase a particular track.\"\"\"\n",
    "    # In a real implementation, this would create a purchase record\n",
    "    return {\n",
    "        \"success\": True,\n",
    "        \"customer_id\": customer_id,\n",
    "        \"invoice_id\": 200,\n",
    "        \"invoice_item_id\": invoice_item_id,\n",
    "        \"total\": 12.99\n",
    "    }\n",
    "\n",
    "@tool\n",
    "def update_customer_info(customer_id: int, field: str, value: str) -> str:\n",
    "    \"\"\"\n",
    "    Update a customer's information.\n",
    "    - customer_id: The ID of the customer to update\n",
    "    - field: The field to update (FirstName, LastName, Company, Address, City, State, Country, PostalCode, Phone, Email)\n",
    "    - value: The new value for the field\n",
    "    - confirmed: Has the user confirmed that they want to proceed?\n",
    "    \"\"\"\n",
    "    print(\"-\" * 50)\n",
    "    print(f\"update_customer_info called with {customer_id}\")\n",
    "    allowed_fields = [\"FirstName\", \"LastName\", \"Company\", \"Address\", \"City\", \n",
    "                       \"State\", \"Country\", \"PostalCode\", \"Phone\", \"Email\"]\n",
    "\n",
    "    if field not in allowed_fields:\n",
    "        return f\"Error: Cannot update field '{field}'. Allowed fields are: {', '.join(allowed_fields)}\"\n",
    "\n",
    "    # Verify customer exists first\n",
    "    customer = db.run(f\"SELECT * FROM customers WHERE CustomerId = {customer_id};\")\n",
    "    if not customer:\n",
    "        return f\"Error: No customer found with ID {customer_id}\"\n",
    "\n",
    "    try:\n",
    "        # Sanitize the value to prevent SQL injection\n",
    "        sanitized_value = value.replace(\"'\", \"''\")  # Double up single quotes for SQL safety\n",
    "        \n",
    "        # Execute the actual update query\n",
    "        update_query = f\"UPDATE customers SET {field} = '{sanitized_value}' WHERE CustomerId = {customer_id};\"\n",
    "        db.run(update_query)\n",
    "        \n",
    "        # Simply assume success if no exceptions occurred\n",
    "        return f\"Successfully updated {field} to '{value}' for customer {customer_id}\"\n",
    "    \n",
    "    except Exception as e:\n",
    "        return f\"Error updating database: {str(e)}\""
   ]
  },
  {
   "cell_type": "code",
   "execution_count": 11,
   "id": "840afeb0-264f-493b-b1a0-faf3942299bc",
   "metadata": {},
   "outputs": [],
   "source": [
    "query_tools = [query_customer_info, get_spending_history, get_invoice_details]\n",
    "update_tools = [get_invoice_item, make_purchase, update_customer_info]"
   ]
  },
  {
   "cell_type": "code",
   "execution_count": 16,
   "id": "ef52ed51-b0d6-4f1e-a1cc-2c80464c0bd1",
   "metadata": {},
   "outputs": [],
   "source": [
    "tools_dict = {tool.name: tool for tool in query_tools + update_tools}"
   ]
  },
  {
   "cell_type": "markdown",
   "id": "c852ab5f-f2e2-4946-81bd-82104fd97a73",
   "metadata": {},
   "source": [
    "### Node: Router"
   ]
  },
  {
   "cell_type": "code",
   "execution_count": 19,
   "id": "ffda24f6-8481-4103-a64e-2ffdb4aad995",
   "metadata": {},
   "outputs": [],
   "source": [
    "router_prompt = ChatPromptTemplate.from_template(\"\"\"\n",
    "You are an AI assistant for a music store. Determine if the customer request requires:\n",
    "1. QUERY operations (retrieving information only)\n",
    "2. UPDATE operations (making changes to customer data or purchases)\n",
    "\n",
    "Customer ID: {customer_id}\n",
    "Customer request: {input}\n",
    "\n",
    "Respond with just one word: QUERY or UPDATE\n",
    "\"\"\")\n",
    "\n",
    "def router_llm(state):\n",
    "    \"\"\"Routes the request to either the query or update node.\"\"\"\n",
    "    customer_id = state[\"customer_id\"]\n",
    "    latest_message = state[\"messages\"][-1].content\n",
    "    \n",
    "    response = llm.invoke(router_prompt.format(\n",
    "        customer_id=customer_id, \n",
    "        input=latest_message\n",
    "    ))\n",
    "    \n",
    "    if \"QUERY\" in response.content:\n",
    "        return {\"next_node\": NodeType.QUERY}\n",
    "    else:\n",
    "        return {\"next_node\": NodeType.UPDATE}"
   ]
  },
  {
   "cell_type": "markdown",
   "id": "c61a6d3d-10c9-444a-8f09-af4d0f4145a0",
   "metadata": {},
   "source": [
    "### Node: Query ToolNode"
   ]
  },
  {
   "cell_type": "code",
   "execution_count": 20,
   "id": "2794e12e-c17d-434e-8292-a16ac46ae8d5",
   "metadata": {},
   "outputs": [],
   "source": [
    "query_node = ToolNode(tools=query_tools)"
   ]
  },
  {
   "cell_type": "markdown",
   "id": "ae950e06-b107-464d-b3c9-dc942354bef7",
   "metadata": {},
   "source": [
    "### Node: Update Proposal"
   ]
  },
  {
   "cell_type": "code",
   "execution_count": 21,
   "id": "de3e0203-2f23-44a0-8581-4e5bfe4e4e89",
   "metadata": {},
   "outputs": [],
   "source": [
    "update_prompt = ChatPromptTemplate.from_template(\"\"\"\n",
    "You are an AI assistant for a music store. Create a proposal for the customer's update request.\n",
    "DO NOT EXECUTE the update yet - just describe what will be done.\n",
    "\n",
    "Available tools:\n",
    "- get_invoice_item: Find details about a track using its ID\n",
    "- make_purchase: Purchase a track (requires invoice_item_id)\n",
    "- update_customer_info: Update customer profile information\n",
    "\n",
    "Customer ID: {customer_id}\n",
    "Customer request: {input}\n",
    "\n",
    "Format your response as follows:\n",
    "\n",
    "PROPOSAL:\n",
    "[Detailed description of the proposed changes]\n",
    "\n",
    "TOOL: [name of the tool you would use]\n",
    "PARAMETERS: \n",
    "customer_id: {customer_id}\n",
    "[other parameters needed by the tool]\n",
    "\"\"\")\n",
    "\n",
    "def update_node(state):\n",
    "    \"\"\"Creates a proposal for updates without executing them.\"\"\"\n",
    "    customer_id = state[\"customer_id\"]\n",
    "    latest_message = state[\"messages\"][-1].content\n",
    "    \n",
    "    response = llm.invoke(update_prompt.format(\n",
    "        customer_id=customer_id, \n",
    "        input=latest_message\n",
    "    ))\n",
    "    \n",
    "    content = response.content\n",
    "    \n",
    "    # Parse the proposal and tool information\n",
    "    proposal_text = \"\"\n",
    "    tool_name = \"\"\n",
    "    parameters = {}\n",
    "    \n",
    "    if \"PROPOSAL:\" in content and \"TOOL:\" in content:\n",
    "        proposal_text = content.split(\"PROPOSAL:\")[1].split(\"TOOL:\")[0].strip()\n",
    "        tool_part = content.split(\"TOOL:\")[1].strip()\n",
    "        \n",
    "        if \"PARAMETERS:\" in tool_part:\n",
    "            tool_name = tool_part.split(\"PARAMETERS:\")[0].strip()\n",
    "            params_text = tool_part.split(\"PARAMETERS:\")[1].strip()\n",
    "            \n",
    "            # Simple parameter parsing\n",
    "            for line in params_text.strip().split(\"\\n\"):\n",
    "                if \":\" in line:\n",
    "                    key, value = line.split(\":\", 1)\n",
    "                    key = key.strip()\n",
    "                    value = value.strip()\n",
    "                    \n",
    "                    # Try to convert to appropriate types\n",
    "                    if value.isdigit():\n",
    "                        parameters[key] = int(value)\n",
    "                    else:\n",
    "                        parameters[key] = value\n",
    "    \n",
    "    # Ensure customer_id is always included\n",
    "    parameters[\"customer_id\"] = customer_id\n",
    "    \n",
    "    return {\n",
    "        \"next_node\": NodeType.HUMAN_APPROVAL,\n",
    "        \"update_proposal\": {\n",
    "            \"description\": proposal_text,\n",
    "            \"tool\": tool_name,\n",
    "            \"parameters\": parameters\n",
    "        }\n",
    "    }"
   ]
  },
  {
   "cell_type": "markdown",
   "id": "26032d40-5a53-4451-abcd-55e374945a39",
   "metadata": {},
   "source": [
    "### Node: Human Approval"
   ]
  },
  {
   "cell_type": "code",
   "execution_count": 25,
   "id": "5da2c2b4-834f-4234-ade9-c34efe2daddf",
   "metadata": {},
   "outputs": [],
   "source": [
    "def human_approval_node(state):\n",
    "    \"\"\"Handles human-in-the-loop approval for updates.\"\"\"\n",
    "    proposal = state.get(\"update_proposal\", {})\n",
    "    description = proposal.get(\"description\", \"\")\n",
    "    tool_name = proposal.get(\"tool\", \"\")\n",
    "    parameters = proposal.get(\"parameters\", {})\n",
    "    approved = state.get(\"approved\", False)\n",
    "    \n",
    "    # The approval decision now comes from the interruption\n",
    "    if approved:\n",
    "        try:\n",
    "            # Get the tool from our tools dictionary\n",
    "            if tool_name in tools_dict:\n",
    "                # Execute the tool directly\n",
    "                result = tools_dict[tool_name].invoke(parameters)\n",
    "                return {\n",
    "                    \"next_node\": NodeType.RESPONSE,\n",
    "                    \"tool_results\": [{\"tool\": tool_name, \"result\": result}]\n",
    "                }\n",
    "            else:\n",
    "                return {\n",
    "                    \"next_node\": NodeType.RESPONSE,\n",
    "                    \"error\": f\"Tool '{tool_name}' not found\"\n",
    "                }\n",
    "        except Exception as e:\n",
    "            return {\n",
    "                \"next_node\": NodeType.RESPONSE,\n",
    "                \"error\": f\"Error executing {tool_name}: {str(e)}\"\n",
    "            }\n",
    "    else:\n",
    "        return {\n",
    "            \"next_node\": NodeType.RESPONSE,\n",
    "            \"error\": \"Update not approved by user\"\n",
    "        }"
   ]
  },
  {
   "cell_type": "code",
   "execution_count": 26,
   "id": "cb4b12ef-5e4d-4ed5-90f1-95c4a40dd0a0",
   "metadata": {},
   "outputs": [],
   "source": [
    "async def human_approval_interrupt(state):\n",
    "    \"\"\"Interruption function that handles human approval UI and interaction.\"\"\"\n",
    "    proposal = state.get(\"update_proposal\", {})\n",
    "    description = proposal.get(\"description\", \"\")\n",
    "    tool_name = proposal.get(\"tool\", \"\")\n",
    "    parameters = proposal.get(\"parameters\", {})\n",
    "    \n",
    "    # Create a human-readable description of what will be done\n",
    "    if tool_name == \"make_purchase\":\n",
    "        action_description = f\"Purchase track with invoice_item_id: {parameters.get('invoice_item_id')}\"\n",
    "    elif tool_name == \"update_customer_info\":\n",
    "        action_description = f\"Update {parameters.get('field')} to: {parameters.get('value')}\"\n",
    "    else:\n",
    "        action_description = f\"Execute {tool_name} with parameters: {parameters}\"\n",
    "    \n",
    "    # In a real implementation, this would present a UI to the user\n",
    "    # For example:\n",
    "    # from your_ui_library import show_approval_dialog\n",
    "    # approval_result = await show_approval_dialog(\n",
    "    #     title=\"Approval Required\",\n",
    "    #     message=f\"The following change has been requested:\\n{description}\\n\\nAction: {action_description}\",\n",
    "    #     options=[\"Approve\", \"Reject\"]\n",
    "    # )\n",
    "    # approved = approval_result == \"Approve\"\n",
    "    \n",
    "    # For simulation purposes:\n",
    "    print(\"\\n\" + \"=\"*50)\n",
    "    print(\"🚨 HUMAN APPROVAL REQUIRED 🚨\")\n",
    "    print(f\"PROPOSAL: {description}\")\n",
    "    print(f\"ACTION: {action_description}\")\n",
    "    print(f\"PARAMETERS: {parameters}\")\n",
    "    print(\"=\"*50)\n",
    "    \n",
    "    # In a real implementation, we would await user input through a UI\n",
    "    # For this example, let's simulate automatic approval\n",
    "    approved = True  # In production, this would be the result of user interaction\n",
    "    \n",
    "    print(f\"✅ APPROVAL STATUS: {'Approved' if approved else 'Rejected'}\\n\")\n",
    "    \n",
    "    # Return the approval decision to update the state\n",
    "    return {\"approved\": approved}"
   ]
  },
  {
   "cell_type": "markdown",
   "id": "40eb7c7f-63ce-43b0-810b-8d8ca56b5444",
   "metadata": {},
   "source": [
    "### Node: Response LLM"
   ]
  },
  {
   "cell_type": "code",
   "execution_count": 27,
   "id": "95f56fb0-4e7d-49d8-92fe-3fd83ae57e59",
   "metadata": {},
   "outputs": [],
   "source": [
    "response_prompt = ChatPromptTemplate.from_template(\"\"\"\n",
    "You are an AI assistant for a music store. Provide a natural language response to the customer.\n",
    "\n",
    "Customer request: {input}\n",
    "Operation type: {operation_type}\n",
    "\n",
    "{context}\n",
    "\n",
    "Respond in a helpful, friendly way. Summarize what was done or found. \n",
    "If there was an error, explain what went wrong in simple terms.\n",
    "\"\"\")\n",
    "\n",
    "def response_llm(state):\n",
    "    \"\"\"Generates natural language responses based on tool results.\"\"\"\n",
    "    latest_message = state[\"messages\"][-1].content\n",
    "    operation_type = state.get(\"next_node\", \"\")\n",
    "    \n",
    "    # Prepare context based on operation type\n",
    "    context = \"\"\n",
    "    if \"tool_results\" in state and state.get(\"tool_results\"):\n",
    "        if operation_type == NodeType.QUERY:\n",
    "            context = f\"Query results: {state['tool_results']}\"\n",
    "        elif state.get(\"approved\", False):\n",
    "            context = f\"Update approved and completed: {state['tool_results']}\"\n",
    "        else:\n",
    "            context = f\"Update failed: {state.get('error', 'Unknown error')}\"\n",
    "    else:\n",
    "        context = f\"Error: {state.get('error', 'No results found')}\"\n",
    "    \n",
    "    response = llm.invoke(response_prompt.format(\n",
    "        input=latest_message,\n",
    "        operation_type=operation_type,\n",
    "        context=context\n",
    "    ))\n",
    "    \n",
    "    # Add the response to messages\n",
    "    return {\"messages\": state[\"messages\"] + [AIMessage(content=response.content)]}"
   ]
  },
  {
   "cell_type": "markdown",
   "id": "14e36bac-6cb2-4c13-a288-9f32c48f7b55",
   "metadata": {},
   "source": [
    "### Graph definition"
   ]
  },
  {
   "cell_type": "code",
   "execution_count": 31,
   "id": "d3661c5e-015d-4de1-83fa-d9495dec0d27",
   "metadata": {},
   "outputs": [],
   "source": [
    "def create_music_store_graph():\n",
    "    \"\"\"Creates and returns the compiled LangGraph for the music store application.\"\"\"\n",
    "    graph = StateGraph(GraphState)\n",
    "    \n",
    "    # Add nodes\n",
    "    graph.add_node(NodeType.ROUTER, router_llm)\n",
    "    graph.add_node(NodeType.QUERY, query_node)\n",
    "    graph.add_node(NodeType.UPDATE, update_node)\n",
    "    graph.add_node(NodeType.HUMAN_APPROVAL, human_approval_node)\n",
    "    graph.add_node(NodeType.RESPONSE, response_llm)\n",
    "    \n",
    "    # Add edges\n",
    "    graph.add_conditional_edges(\n",
    "        NodeType.ROUTER,\n",
    "        lambda x: x.get(\"next_node\"),\n",
    "        {\n",
    "            NodeType.QUERY: NodeType.QUERY,\n",
    "            NodeType.UPDATE: NodeType.UPDATE\n",
    "        }\n",
    "    )\n",
    "    graph.add_edge(NodeType.QUERY, NodeType.RESPONSE)\n",
    "    graph.add_edge(NodeType.UPDATE, NodeType.HUMAN_APPROVAL)\n",
    "    graph.add_edge(NodeType.HUMAN_APPROVAL, NodeType.RESPONSE)\n",
    "    graph.add_edge(NodeType.RESPONSE, END)\n",
    "    \n",
    "    # Set the entry point\n",
    "    graph.set_entry_point(NodeType.ROUTER)\n",
    "    \n",
    "    # Compile the graph\n",
    "    return graph.compile(\n",
    "        interrupt_before=[NodeType.HUMAN_APPROVAL]\n",
    "    )\n",
    "\n",
    "# Create the application\n",
    "music_store_app = create_music_store_graph()"
   ]
  },
  {
   "cell_type": "code",
   "execution_count": 36,
   "id": "d34f155e-63d5-4186-a9b2-3d275e96599a",
   "metadata": {},
   "outputs": [
    {
     "data": {
      "image/png": "[encoded data removed]",
      "text/plain": [
       "<IPython.core.display.Image object>"
      ]
     },
     "metadata": {},
     "output_type": "display_data"
    }
   ],
   "source": [
    "display(Image(music_store_app.get_graph().draw_mermaid_png()))"
   ]
  },
  {
   "cell_type": "markdown",
   "id": "57813d14-bb4c-4767-a211-91fc22900ef6",
   "metadata": {},
   "source": [
    "## Test"
   ]
  },
  {
   "cell_type": "code",
   "execution_count": 34,
   "id": "e39465d0-b0a8-43a3-be1f-66bf2c14cf14",
   "metadata": {},
   "outputs": [],
   "source": [
    "def process_user_request(user_input: str, customer_id: int):\n",
    "    \"\"\"Process a user request through the graph.\"\"\"\n",
    "    initial_state = {\n",
    "        \"messages\": [HumanMessage(content=user_input)],\n",
    "        \"customer_id\": customer_id,\n",
    "        \"next_node\": NodeType.ROUTER,\n",
    "        \"tool_results\": None,\n",
    "        \"update_proposal\": None,\n",
    "        \"approved\": None,\n",
    "        \"error\": None\n",
    "    }\n",
    "    \n",
    "    final_state = music_store_app.invoke(initial_state)\n",
    "    return final_state"
   ]
  },
  {
   "cell_type": "code",
   "execution_count": 35,
   "id": "d0cedc95-5e9e-4ad0-8551-75fb48b9a427",
   "metadata": {},
   "outputs": [
    {
     "ename": "ValueError",
     "evalue": "Last message is not an AIMessage",
     "output_type": "error",
     "traceback": [
      "\u001b[0;31m---------------------------------------------------------------------------\u001b[0m",
      "\u001b[0;31mValueError\u001b[0m                                Traceback (most recent call last)",
      "Cell \u001b[0;32mIn[35], line 2\u001b[0m\n\u001b[1;32m      1\u001b[0m query_request \u001b[38;5;241m=\u001b[39m \u001b[38;5;124m\"\u001b[39m\u001b[38;5;124mShow my contact information?\u001b[39m\u001b[38;5;124m\"\u001b[39m\n\u001b[0;32m----> 2\u001b[0m query_result \u001b[38;5;241m=\u001b[39m \u001b[43mprocess_user_request\u001b[49m\u001b[43m(\u001b[49m\u001b[43mquery_request\u001b[49m\u001b[43m,\u001b[49m\u001b[43m \u001b[49m\u001b[43mcustomer_id\u001b[49m\u001b[38;5;241;43m=\u001b[39;49m\u001b[38;5;241;43m12\u001b[39;49m\u001b[43m)\u001b[49m\n\u001b[1;32m      3\u001b[0m \u001b[38;5;28mprint\u001b[39m(\u001b[38;5;124m\"\u001b[39m\u001b[38;5;124mQuery result:\u001b[39m\u001b[38;5;124m\"\u001b[39m, query_result[\u001b[38;5;124m\"\u001b[39m\u001b[38;5;124mmessages\u001b[39m\u001b[38;5;124m\"\u001b[39m][\u001b[38;5;241m-\u001b[39m\u001b[38;5;241m1\u001b[39m]\u001b[38;5;241m.\u001b[39mcontent)\n",
      "Cell \u001b[0;32mIn[34], line 13\u001b[0m, in \u001b[0;36mprocess_user_request\u001b[0;34m(user_input, customer_id)\u001b[0m\n\u001b[1;32m      2\u001b[0m \u001b[38;5;250m\u001b[39m\u001b[38;5;124;03m\"\"\"Process a user request through the graph.\"\"\"\u001b[39;00m\n\u001b[1;32m      3\u001b[0m initial_state \u001b[38;5;241m=\u001b[39m {\n\u001b[1;32m      4\u001b[0m     \u001b[38;5;124m\"\u001b[39m\u001b[38;5;124mmessages\u001b[39m\u001b[38;5;124m\"\u001b[39m: [HumanMessage(content\u001b[38;5;241m=\u001b[39muser_input)],\n\u001b[1;32m      5\u001b[0m     \u001b[38;5;124m\"\u001b[39m\u001b[38;5;124mcustomer_id\u001b[39m\u001b[38;5;124m\"\u001b[39m: customer_id,\n\u001b[0;32m   (...)\u001b[0m\n\u001b[1;32m     10\u001b[0m     \u001b[38;5;124m\"\u001b[39m\u001b[38;5;124merror\u001b[39m\u001b[38;5;124m\"\u001b[39m: \u001b[38;5;28;01mNone\u001b[39;00m\n\u001b[1;32m     11\u001b[0m }\n\u001b[0;32m---> 13\u001b[0m final_state \u001b[38;5;241m=\u001b[39m \u001b[43mmusic_store_app\u001b[49m\u001b[38;5;241;43m.\u001b[39;49m\u001b[43minvoke\u001b[49m\u001b[43m(\u001b[49m\u001b[43minitial_state\u001b[49m\u001b[43m)\u001b[49m\n\u001b[1;32m     14\u001b[0m \u001b[38;5;28;01mreturn\u001b[39;00m final_state\n",
      "File \u001b[0;32m~/.pyenv/versions/3.12.3/lib/python3.12/site-packages/langgraph/pregel/__init__.py:2336\u001b[0m, in \u001b[0;36mPregel.invoke\u001b[0;34m(self, input, config, stream_mode, output_keys, interrupt_before, interrupt_after, debug, **kwargs)\u001b[0m\n\u001b[1;32m   2334\u001b[0m \u001b[38;5;28;01melse\u001b[39;00m:\n\u001b[1;32m   2335\u001b[0m     chunks \u001b[38;5;241m=\u001b[39m []\n\u001b[0;32m-> 2336\u001b[0m \u001b[43m\u001b[49m\u001b[38;5;28;43;01mfor\u001b[39;49;00m\u001b[43m \u001b[49m\u001b[43mchunk\u001b[49m\u001b[43m \u001b[49m\u001b[38;5;129;43;01min\u001b[39;49;00m\u001b[43m \u001b[49m\u001b[38;5;28;43mself\u001b[39;49m\u001b[38;5;241;43m.\u001b[39;49m\u001b[43mstream\u001b[49m\u001b[43m(\u001b[49m\n\u001b[1;32m   2337\u001b[0m \u001b[43m    \u001b[49m\u001b[38;5;28;43minput\u001b[39;49m\u001b[43m,\u001b[49m\n\u001b[1;32m   2338\u001b[0m \u001b[43m    \u001b[49m\u001b[43mconfig\u001b[49m\u001b[43m,\u001b[49m\n\u001b[1;32m   2339\u001b[0m \u001b[43m    \u001b[49m\u001b[43mstream_mode\u001b[49m\u001b[38;5;241;43m=\u001b[39;49m\u001b[43mstream_mode\u001b[49m\u001b[43m,\u001b[49m\n\u001b[1;32m   2340\u001b[0m \u001b[43m    \u001b[49m\u001b[43moutput_keys\u001b[49m\u001b[38;5;241;43m=\u001b[39;49m\u001b[43moutput_keys\u001b[49m\u001b[43m,\u001b[49m\n\u001b[1;32m   2341\u001b[0m \u001b[43m    \u001b[49m\u001b[43minterrupt_before\u001b[49m\u001b[38;5;241;43m=\u001b[39;49m\u001b[43minterrupt_before\u001b[49m\u001b[43m,\u001b[49m\n\u001b[1;32m   2342\u001b[0m \u001b[43m    \u001b[49m\u001b[43minterrupt_after\u001b[49m\u001b[38;5;241;43m=\u001b[39;49m\u001b[43minterrupt_after\u001b[49m\u001b[43m,\u001b[49m\n\u001b[1;32m   2343\u001b[0m \u001b[43m    \u001b[49m\u001b[43mdebug\u001b[49m\u001b[38;5;241;43m=\u001b[39;49m\u001b[43mdebug\u001b[49m\u001b[43m,\u001b[49m\n\u001b[1;32m   2344\u001b[0m \u001b[43m    \u001b[49m\u001b[38;5;241;43m*\u001b[39;49m\u001b[38;5;241;43m*\u001b[39;49m\u001b[43mkwargs\u001b[49m\u001b[43m,\u001b[49m\n\u001b[1;32m   2345\u001b[0m \u001b[43m\u001b[49m\u001b[43m)\u001b[49m\u001b[43m:\u001b[49m\n\u001b[1;32m   2346\u001b[0m \u001b[43m    \u001b[49m\u001b[38;5;28;43;01mif\u001b[39;49;00m\u001b[43m \u001b[49m\u001b[43mstream_mode\u001b[49m\u001b[43m \u001b[49m\u001b[38;5;241;43m==\u001b[39;49m\u001b[43m \u001b[49m\u001b[38;5;124;43m\"\u001b[39;49m\u001b[38;5;124;43mvalues\u001b[39;49m\u001b[38;5;124;43m\"\u001b[39;49m\u001b[43m:\u001b[49m\n\u001b[1;32m   2347\u001b[0m \u001b[43m        \u001b[49m\u001b[43mlatest\u001b[49m\u001b[43m \u001b[49m\u001b[38;5;241;43m=\u001b[39;49m\u001b[43m \u001b[49m\u001b[43mchunk\u001b[49m\n",
      "File \u001b[0;32m~/.pyenv/versions/3.12.3/lib/python3.12/site-packages/langgraph/pregel/__init__.py:1993\u001b[0m, in \u001b[0;36mPregel.stream\u001b[0;34m(self, input, config, stream_mode, output_keys, interrupt_before, interrupt_after, debug, subgraphs)\u001b[0m\n\u001b[1;32m   1987\u001b[0m     \u001b[38;5;66;03m# Similarly to Bulk Synchronous Parallel / Pregel model\u001b[39;00m\n\u001b[1;32m   1988\u001b[0m     \u001b[38;5;66;03m# computation proceeds in steps, while there are channel updates.\u001b[39;00m\n\u001b[1;32m   1989\u001b[0m     \u001b[38;5;66;03m# Channel updates from step N are only visible in step N+1\u001b[39;00m\n\u001b[1;32m   1990\u001b[0m     \u001b[38;5;66;03m# channels are guaranteed to be immutable for the duration of the step,\u001b[39;00m\n\u001b[1;32m   1991\u001b[0m     \u001b[38;5;66;03m# with channel updates applied only at the transition between steps.\u001b[39;00m\n\u001b[1;32m   1992\u001b[0m     \u001b[38;5;28;01mwhile\u001b[39;00m loop\u001b[38;5;241m.\u001b[39mtick(input_keys\u001b[38;5;241m=\u001b[39m\u001b[38;5;28mself\u001b[39m\u001b[38;5;241m.\u001b[39minput_channels):\n\u001b[0;32m-> 1993\u001b[0m \u001b[43m        \u001b[49m\u001b[38;5;28;43;01mfor\u001b[39;49;00m\u001b[43m \u001b[49m\u001b[43m_\u001b[49m\u001b[43m \u001b[49m\u001b[38;5;129;43;01min\u001b[39;49;00m\u001b[43m \u001b[49m\u001b[43mrunner\u001b[49m\u001b[38;5;241;43m.\u001b[39;49m\u001b[43mtick\u001b[49m\u001b[43m(\u001b[49m\n\u001b[1;32m   1994\u001b[0m \u001b[43m            \u001b[49m\u001b[43mloop\u001b[49m\u001b[38;5;241;43m.\u001b[39;49m\u001b[43mtasks\u001b[49m\u001b[38;5;241;43m.\u001b[39;49m\u001b[43mvalues\u001b[49m\u001b[43m(\u001b[49m\u001b[43m)\u001b[49m\u001b[43m,\u001b[49m\n\u001b[1;32m   1995\u001b[0m \u001b[43m            \u001b[49m\u001b[43mtimeout\u001b[49m\u001b[38;5;241;43m=\u001b[39;49m\u001b[38;5;28;43mself\u001b[39;49m\u001b[38;5;241;43m.\u001b[39;49m\u001b[43mstep_timeout\u001b[49m\u001b[43m,\u001b[49m\n\u001b[1;32m   1996\u001b[0m \u001b[43m            \u001b[49m\u001b[43mretry_policy\u001b[49m\u001b[38;5;241;43m=\u001b[39;49m\u001b[38;5;28;43mself\u001b[39;49m\u001b[38;5;241;43m.\u001b[39;49m\u001b[43mretry_policy\u001b[49m\u001b[43m,\u001b[49m\n\u001b[1;32m   1997\u001b[0m \u001b[43m            \u001b[49m\u001b[43mget_waiter\u001b[49m\u001b[38;5;241;43m=\u001b[39;49m\u001b[43mget_waiter\u001b[49m\u001b[43m,\u001b[49m\n\u001b[1;32m   1998\u001b[0m \u001b[43m        \u001b[49m\u001b[43m)\u001b[49m\u001b[43m:\u001b[49m\n\u001b[1;32m   1999\u001b[0m \u001b[43m            \u001b[49m\u001b[38;5;66;43;03m# emit output\u001b[39;49;00m\n\u001b[1;32m   2000\u001b[0m \u001b[43m            \u001b[49m\u001b[38;5;28;43;01myield from\u001b[39;49;00m\u001b[43m \u001b[49m\u001b[43moutput\u001b[49m\u001b[43m(\u001b[49m\u001b[43m)\u001b[49m\n\u001b[1;32m   2001\u001b[0m \u001b[38;5;66;03m# emit output\u001b[39;00m\n",
      "File \u001b[0;32m~/.pyenv/versions/3.12.3/lib/python3.12/site-packages/langgraph/pregel/runner.py:230\u001b[0m, in \u001b[0;36mPregelRunner.tick\u001b[0;34m(self, tasks, reraise, timeout, retry_policy, get_waiter)\u001b[0m\n\u001b[1;32m    228\u001b[0m t \u001b[38;5;241m=\u001b[39m tasks[\u001b[38;5;241m0\u001b[39m]\n\u001b[1;32m    229\u001b[0m \u001b[38;5;28;01mtry\u001b[39;00m:\n\u001b[0;32m--> 230\u001b[0m     \u001b[43mrun_with_retry\u001b[49m\u001b[43m(\u001b[49m\n\u001b[1;32m    231\u001b[0m \u001b[43m        \u001b[49m\u001b[43mt\u001b[49m\u001b[43m,\u001b[49m\n\u001b[1;32m    232\u001b[0m \u001b[43m        \u001b[49m\u001b[43mretry_policy\u001b[49m\u001b[43m,\u001b[49m\n\u001b[1;32m    233\u001b[0m \u001b[43m        \u001b[49m\u001b[43mconfigurable\u001b[49m\u001b[38;5;241;43m=\u001b[39;49m\u001b[43m{\u001b[49m\n\u001b[1;32m    234\u001b[0m \u001b[43m            \u001b[49m\u001b[43mCONFIG_KEY_SEND\u001b[49m\u001b[43m:\u001b[49m\u001b[43m \u001b[49m\u001b[43mpartial\u001b[49m\u001b[43m(\u001b[49m\u001b[43mwriter\u001b[49m\u001b[43m,\u001b[49m\u001b[43m \u001b[49m\u001b[43mt\u001b[49m\u001b[43m)\u001b[49m\u001b[43m,\u001b[49m\n\u001b[1;32m    235\u001b[0m \u001b[43m            \u001b[49m\u001b[43mCONFIG_KEY_CALL\u001b[49m\u001b[43m:\u001b[49m\u001b[43m \u001b[49m\u001b[43mpartial\u001b[49m\u001b[43m(\u001b[49m\u001b[43mcall\u001b[49m\u001b[43m,\u001b[49m\u001b[43m \u001b[49m\u001b[43mt\u001b[49m\u001b[43m)\u001b[49m\u001b[43m,\u001b[49m\n\u001b[1;32m    236\u001b[0m \u001b[43m        \u001b[49m\u001b[43m}\u001b[49m\u001b[43m,\u001b[49m\n\u001b[1;32m    237\u001b[0m \u001b[43m    \u001b[49m\u001b[43m)\u001b[49m\n\u001b[1;32m    238\u001b[0m     \u001b[38;5;28mself\u001b[39m\u001b[38;5;241m.\u001b[39mcommit(t, \u001b[38;5;28;01mNone\u001b[39;00m)\n\u001b[1;32m    239\u001b[0m \u001b[38;5;28;01mexcept\u001b[39;00m \u001b[38;5;167;01mException\u001b[39;00m \u001b[38;5;28;01mas\u001b[39;00m exc:\n",
      "File \u001b[0;32m~/.pyenv/versions/3.12.3/lib/python3.12/site-packages/langgraph/pregel/retry.py:40\u001b[0m, in \u001b[0;36mrun_with_retry\u001b[0;34m(task, retry_policy, configurable)\u001b[0m\n\u001b[1;32m     38\u001b[0m     task\u001b[38;5;241m.\u001b[39mwrites\u001b[38;5;241m.\u001b[39mclear()\n\u001b[1;32m     39\u001b[0m     \u001b[38;5;66;03m# run the task\u001b[39;00m\n\u001b[0;32m---> 40\u001b[0m     \u001b[38;5;28;01mreturn\u001b[39;00m \u001b[43mtask\u001b[49m\u001b[38;5;241;43m.\u001b[39;49m\u001b[43mproc\u001b[49m\u001b[38;5;241;43m.\u001b[39;49m\u001b[43minvoke\u001b[49m\u001b[43m(\u001b[49m\u001b[43mtask\u001b[49m\u001b[38;5;241;43m.\u001b[39;49m\u001b[43minput\u001b[49m\u001b[43m,\u001b[49m\u001b[43m \u001b[49m\u001b[43mconfig\u001b[49m\u001b[43m)\u001b[49m\n\u001b[1;32m     41\u001b[0m \u001b[38;5;28;01mexcept\u001b[39;00m ParentCommand \u001b[38;5;28;01mas\u001b[39;00m exc:\n\u001b[1;32m     42\u001b[0m     ns: \u001b[38;5;28mstr\u001b[39m \u001b[38;5;241m=\u001b[39m config[CONF][CONFIG_KEY_CHECKPOINT_NS]\n",
      "File \u001b[0;32m~/.pyenv/versions/3.12.3/lib/python3.12/site-packages/langgraph/utils/runnable.py:546\u001b[0m, in \u001b[0;36mRunnableSeq.invoke\u001b[0;34m(self, input, config, **kwargs)\u001b[0m\n\u001b[1;32m    542\u001b[0m config \u001b[38;5;241m=\u001b[39m patch_config(\n\u001b[1;32m    543\u001b[0m     config, callbacks\u001b[38;5;241m=\u001b[39mrun_manager\u001b[38;5;241m.\u001b[39mget_child(\u001b[38;5;124mf\u001b[39m\u001b[38;5;124m\"\u001b[39m\u001b[38;5;124mseq:step:\u001b[39m\u001b[38;5;132;01m{\u001b[39;00mi\u001b[38;5;250m \u001b[39m\u001b[38;5;241m+\u001b[39m\u001b[38;5;250m \u001b[39m\u001b[38;5;241m1\u001b[39m\u001b[38;5;132;01m}\u001b[39;00m\u001b[38;5;124m\"\u001b[39m)\n\u001b[1;32m    544\u001b[0m )\n\u001b[1;32m    545\u001b[0m \u001b[38;5;28;01mif\u001b[39;00m i \u001b[38;5;241m==\u001b[39m \u001b[38;5;241m0\u001b[39m:\n\u001b[0;32m--> 546\u001b[0m     \u001b[38;5;28minput\u001b[39m \u001b[38;5;241m=\u001b[39m \u001b[43mstep\u001b[49m\u001b[38;5;241;43m.\u001b[39;49m\u001b[43minvoke\u001b[49m\u001b[43m(\u001b[49m\u001b[38;5;28;43minput\u001b[39;49m\u001b[43m,\u001b[49m\u001b[43m \u001b[49m\u001b[43mconfig\u001b[49m\u001b[43m,\u001b[49m\u001b[43m \u001b[49m\u001b[38;5;241;43m*\u001b[39;49m\u001b[38;5;241;43m*\u001b[39;49m\u001b[43mkwargs\u001b[49m\u001b[43m)\u001b[49m\n\u001b[1;32m    547\u001b[0m \u001b[38;5;28;01melse\u001b[39;00m:\n\u001b[1;32m    548\u001b[0m     \u001b[38;5;28minput\u001b[39m \u001b[38;5;241m=\u001b[39m step\u001b[38;5;241m.\u001b[39minvoke(\u001b[38;5;28minput\u001b[39m, config)\n",
      "File \u001b[0;32m~/.pyenv/versions/3.12.3/lib/python3.12/site-packages/langgraph/utils/runnable.py:310\u001b[0m, in \u001b[0;36mRunnableCallable.invoke\u001b[0;34m(self, input, config, **kwargs)\u001b[0m\n\u001b[1;32m    308\u001b[0m \u001b[38;5;28;01melse\u001b[39;00m:\n\u001b[1;32m    309\u001b[0m     context\u001b[38;5;241m.\u001b[39mrun(_set_config_context, config)\n\u001b[0;32m--> 310\u001b[0m     ret \u001b[38;5;241m=\u001b[39m \u001b[43mcontext\u001b[49m\u001b[38;5;241;43m.\u001b[39;49m\u001b[43mrun\u001b[49m\u001b[43m(\u001b[49m\u001b[38;5;28;43mself\u001b[39;49m\u001b[38;5;241;43m.\u001b[39;49m\u001b[43mfunc\u001b[49m\u001b[43m,\u001b[49m\u001b[43m \u001b[49m\u001b[38;5;241;43m*\u001b[39;49m\u001b[43margs\u001b[49m\u001b[43m,\u001b[49m\u001b[43m \u001b[49m\u001b[38;5;241;43m*\u001b[39;49m\u001b[38;5;241;43m*\u001b[39;49m\u001b[43mkwargs\u001b[49m\u001b[43m)\u001b[49m\n\u001b[1;32m    311\u001b[0m \u001b[38;5;28;01mif\u001b[39;00m \u001b[38;5;28misinstance\u001b[39m(ret, Runnable) \u001b[38;5;129;01mand\u001b[39;00m \u001b[38;5;28mself\u001b[39m\u001b[38;5;241m.\u001b[39mrecurse:\n\u001b[1;32m    312\u001b[0m     \u001b[38;5;28;01mreturn\u001b[39;00m ret\u001b[38;5;241m.\u001b[39minvoke(\u001b[38;5;28minput\u001b[39m, config)\n",
      "File \u001b[0;32m~/.pyenv/versions/3.12.3/lib/python3.12/site-packages/langgraph/prebuilt/tool_node.py:234\u001b[0m, in \u001b[0;36mToolNode._func\u001b[0;34m(self, input, config, store)\u001b[0m\n\u001b[1;32m    223\u001b[0m \u001b[38;5;28;01mdef\u001b[39;00m \u001b[38;5;21m_func\u001b[39m(\n\u001b[1;32m    224\u001b[0m     \u001b[38;5;28mself\u001b[39m,\n\u001b[1;32m    225\u001b[0m     \u001b[38;5;28minput\u001b[39m: Union[\n\u001b[0;32m   (...)\u001b[0m\n\u001b[1;32m    232\u001b[0m     store: Optional[BaseStore],\n\u001b[1;32m    233\u001b[0m ) \u001b[38;5;241m-\u001b[39m\u001b[38;5;241m>\u001b[39m Any:\n\u001b[0;32m--> 234\u001b[0m     tool_calls, input_type \u001b[38;5;241m=\u001b[39m \u001b[38;5;28;43mself\u001b[39;49m\u001b[38;5;241;43m.\u001b[39;49m\u001b[43m_parse_input\u001b[49m\u001b[43m(\u001b[49m\u001b[38;5;28;43minput\u001b[39;49m\u001b[43m,\u001b[49m\u001b[43m \u001b[49m\u001b[43mstore\u001b[49m\u001b[43m)\u001b[49m\n\u001b[1;32m    235\u001b[0m     config_list \u001b[38;5;241m=\u001b[39m get_config_list(config, \u001b[38;5;28mlen\u001b[39m(tool_calls))\n\u001b[1;32m    236\u001b[0m     input_types \u001b[38;5;241m=\u001b[39m [input_type] \u001b[38;5;241m*\u001b[39m \u001b[38;5;28mlen\u001b[39m(tool_calls)\n",
      "File \u001b[0;32m~/.pyenv/versions/3.12.3/lib/python3.12/site-packages/langgraph/prebuilt/tool_node.py:435\u001b[0m, in \u001b[0;36mToolNode._parse_input\u001b[0;34m(self, input, store)\u001b[0m\n\u001b[1;32m    432\u001b[0m     \u001b[38;5;28;01mraise\u001b[39;00m \u001b[38;5;167;01mValueError\u001b[39;00m(\u001b[38;5;124m\"\u001b[39m\u001b[38;5;124mNo message found in input\u001b[39m\u001b[38;5;124m\"\u001b[39m)\n\u001b[1;32m    434\u001b[0m \u001b[38;5;28;01mif\u001b[39;00m \u001b[38;5;129;01mnot\u001b[39;00m \u001b[38;5;28misinstance\u001b[39m(message, AIMessage):\n\u001b[0;32m--> 435\u001b[0m     \u001b[38;5;28;01mraise\u001b[39;00m \u001b[38;5;167;01mValueError\u001b[39;00m(\u001b[38;5;124m\"\u001b[39m\u001b[38;5;124mLast message is not an AIMessage\u001b[39m\u001b[38;5;124m\"\u001b[39m)\n\u001b[1;32m    437\u001b[0m tool_calls \u001b[38;5;241m=\u001b[39m [\n\u001b[1;32m    438\u001b[0m     \u001b[38;5;28mself\u001b[39m\u001b[38;5;241m.\u001b[39minject_tool_args(call, \u001b[38;5;28minput\u001b[39m, store) \u001b[38;5;28;01mfor\u001b[39;00m call \u001b[38;5;129;01min\u001b[39;00m message\u001b[38;5;241m.\u001b[39mtool_calls\n\u001b[1;32m    439\u001b[0m ]\n\u001b[1;32m    440\u001b[0m \u001b[38;5;28;01mreturn\u001b[39;00m tool_calls, input_type\n",
      "\u001b[0;31mValueError\u001b[0m: Last message is not an AIMessage",
      "\u001b[0mDuring task with name 'NodeType.QUERY' and id '8740190a-fa2f-52da-3c2a-d8272fa208a3'"
     ]
    }
   ],
   "source": [
    "query_request = \"Show my contact information?\"\n",
    "query_result = process_user_request(query_request, customer_id=12)\n",
    "print(\"Query result:\", query_result[\"messages\"][-1].content)"
   ]
  },
  {
   "cell_type": "code",
   "execution_count": null,
   "id": "e7491b43-2767-4aaf-a70c-ca38d9751a37",
   "metadata": {},
   "outputs": [],
   "source": [
    "# Example update request\n",
    "update_request = \"Please update my address to 456 Oak Street\"\n",
    "update_result = process_user_request(update_request, customer_id=12)\n",
    "print(\"Update result:\", update_result[\"messages\"][-1].content)"
   ]
  }
 ],
 "metadata": {
  "kernelspec": {
   "display_name": "Python 3 (ipykernel)",
   "language": "python",
   "name": "python3"
  },
  "language_info": {
   "codemirror_mode": {
    "name": "ipython",
    "version": 3
   },
   "file_extension": ".py",
   "mimetype": "text/x-python",
   "name": "python",
   "nbconvert_exporter": "python",
   "pygments_lexer": "ipython3",
   "version": "3.12.3"
  }
 },
 "nbformat": 4,
 "nbformat_minor": 5
}
