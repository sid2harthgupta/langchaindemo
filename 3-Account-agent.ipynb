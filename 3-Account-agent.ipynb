{
 "cells": [
  {
   "cell_type": "code",
   "execution_count": 1,
   "id": "be5698e7-d167-42fc-8e74-2cb0d3997e00",
   "metadata": {},
   "outputs": [],
   "source": [
    "import os\n",
    "from dotenv import load_dotenv\n",
    "from typing import Dict, List, Any, Optional, Annotated, Union, Literal\n",
    "from typing_extensions import TypedDict\n",
    "\n",
    "from langchain_openai import ChatOpenAI\n",
    "from langchain_community.utilities.sql_database import SQLDatabase\n",
    "from langchain_community.vectorstores import SKLearnVectorStore\n",
    "from langchain_openai import OpenAIEmbeddings\n",
    "from langchain_core.tools import tool\n",
    "from langchain_core.messages import BaseMessage, HumanMessage, SystemMessage, AIMessage, ToolMessage\n",
    "from langchain_core.runnables import RunnablePassthrough\n",
    "from langgraph.graph import MessagesState\n",
    "\n",
    "from langgraph.prebuilt import tools_condition, ToolNode\n",
    "\n",
    "from langgraph.graph import StateGraph, START, END\n",
    "from langgraph.checkpoint.memory import MemorySaver\n",
    "from langgraph.prebuilt import ToolNode\n",
    "\n",
    "from IPython.display import Image, display"
   ]
  },
  {
   "cell_type": "code",
   "execution_count": 2,
   "id": "4f8ab283-33f9-40a9-b8ec-e0c2193ecda7",
   "metadata": {},
   "outputs": [
    {
     "data": {
      "text/plain": [
       "True"
      ]
     },
     "execution_count": 2,
     "metadata": {},
     "output_type": "execute_result"
    }
   ],
   "source": [
    "load_dotenv()"
   ]
  },
  {
   "cell_type": "code",
   "execution_count": 3,
   "id": "3c50e3ba-375f-4de5-8f22-36b0b3030630",
   "metadata": {},
   "outputs": [
    {
     "name": "stdout",
     "output_type": "stream",
     "text": [
      "['albums', 'artists', 'customers', 'employees', 'genres', 'invoice_items', 'invoices', 'media_types', 'playlist_track', 'playlists', 'tracks']\n"
     ]
    }
   ],
   "source": [
    "db = SQLDatabase.from_uri(\"sqlite:///../sql-support-bot/chinook.db\")\n",
    "print(db.get_usable_table_names())"
   ]
  },
  {
   "cell_type": "code",
   "execution_count": 4,
   "id": "960aeba5-4ca2-4e97-848a-1a291ed59e69",
   "metadata": {},
   "outputs": [],
   "source": [
    "os.environ[\"LANGCHAIN_PROJECT\"] = \"music-store-support-demo-prep\""
   ]
  },
  {
   "cell_type": "markdown",
   "id": "effdfc06-a498-4b35-bee3-940c4dd57103",
   "metadata": {},
   "source": [
    "## Set up state"
   ]
  },
  {
   "cell_type": "code",
   "execution_count": 5,
   "id": "bb4bcac3-d59e-4f3f-9e3a-1de36c1069b8",
   "metadata": {},
   "outputs": [],
   "source": [
    "class MusicStoreChatbotState(MessagesState):\n",
    "    customer_id: Optional[int]\n",
    "    current_mode: Literal[\"router\", \"account\", \"music\"]"
   ]
  },
  {
   "cell_type": "code",
   "execution_count": 6,
   "id": "d7c73486-1ec1-4be2-b3f9-c1275d54523e",
   "metadata": {},
   "outputs": [],
   "source": [
    "model = ChatOpenAI(temperature=0, model_name=\"gpt-4o-mini\")"
   ]
  },
  {
   "cell_type": "markdown",
   "id": "0188cbcd-a9be-4a39-995a-4d75ca7f79e0",
   "metadata": {},
   "source": [
    "## Helper Functions"
   ]
  },
  {
   "cell_type": "code",
   "execution_count": 7,
   "id": "74f3b801-d347-4498-97c9-48a4e19e173c",
   "metadata": {},
   "outputs": [],
   "source": [
    "def get_last_human_message(messages: List[BaseMessage]) -> Optional[HumanMessage]:\n",
    "    \"\"\"Extract the last human message from the conversation history.\"\"\"\n",
    "    for message in reversed(messages):\n",
    "        if isinstance(message, HumanMessage):\n",
    "            return message\n",
    "    return None"
   ]
  },
  {
   "cell_type": "markdown",
   "id": "7563e895-6219-4e4d-b5eb-8dd6453295fe",
   "metadata": {},
   "source": [
    "## Graph definition"
   ]
  },
  {
   "cell_type": "markdown",
   "id": "6b05a50e-9fc9-4310-9eed-a8e97b878243",
   "metadata": {},
   "source": [
    "### Router Agent"
   ]
  },
  {
   "cell_type": "code",
   "execution_count": 8,
   "id": "1ad67970-1afb-4477-ab31-08c0ee562f8b",
   "metadata": {},
   "outputs": [],
   "source": [
    "# Router Agent\n",
    "router_system_message = \"\"\"You are a helpful customer support assistant for a music store.\n",
    "Your job is to determine what the customer needs help with and route them to the appropriate department:\n",
    "\n",
    "1. ACCOUNT - For updating personal information, account details, or authentication\n",
    "2. MUSIC - For music recommendations, searching for songs/artists, or questions about music inventory\n",
    "3. UNRELATED - for anything that does not fit into ACCOUNT or MUSIC\n",
    "\n",
    "Respond with only the name of the department (ACCOUNT, MUSIC or UNRELATED) that best matches their query.\n",
    "If they want to access personal information and have not provided a customer ID, please ask for the ID.\n",
    "\"\"\"\n",
    "\n",
    "\n",
    "def route_conversation(state: MusicStoreChatbotState):\n",
    "    \"\"\"Route the conversation to the appropriate department\"\"\"\n",
    "    print(\"Routing conversation...\")\n",
    "    last_human_message = get_last_human_message(state[\"messages\"])\n",
    "    if not last_human_message:\n",
    "        print(\"No human message found...\")\n",
    "        return state\n",
    "\n",
    "    # Prepare conversation for the router\n",
    "    router_messages = [SystemMessage(content=router_system_message), last_human_message]\n",
    "    response = model.invoke(router_messages)\n",
    "    print(f\"Raw router response = {response.content}\")\n",
    "\n",
    "    # Update the state with the correct department\n",
    "    content = response.content.lower()\n",
    "    if \"account\" in content:\n",
    "        department = \"account\"\n",
    "    elif \"music\" in content:\n",
    "        department = \"music\"\n",
    "    else:\n",
    "        department = \"unrelated\"\n",
    "\n",
    "    # Return the routing decision\n",
    "    return {\"current_mode\": department}\n",
    "\n",
    "\n",
    "def out_of_scope_message_node(state: MusicStoreChatbotState):\n",
    "    print(\"out_of_scope_message_node invoked\")\n",
    "    print(\"=\" * 50)\n",
    "    print(\"I can only help with music recommendations and account updates. Please try again\")\n",
    "    print(\"=\" * 50)\n",
    "    return state\n"
   ]
  },
  {
   "cell_type": "code",
   "execution_count": 9,
   "id": "3303ae47-9f3c-43a3-b8d9-0f2abfc2b592",
   "metadata": {},
   "outputs": [],
   "source": [
    "def music_node(state: MusicStoreChatbotState):\n",
    "    print(\"music_node invoked\")\n",
    "    return state\n",
    "\n",
    "\n",
    "def account_node(state: MusicStoreChatbotState):\n",
    "    print(\"account_node invoked\")\n",
    "    return state\n",
    "\n",
    "def route_condition(state: MusicStoreChatbotState) -> str:\n",
    "    \"\"\"Return the routing condition based on the current state\"\"\"\n",
    "    return state[\"current_mode\"]\n",
    "\n",
    "entry_builder = StateGraph(MusicStoreChatbotState)\n",
    "entry_builder.add_node(\"route_conversation\", route_conversation)\n",
    "# For sub-graphs, use the sub-graph builder instead of the function name, \n",
    "# ex. entry_builder.add_node(\"music_node\", qs_builder.compile())\n",
    "entry_builder.add_node(\"music_node\", music_node)\n",
    "entry_builder.add_node(\"account_node\", account_node)\n",
    "entry_builder.add_node(\"out_of_scope_message_node\", out_of_scope_message_node)\n",
    "\n",
    "# Add the starting edge\n",
    "entry_builder.add_edge(START, \"route_conversation\")\n",
    "\n",
    "# Add conditional edges - this is the key part\n",
    "entry_builder.add_conditional_edges(\n",
    "    \"route_conversation\",  # Source node\n",
    "    route_condition,  # Function that returns the condition value\n",
    "    {\n",
    "        \"music\": \"music_node\",\n",
    "        \"account\": \"account_node\",\n",
    "        \"unrelated\": \"out_of_scope_message_node\"\n",
    "    }\n",
    ")\n",
    "\n",
    "# Add the ending edges\n",
    "entry_builder.add_edge(\"music_node\", END)\n",
    "entry_builder.add_edge(\"account_node\", END)\n",
    "entry_builder.add_edge(\"out_of_scope_message_node\", END)\n",
    "\n",
    "memory = MemorySaver()\n",
    "# Can hard-code interruptions  using `builder.compile(interrupt_before=[\"tools\"], checkpointer=memory)`\n",
    "graph = entry_builder.compile(checkpointer=memory)"
   ]
  },
  {
   "cell_type": "code",
   "execution_count": 10,
   "id": "bf941bbb-3f8a-4a89-b6a8-a25ef9f2522c",
   "metadata": {},
   "outputs": [
    {
     "data": {
      "image/png": "[encoded data removed]",
      "text/plain": [
       "<IPython.core.display.Image object>"
      ]
     },
     "metadata": {},
     "output_type": "display_data"
    }
   ],
   "source": [
    "display(Image(graph.get_graph().draw_mermaid_png()))"
   ]
  },
  {
   "cell_type": "markdown",
   "id": "4306e6ff-2f5d-4fdc-abd5-4000f26293e2",
   "metadata": {
    "jp-MarkdownHeadingCollapsed": true
   },
   "source": [
    "### Test"
   ]
  },
  {
   "cell_type": "code",
   "execution_count": 11,
   "id": "5dfcfa4f-287a-4cef-a4c1-c915f9619dab",
   "metadata": {},
   "outputs": [
    {
     "name": "stdout",
     "output_type": "stream",
     "text": [
      "Routing conversation...\n",
      "Raw router response = MUSIC\n",
      "music_node invoked\n"
     ]
    },
    {
     "data": {
      "text/plain": [
       "{'messages': [HumanMessage(content='Hey. recommend music by Amy Winehouse', additional_kwargs={}, response_metadata={}, id='e9220a8e-ba4b-46b9-b96e-1f0d88c70ccd')],\n",
       " 'customer_id': None,\n",
       " 'current_mode': 'music'}"
      ]
     },
     "execution_count": 11,
     "metadata": {},
     "output_type": "execute_result"
    }
   ],
   "source": [
    "# Define a thread config dictionary\n",
    "thread_config = {\"configurable\": {\"thread_id\": \"1\"}}\n",
    "\n",
    "# Then use it in your invoke call\n",
    "graph.invoke(\n",
    "    {\"messages\": [HumanMessage(content=\"Hey. recommend music by Amy Winehouse\")], \n",
    "     \"current_mode\": \"router\", \n",
    "     \"customer_id\": None}, \n",
    "    thread_config\n",
    ")"
   ]
  },
  {
   "cell_type": "code",
   "execution_count": 12,
   "id": "ee196fc1-4c67-45a3-8b13-c041b8490316",
   "metadata": {},
   "outputs": [
    {
     "name": "stdout",
     "output_type": "stream",
     "text": [
      "Routing conversation...\n",
      "Raw router response = ACCOUNT\n",
      "account_node invoked\n"
     ]
    },
    {
     "data": {
      "text/plain": [
       "{'messages': [HumanMessage(content='Hey. recommend music by Amy Winehouse', additional_kwargs={}, response_metadata={}, id='e9220a8e-ba4b-46b9-b96e-1f0d88c70ccd'),\n",
       "  HumanMessage(content='Hey, my customer ID is 2. Please update my email to a@b.com', additional_kwargs={}, response_metadata={}, id='f652ecc6-7cdf-4059-b758-9b46abee2799')],\n",
       " 'customer_id': None,\n",
       " 'current_mode': 'account'}"
      ]
     },
     "execution_count": 12,
     "metadata": {},
     "output_type": "execute_result"
    }
   ],
   "source": [
    "# Define a thread config dictionary\n",
    "thread_config = {\"configurable\": {\"thread_id\": \"1\"}}\n",
    "\n",
    "# Then use it in your invoke call\n",
    "graph.invoke(\n",
    "    {\"messages\": [HumanMessage(content=\"Hey, my customer ID is 2. Please update my email to a@b.com\")], \n",
    "     \"current_mode\": \"router\", \n",
    "     \"customer_id\": None}, \n",
    "    thread_config\n",
    ")"
   ]
  },
  {
   "cell_type": "code",
   "execution_count": 13,
   "id": "8bd6bb6c-753f-4982-a313-e861343657d7",
   "metadata": {},
   "outputs": [
    {
     "name": "stdout",
     "output_type": "stream",
     "text": [
      "Routing conversation...\n",
      "Raw router response = UNRELATED\n",
      "out_of_scope_message_node invoked\n",
      "==================================================\n",
      "I can only help with music recommendations and account updates. Please try again\n",
      "==================================================\n"
     ]
    },
    {
     "data": {
      "text/plain": [
       "{'messages': [HumanMessage(content='Hey. recommend music by Amy Winehouse', additional_kwargs={}, response_metadata={}, id='e9220a8e-ba4b-46b9-b96e-1f0d88c70ccd'),\n",
       "  HumanMessage(content='Hey, my customer ID is 2. Please update my email to a@b.com', additional_kwargs={}, response_metadata={}, id='f652ecc6-7cdf-4059-b758-9b46abee2799'),\n",
       "  HumanMessage(content='What is the meaning of life?', additional_kwargs={}, response_metadata={}, id='72718ba9-2b74-43b2-ba7f-e4467f81aa72')],\n",
       " 'customer_id': None,\n",
       " 'current_mode': 'unrelated'}"
      ]
     },
     "execution_count": 13,
     "metadata": {},
     "output_type": "execute_result"
    }
   ],
   "source": [
    "# Define a thread config dictionary\n",
    "thread_config = {\"configurable\": {\"thread_id\": \"1\"}}\n",
    "\n",
    "# Then use it in your invoke call\n",
    "graph.invoke(\n",
    "    {\"messages\": [HumanMessage(content=\"What is the meaning of life?\")], \n",
    "     \"current_mode\": \"router\", \n",
    "     \"customer_id\": None}, \n",
    "    thread_config\n",
    ")"
   ]
  },
  {
   "cell_type": "markdown",
   "id": "1a479b67-1732-4ef1-89de-502eb81a7050",
   "metadata": {
    "jp-MarkdownHeadingCollapsed": true
   },
   "source": [
    "## Recommendation Agent"
   ]
  },
  {
   "cell_type": "markdown",
   "id": "ce6c252f-1ebe-4ac5-b6ee-835b3c6e0994",
   "metadata": {
    "jp-MarkdownHeadingCollapsed": true
   },
   "source": [
    "### Tool Helpers- Allow fuzzy retrieval for artists and tracks/songs"
   ]
  },
  {
   "cell_type": "code",
   "execution_count": 14,
   "id": "508ca3ee-557e-4db0-93e6-efadb20a9659",
   "metadata": {},
   "outputs": [],
   "source": [
    "artists = db._execute(\"SELECT * FROM artists\")\n",
    "songs = db._execute(\"SELECT * FROM tracks\")\n",
    "artist_retriever = SKLearnVectorStore.from_texts(\n",
    "    [a['Name'] for a in artists],\n",
    "    OpenAIEmbeddings(),\n",
    "    metadatas=artists\n",
    ").as_retriever()\n",
    "\n",
    "\n",
    "song_retriever = SKLearnVectorStore.from_texts(\n",
    "    [a['Name'] for a in songs],\n",
    "    OpenAIEmbeddings(),\n",
    "    metadatas=songs\n",
    ").as_retriever()"
   ]
  },
  {
   "cell_type": "markdown",
   "id": "73eb36a8-146a-4489-a9d2-8f34497244c4",
   "metadata": {
    "jp-MarkdownHeadingCollapsed": true
   },
   "source": [
    "### LLM with Tools"
   ]
  },
  {
   "cell_type": "code",
   "execution_count": 15,
   "id": "57a70af4-730a-4261-a1a6-4b73857786da",
   "metadata": {},
   "outputs": [],
   "source": [
    "@tool\n",
    "def get_albums_by_artist(artist: str):\n",
    "    \"\"\"Get albums by an artist (or similar artists).\"\"\"\n",
    "    print(\"T\" * 50)\n",
    "    print(\"get_albums_by_artist tool called\")\n",
    "    print(\"T\" * 50)\n",
    "    docs = artist_retriever.get_relevant_documents(artist)\n",
    "    artist_ids = \", \".join([str(d.metadata['ArtistId']) for d in docs])\n",
    "    return db.run(\n",
    "        f\"SELECT Title, Name as ArtistName FROM albums LEFT JOIN artists ON albums.ArtistId = artists.ArtistId WHERE albums.ArtistId in ({artist_ids});\",\n",
    "        include_columns=True)\n",
    "\n",
    "\n",
    "@tool\n",
    "def get_tracks_by_artist(artist: str):\n",
    "    \"\"\"Get songs by an artist (or similar artists).\"\"\"\n",
    "    print(\"T\" * 50)\n",
    "    print(\"get_tracks_by_artist tool called\")\n",
    "    print(\"T\" * 50)\n",
    "    docs = artist_retriever.get_relevant_documents(artist)\n",
    "    artist_ids = \", \".join([str(d.metadata['ArtistId']) for d in docs])\n",
    "    return db.run(\n",
    "        f\"SELECT tracks.Name as SongName, artists.Name as ArtistName FROM albums LEFT JOIN artists ON albums.ArtistId = artists.ArtistId LEFT JOIN tracks ON tracks.AlbumId = albums.AlbumId WHERE albums.ArtistId in ({artist_ids});\",\n",
    "        include_columns=True)\n",
    "\n",
    "\n",
    "@tool\n",
    "def search_songs(song_title: str):\n",
    "    \"\"\"Search for songs by title.\"\"\"\n",
    "    print(\"T\" * 50)\n",
    "    print(\"search_songs tool called\")\n",
    "    print(\"T\" * 50)\n",
    "    docs = song_retriever.get_relevant_documents(song_title)\n",
    "    return [{\"Title\": doc.page_content, \"TrackId\": doc.metadata[\"TrackId\"]} for doc in docs[:5]]\n",
    "\n",
    "\n",
    "@tool\n",
    "def get_similar_music(genre: str, artist: str = \"\"):\n",
    "    \"\"\"Get music recommendations based on genre and optionally artist.\"\"\"\n",
    "    print(\"T\" * 50)\n",
    "    print(\"get_similar_music tool called\")\n",
    "    print(\"T\" * 50)\n",
    "    # Find genre ID\n",
    "    genre_query = f\"\"\"\n",
    "    SELECT GenreId FROM genres \n",
    "    WHERE Name LIKE '%{genre}%' \n",
    "    LIMIT 1\n",
    "    \"\"\"\n",
    "    genre_result = db.run(genre_query)\n",
    "\n",
    "    if not genre_result:\n",
    "        return f\"No genre found matching '{genre}'\"\n",
    "\n",
    "    genre_id = genre_result.split('|')[0].strip()\n",
    "\n",
    "    # Get tracks in that genre, optionally filtering by artist\n",
    "    artist_filter = \"\"\n",
    "    if artist:\n",
    "        docs = artist_retriever.get_relevant_documents(artist)\n",
    "        if docs:\n",
    "            artist_ids = \", \".join([str(d.metadata['ArtistId']) for d in docs])\n",
    "            artist_filter = f\"AND albums.ArtistId IN ({artist_ids})\"\n",
    "\n",
    "    query = f\"\"\"\n",
    "    SELECT tracks.Name as TrackName, artists.Name as ArtistName, albums.Title as AlbumTitle\n",
    "    FROM tracks\n",
    "    JOIN albums ON tracks.AlbumId = albums.AlbumId\n",
    "    JOIN artists ON albums.ArtistId = artists.ArtistId\n",
    "    WHERE tracks.GenreId = {genre_id} {artist_filter}\n",
    "    ORDER BY RANDOM()\n",
    "    LIMIT 5\n",
    "    \"\"\"\n",
    "\n",
    "    return db.run(query, include_columns=True)"
   ]
  },
  {
   "cell_type": "code",
   "execution_count": 16,
   "id": "8d04d1cb-0311-4888-880f-60bdf8715aed",
   "metadata": {},
   "outputs": [],
   "source": [
    "tools = [\n",
    "    get_albums_by_artist,\n",
    "    get_tracks_by_artist,\n",
    "    search_songs,\n",
    "    get_similar_music\n",
    "]\n",
    "music_recommendation_model = ChatOpenAI(temperature=0, model_name=\"gpt-4o-mini\")\n",
    "music_recommendation_model_with_tools = music_recommendation_model.bind_tools(tools)"
   ]
  },
  {
   "cell_type": "markdown",
   "id": "781501e2-ea87-476c-93ad-aef654660986",
   "metadata": {
    "jp-MarkdownHeadingCollapsed": true
   },
   "source": [
    "### Graph Definition"
   ]
  },
  {
   "cell_type": "code",
   "execution_count": 17,
   "id": "da9ff5d9-9d19-48b0-94f3-e9610e201494",
   "metadata": {},
   "outputs": [],
   "source": [
    "# Music Recommendation Agent\n",
    "music_system_message = \"\"\"You are a music specialist at a music store.\n",
    "You can help customers:\n",
    "1. Find music by specific artists\n",
    "2. Discover new songs similar to their interests\n",
    "3. Search for specific tracks\n",
    "4. Get recommendations based on genres\n",
    "\n",
    "Always be conversational and enthusiastic about music. If you don't find exactly what they're looking for, suggest alternatives.\n",
    "\"\"\"\n",
    "\n",
    "\n",
    "def handle_music_query(state: MusicStoreChatbotState):\n",
    "    \"\"\"Handle music-related queries\"\"\"\n",
    "    print(\"Processing music query...\")\n",
    "    \n",
    "    # Build messages for the music agent\n",
    "    messages = [SystemMessage(content=music_system_message)]\n",
    "    # Add some conversation context\n",
    "    context_messages = state[\"messages\"][-5:] if len(state[\"messages\"]) > 5 else state[\"messages\"]\n",
    "    messages.extend(context_messages)\n",
    "\n",
    "    # Let the agent determine what to do next\n",
    "    response = music_recommendation_model_with_tools.invoke(messages)\n",
    "    print(f\"Music agent: {response.content}\")\n",
    "\n",
    "    return {\n",
    "        \"messages\": state[\"messages\"] + [response]\n",
    "    }"
   ]
  },
  {
   "cell_type": "code",
   "execution_count": 18,
   "id": "dca4fb96-3232-4c0f-8266-eadaff09bc16",
   "metadata": {},
   "outputs": [],
   "source": [
    "music_recommendation_graph_builder = StateGraph(MusicStoreChatbotState)\n",
    "\n",
    "music_recommendation_graph_builder.add_node(\"handle_music_query\", handle_music_query)\n",
    "music_recommendation_graph_builder.add_node(\"tools\", ToolNode(tools))\n",
    "\n",
    "# Add the starting edge\n",
    "music_recommendation_graph_builder.add_edge(START, \"handle_music_query\")\n",
    "music_recommendation_graph_builder.add_conditional_edges(\n",
    "    \"handle_music_query\",\n",
    "    # If the latest message (result) from assistant is a tool call -> tools_condition routes to tools\n",
    "    # If the latest message (result) from assistant is a not a tool call -> tools_condition routes to END\n",
    "    tools_condition,\n",
    ")\n",
    "music_recommendation_graph_builder.add_edge(\"tools\", \"handle_music_query\")\n",
    "music_recommendation_graph_builder.add_edge(\"handle_music_query\", END)\n",
    "\n",
    "memory = MemorySaver()\n",
    "# Can hard-code interruptions  using `builder.compile(interrupt_before=[\"tools\"], checkpointer=memory)`\n",
    "music_recommendation_graph = music_recommendation_graph_builder.compile(checkpointer=memory)"
   ]
  },
  {
   "cell_type": "code",
   "execution_count": 19,
   "id": "bc8d9707-f866-46a8-87bd-5d404f34ad5e",
   "metadata": {},
   "outputs": [
    {
     "data": {
      "image/png": "[encoded data removed]",
      "text/plain": [
       "<IPython.core.display.Image object>"
      ]
     },
     "metadata": {},
     "output_type": "display_data"
    }
   ],
   "source": [
    "display(Image(music_recommendation_graph.get_graph().draw_mermaid_png()))"
   ]
  },
  {
   "cell_type": "markdown",
   "id": "81cc074f-0fba-4a38-9441-e29a111e5f6b",
   "metadata": {
    "jp-MarkdownHeadingCollapsed": true
   },
   "source": [
    "### Test"
   ]
  },
  {
   "cell_type": "code",
   "execution_count": 20,
   "id": "c7cdd3c8-3bff-495e-b3f6-0d993e2aaecd",
   "metadata": {},
   "outputs": [
    {
     "name": "stdout",
     "output_type": "stream",
     "text": [
      "Processing music query...\n",
      "Music agent: \n",
      "TTTTTTTTTTTTTTTTTTTTTTTTTTTTTTTTTTTTTTTTTTTTTTTTTT\n",
      "get_albums_by_artist tool called\n",
      "TTTTTTTTTTTTTTTTTTTTTTTTTTTTTTTTTTTTTTTTTTTTTTTTTT\n"
     ]
    },
    {
     "name": "stderr",
     "output_type": "stream",
     "text": [
      "/var/folders/h0/6_6mqq755ks82f6p8nvrzqlr0000gn/T/ipykernel_78459/1872880502.py:7: LangChainDeprecationWarning: The method `BaseRetriever.get_relevant_documents` was deprecated in langchain-core 0.1.46 and will be removed in 1.0. Use :meth:`~invoke` instead.\n",
      "  docs = artist_retriever.get_relevant_documents(artist)\n"
     ]
    },
    {
     "name": "stdout",
     "output_type": "stream",
     "text": [
      "Processing music query...\n",
      "Music agent: Amy Winehouse has some incredible albums that you should definitely check out! Here are her main works:\n",
      "\n",
      "1. **Frank** - This was her debut album, showcasing her unique blend of jazz, soul, and R&B.\n",
      "2. **Back to Black** - This is her most famous album, featuring hits like \"Rehab\" and \"Back to Black.\" It's a must-listen!\n",
      "\n",
      "If you're interested in specific songs or want to explore more about her music, just let me know! 🎶\n"
     ]
    },
    {
     "data": {
      "text/plain": [
       "{'messages': [HumanMessage(content='Hey, recommend music by Amy Winehouse', additional_kwargs={}, response_metadata={}, id='a12d0b78-f369-4d85-bca6-281597265e7a'),\n",
       "  AIMessage(content='', additional_kwargs={'tool_calls': [{'id': 'call_btdsrybJA2CS6GEPfsQ6P2Ci', 'function': {'arguments': '{\"artist\":\"Amy Winehouse\"}', 'name': 'get_albums_by_artist'}, 'type': 'function'}], 'refusal': None}, response_metadata={'token_usage': {'completion_tokens': 20, 'prompt_tokens': 210, 'total_tokens': 230, 'completion_tokens_details': {'accepted_prediction_tokens': 0, 'audio_tokens': 0, 'reasoning_tokens': 0, 'rejected_prediction_tokens': 0}, 'prompt_tokens_details': {'audio_tokens': 0, 'cached_tokens': 0}}, 'model_name': 'gpt-4o-mini-2024-07-18', 'system_fingerprint': 'fp_06737a9306', 'finish_reason': 'tool_calls', 'logprobs': None}, id='run-e14ab286-309f-4454-be59-99983a47ff93-0', tool_calls=[{'name': 'get_albums_by_artist', 'args': {'artist': 'Amy Winehouse'}, 'id': 'call_btdsrybJA2CS6GEPfsQ6P2Ci', 'type': 'tool_call'}], usage_metadata={'input_tokens': 210, 'output_tokens': 20, 'total_tokens': 230, 'input_token_details': {'audio': 0, 'cache_read': 0}, 'output_token_details': {'audio': 0, 'reasoning': 0}}),\n",
       "  ToolMessage(content=\"[{'Title': 'Jagged Little Pill', 'ArtistName': 'Alanis Morissette'}, {'Title': 'Audioslave', 'ArtistName': 'Audioslave'}, {'Title': 'Out Of Exile', 'ArtistName': 'Audioslave'}, {'Title': 'Revelations', 'ArtistName': 'Audioslave'}, {'Title': 'Bark at the Moon (Remastered)', 'ArtistName': 'Ozzy Osbourne'}, {'Title': 'Blizzard of Ozz', 'ArtistName': 'Ozzy Osbourne'}, {'Title': 'Diary of a Madman (Remastered)', 'ArtistName': 'Ozzy Osbourne'}, {'Title': 'No More Tears (Remastered)', 'ArtistName': 'Ozzy Osbourne'}, {'Title': 'Tribute', 'ArtistName': 'Ozzy Osbourne'}, {'Title': 'Speak of the Devil', 'ArtistName': 'Ozzy Osbourne'}, {'Title': 'Back to Black', 'ArtistName': 'Amy Winehouse'}, {'Title': 'Frank', 'ArtistName': 'Amy Winehouse'}]\", name='get_albums_by_artist', id='726e5c9f-eaec-4581-9231-37f5de86b413', tool_call_id='call_btdsrybJA2CS6GEPfsQ6P2Ci'),\n",
       "  AIMessage(content='Amy Winehouse has some incredible albums that you should definitely check out! Here are her main works:\\n\\n1. **Frank** - This was her debut album, showcasing her unique blend of jazz, soul, and R&B.\\n2. **Back to Black** - This is her most famous album, featuring hits like \"Rehab\" and \"Back to Black.\" It\\'s a must-listen!\\n\\nIf you\\'re interested in specific songs or want to explore more about her music, just let me know! 🎶', additional_kwargs={'refusal': None}, response_metadata={'token_usage': {'completion_tokens': 103, 'prompt_tokens': 473, 'total_tokens': 576, 'completion_tokens_details': {'accepted_prediction_tokens': 0, 'audio_tokens': 0, 'reasoning_tokens': 0, 'rejected_prediction_tokens': 0}, 'prompt_tokens_details': {'audio_tokens': 0, 'cached_tokens': 0}}, 'model_name': 'gpt-4o-mini-2024-07-18', 'system_fingerprint': 'fp_06737a9306', 'finish_reason': 'stop', 'logprobs': None}, id='run-49fd1e85-6d2a-4546-a160-5045d7baeba6-0', usage_metadata={'input_tokens': 473, 'output_tokens': 103, 'total_tokens': 576, 'input_token_details': {'audio': 0, 'cache_read': 0}, 'output_token_details': {'audio': 0, 'reasoning': 0}})],\n",
       " 'customer_id': None,\n",
       " 'current_mode': 'router'}"
      ]
     },
     "execution_count": 20,
     "metadata": {},
     "output_type": "execute_result"
    }
   ],
   "source": [
    "# Define a thread config dictionary\n",
    "thread_config = {\"configurable\": {\"thread_id\": \"1\"}}\n",
    "\n",
    "# Then use it in your invoke call\n",
    "music_recommendation_graph.invoke(\n",
    "    {\"messages\": [HumanMessage(content=\"Hey, recommend music by Amy Winehouse\")], \n",
    "     \"current_mode\": \"router\", \n",
    "     \"customer_id\": None}, \n",
    "    thread_config\n",
    ")"
   ]
  },
  {
   "cell_type": "code",
   "execution_count": 21,
   "id": "99f397bf-5460-4ff1-a850-d2e6acbc830e",
   "metadata": {},
   "outputs": [
    {
     "name": "stdout",
     "output_type": "stream",
     "text": [
      "Processing music query...\n",
      "Music agent: \n",
      "TTTTTTTTTTTTTTTTTTTTTTTTTTTTTTTTTTTTTTTTTTTTTTTTTT\n",
      "get_tracks_by_artist tool called\n",
      "TTTTTTTTTTTTTTTTTTTTTTTTTTTTTTTTTTTTTTTTTTTTTTTTTT\n",
      "Processing music query...\n",
      "Music agent: Here are some fantastic songs by Green Day that you might enjoy:\n",
      "\n",
      "1. **Maria**\n",
      "2. **Poprocks And Coke**\n",
      "3. **Longview**\n",
      "4. **Welcome To Paradise**\n",
      "5. **Basket Case**\n",
      "6. **When I Come Around**\n",
      "7. **She**\n",
      "8. **J.A.R. (Jason Andrew Relva)**\n",
      "9. **Geek Stink Breath**\n",
      "10. **Brain Stew**\n",
      "11. **Jaded**\n",
      "12. **Walking Contradiction**\n",
      "13. **Stuck With Me**\n",
      "14. **Hitchin' A Ride**\n",
      "15. **Good Riddance (Time Of Your Life)**\n",
      "16. **Redundant**\n",
      "17. **Nice Guys Finish Last**\n",
      "18. **Minority**\n",
      "19. **Warning**\n",
      "20. **Waiting**\n",
      "21. **Macy's Day Parade**\n",
      "22. **American Idiot**\n",
      "23. **Holiday**\n",
      "24. **Boulevard Of Broken Dreams**\n",
      "25. **Wake Me Up When September Ends**\n",
      "\n",
      "These tracks showcase their punk rock energy and lyrical depth! If you're looking for something specific or want recommendations based on a particular vibe, just let me know! 🎸🎶\n"
     ]
    }
   ],
   "source": [
    "# Define a thread config dictionary\n",
    "thread_config = {\"configurable\": {\"thread_id\": \"2\"}}\n",
    "\n",
    "# Then use it in your invoke call\n",
    "response = music_recommendation_graph.invoke(\n",
    "    {\"messages\": [HumanMessage(content=\"Hey, recommend songs by Green Day\")], \n",
    "     \"current_mode\": \"router\", \n",
    "     \"customer_id\": None}, \n",
    "    thread_config\n",
    ")"
   ]
  },
  {
   "cell_type": "code",
   "execution_count": 22,
   "id": "ec3b7c49-55be-45aa-81bc-70608d76fa4b",
   "metadata": {},
   "outputs": [
    {
     "name": "stdout",
     "output_type": "stream",
     "text": [
      "Processing music query...\n",
      "Music agent: \n",
      "TTTTTTTTTTTTTTTTTTTTTTTTTTTTTTTTTTTTTTTTTTTTTTTTTT\n",
      "search_songs tool called\n",
      "TTTTTTTTTTTTTTTTTTTTTTTTTTTTTTTTTTTTTTTTTTTTTTTTTT\n",
      "Processing music query...\n",
      "Music agent: Yes! \"Boulevard Of Broken Dreams\" is available. Would you like to know more about it, such as the artist or album details? Or perhaps you're interested in purchasing it? Let me know how I can help!\n"
     ]
    }
   ],
   "source": [
    "# Define a thread config dictionary\n",
    "thread_config = {\"configurable\": {\"thread_id\": \"3\"}}\n",
    "\n",
    "# Then use it in your invoke call\n",
    "response = music_recommendation_graph.invoke(\n",
    "    {\"messages\": [HumanMessage(content=\"Hey, is Boulevard Of Broken Dreams available for purchase?\")], \n",
    "     \"current_mode\": \"router\", \n",
    "     \"customer_id\": None}, \n",
    "    thread_config\n",
    ")"
   ]
  },
  {
   "cell_type": "code",
   "execution_count": 23,
   "id": "905874d8-d0b2-4b51-b005-34526a4253e7",
   "metadata": {},
   "outputs": [
    {
     "name": "stdout",
     "output_type": "stream",
     "text": [
      "Processing music query...\n",
      "Music agent: \n",
      "TTTTTTTTTTTTTTTTTTTTTTTTTTTTTTTTTTTTTTTTTTTTTTTTTT\n",
      "get_tracks_by_artist tool called\n",
      "TTTTTTTTTTTTTTTTTTTTTTTTTTTTTTTTTTTTTTTTTTTTTTTTTT\n",
      "TTTTTTTTTTTTTTTTTTTTTTTTTTTTTTTTTTTTTTTTTTTTTTTTTT\n",
      "get_albums_by_artist tool called\n",
      "TTTTTTTTTTTTTTTTTTTTTTTTTTTTTTTTTTTTTTTTTTTTTTTTTT\n",
      "TTTTTTTTTTTTTTTTTTTTTTTTTTTTTTTTTTTTTTTTTTTTTTTTTT\n",
      "get_similar_music tool called\n",
      "TTTTTTTTTTTTTTTTTTTTTTTTTTTTTTTTTTTTTTTTTTTTTTTTTT\n",
      "Processing music query...\n",
      "Music agent: Awesome choice with \"Boulevard Of Broken Dreams\"! It's such a powerful song. Here are some recommendations for you:\n",
      "\n",
      "### Songs by Green Day:\n",
      "1. **\"Basket Case\"**\n",
      "2. **\"Wake Me Up When September Ends\"**\n",
      "3. **\"American Idiot\"**\n",
      "4. **\"Longview\"**\n",
      "5. **\"Good Riddance (Time Of Your Life)\"**\n",
      "6. **\"Holiday\"**\n",
      "7. **\"Brain Stew\"**\n",
      "8. **\"She\"**\n",
      "\n",
      "### Albums by Green Day:\n",
      "1. **\"American Idiot\"**\n",
      "2. **\"International Superhits\"**\n",
      "3. **\"Dookie\"**\n",
      "4. **\"Nimrod\"**\n",
      "5. **\"21st Century Breakdown\"**\n",
      "\n",
      "### Similar Artists and Songs:\n",
      "If you're looking for something in a similar vibe, you might enjoy tracks from **Foo Fighters** and **Smashing Pumpkins**. Here are some standout songs:\n",
      "- **Foo Fighters**: \"Best Of You\", \"Everlong\", \"All My Life\"\n",
      "- **Smashing Pumpkins**: \"1979\", \"Tonight, Tonight\", \"Bullet With Butterfly Wings\"\n",
      "\n",
      "These tracks and albums should keep your playlist fresh and exciting! If you want more specific recommendations or have a different genre in mind, just let me know! 🎶\n"
     ]
    }
   ],
   "source": [
    "# Define a thread config dictionary\n",
    "thread_config = {\"configurable\": {\"thread_id\": \"4\"}}\n",
    "\n",
    "# Then use it in your invoke call\n",
    "response = music_recommendation_graph.invoke(\n",
    "    {\"messages\": [HumanMessage(content=\"Hey, I like Boulevard Of Broken Dreams. What other albums and songs would you recommend?\")], \n",
    "     \"current_mode\": \"router\", \n",
    "     \"customer_id\": None}, \n",
    "    thread_config\n",
    ")"
   ]
  },
  {
   "cell_type": "markdown",
   "id": "e39c055f-4614-4afd-987f-9beeb3d64781",
   "metadata": {},
   "source": [
    "## Account Agent"
   ]
  },
  {
   "cell_type": "markdown",
   "id": "17656541-c8e4-46e1-9ba5-98cb81a2ac66",
   "metadata": {
    "jp-MarkdownHeadingCollapsed": true
   },
   "source": [
    "### Tools"
   ]
  },
  {
   "cell_type": "code",
   "execution_count": 24,
   "id": "3e098406-1413-429b-b5f4-2dac4ddc5691",
   "metadata": {},
   "outputs": [],
   "source": [
    "customer_account_model = ChatOpenAI(temperature=0, model_name=\"gpt-4o-mini\")"
   ]
  },
  {
   "cell_type": "code",
   "execution_count": 25,
   "id": "d75905dc-264b-4a4d-b5a5-fa1945072f2b",
   "metadata": {},
   "outputs": [],
   "source": [
    "@tool\n",
    "def get_customer_info(customer_id: int):\n",
    "    \"\"\"Look up customer info given their ID. Requires customer authentication.\"\"\"\n",
    "    return db.run(f\"SELECT * FROM customers WHERE CustomerId = {customer_id};\")\n",
    "\n",
    "@tool\n",
    "def update_customer_info(customer_id: int, field: str, value: str):\n",
    "    \"\"\"\n",
    "    Update a customer's information. This is a sensitive operation that requires human approval.\n",
    "    - customer_id: The ID of the customer to update\n",
    "    - field: The field to update (FirstName, LastName, Company, Address, City, State, Country, PostalCode, Phone, Email)\n",
    "    - value: The new value for the field\n",
    "    \"\"\"\n",
    "    allowed_fields = [\"FirstName\", \"LastName\", \"Company\", \"Address\", \"City\", \n",
    "                       \"State\", \"Country\", \"PostalCode\", \"Phone\", \"Email\"]\n",
    "\n",
    "    if field not in allowed_fields:\n",
    "        return f\"Error: Cannot update field '{field}'. Allowed fields are: {', '.join(allowed_fields)}\"\n",
    "\n",
    "    # Verify customer exists first\n",
    "    customer = db.run(f\"SELECT * FROM customers WHERE CustomerId = {customer_id};\")\n",
    "    if not customer:\n",
    "        return f\"Error: No customer found with ID {customer_id}\"\n",
    "\n",
    "    # This is what would actually run after approval\n",
    "    return f\"Successfully updated {field} to '{value}' for customer {customer_id}\"\n",
    "\n",
    "\n",
    "customer_id_extractor_message = \"\"\"You are a customer account security specialist.\n",
    "You process customer queries to extract the numeric customer ID from them.\n",
    "For example, if a query says \"My customer ID is 42\", the Customer ID is 42.\n",
    "If the query does not provide the customer ID, return UNAVAILABLE.\n",
    "Return only the customer ID or UNAVAILABLE, as appropriate.\n",
    "\"\"\"\n",
    "\n",
    "def extract_customer_id(message: HumanMessage) -> Optional[int]:\n",
    "    \"\"\"Returns the Customer ID if it is available in the user query.\"\"\"\n",
    "    print(\"T\" * 50)\n",
    "    print(f\"extract_customer_id called with {message}\")\n",
    "    print(\"T\" * 50)\n",
    "    response = customer_account_model.invoke(message)\n",
    "    print(f\"Derived ID = {response}\")\n",
    "    if response.isdigit():\n",
    "        return {\"customer_id\": int(response)}\n",
    "    else:\n",
    "        return None"
   ]
  },
  {
   "cell_type": "code",
   "execution_count": 26,
   "id": "168c6fef-fdff-40b8-b987-677ffd1f7b16",
   "metadata": {},
   "outputs": [],
   "source": [
    "customer_account_tools = [\n",
    "    get_customer_info,\n",
    "    update_customer_info\n",
    "]\n",
    "customer_account_model_with_tools = model.bind_tools(customer_account_tools)"
   ]
  },
  {
   "cell_type": "markdown",
   "id": "7ec406ea-38c0-481c-9af5-4379887ce30b",
   "metadata": {},
   "source": [
    "### Graph Definition"
   ]
  },
  {
   "cell_type": "code",
   "execution_count": 27,
   "id": "20a41689-75f6-40a6-8907-a2a80a615a50",
   "metadata": {},
   "outputs": [],
   "source": [
    "account_system_message = \"\"\"You are a customer account specialist at a music store.\n",
    "You can help customers:\n",
    "1. Retrieve their account information\n",
    "2. Update their profile details\n",
    "\n",
    "IMPORTANT: \n",
    "- Always verify you have the customer_id before taking any actions.\n",
    "- For security, any updates to customer information require human manager approval.\n",
    "- DO NOT make updates without explicit approval.\n",
    "\"\"\"\n",
    "\n",
    "def handle_account_query(state: MusicStoreChatbotState):\n",
    "    \"\"\"Handle account-related queries\"\"\"\n",
    "    # Check if we have customer ID\n",
    "    if not state.get(\"customer_id\"):\n",
    "        # We need a customer ID to proceed\n",
    "        return {\n",
    "            \"messages\": state[\"messages\"] + [\n",
    "                AIMessage(content=\"I'll be happy to help with your account. Could you please provide your customer ID so I can access your information?\")\n",
    "            ]\n",
    "        }\n",
    "\n",
    "    # Build messages for the account agent\n",
    "    messages = [SystemMessage(content=account_system_message)]\n",
    "    # Add some conversation context\n",
    "    context_messages = state[\"messages\"][-5:] if len(state[\"messages\"]) > 5 else state[\"messages\"]\n",
    "    messages.extend(context_messages)\n",
    "\n",
    "    # Add customer context\n",
    "    customer_id = state[\"customer_id\"]\n",
    "    messages.append(SystemMessage(content=f\"Current authenticated customer ID: {customer_id}\"))\n",
    "\n",
    "    # Let the agent determine what to do next\n",
    "    response = model.bind_tools(tools=[get_customer_info, update_customer_info]).invoke(messages)\n",
    "\n",
    "    # Return the response - if this contains a tool call to update_customer_info,\n",
    "    # the graph will break at the next step for human approval\n",
    "    return {\n",
    "        \"messages\": state[\"messages\"] + [response]\n",
    "    }"
   ]
  },
  {
   "cell_type": "code",
   "execution_count": 30,
   "id": "3acafda9-a05a-4158-ab3d-7e63909cb016",
   "metadata": {},
   "outputs": [],
   "source": [
    "customer_account_graph_builder = StateGraph(MusicStoreChatbotState)\n",
    "\n",
    "customer_account_graph_builder.add_node(\"handle_account_query\", handle_account_query)\n",
    "customer_account_graph_builder.add_node(\"tools\", ToolNode(customer_account_tools))\n",
    "\n",
    "# Add the starting edge\n",
    "customer_account_graph_builder.add_edge(START, \"handle_account_query\")\n",
    "customer_account_graph_builder.add_conditional_edges(\n",
    "    \"handle_account_query\",\n",
    "    # If the latest message (result) from assistant is a tool call -> tools_condition routes to tools\n",
    "    # If the latest message (result) from assistant is a not a tool call -> tools_condition routes to END\n",
    "    tools_condition,\n",
    ")\n",
    "customer_account_graph_builder.add_edge(\"tools\", \"handle_account_query\")\n",
    "customer_account_graph_builder.add_edge(\"handle_account_query\", END)\n",
    "\n",
    "customer_account_memory = MemorySaver()\n",
    "# Can hard-code interruptions  using `builder.compile(interrupt_before=[\"tools\"], checkpointer=memory)`\n",
    "customer_account_graph = customer_account_graph_builder.compile(checkpointer=customer_account_memory)"
   ]
  },
  {
   "cell_type": "code",
   "execution_count": 31,
   "id": "85b24681-cba5-4195-90f9-f58a56444ae8",
   "metadata": {},
   "outputs": [
    {
     "data": {
      "image/png": "[encoded data removed]",
      "text/plain": [
       "<IPython.core.display.Image object>"
      ]
     },
     "metadata": {},
     "output_type": "display_data"
    }
   ],
   "source": [
    "display(Image(customer_account_graph.get_graph().draw_mermaid_png()))"
   ]
  },
  {
   "cell_type": "markdown",
   "id": "d349a399-80c1-44f5-a7c4-94710489989d",
   "metadata": {},
   "source": [
    "### Tests"
   ]
  },
  {
   "cell_type": "code",
   "execution_count": 32,
   "id": "afb07c13-3748-4d50-aa6b-383c2c98644c",
   "metadata": {},
   "outputs": [
    {
     "data": {
      "text/plain": [
       "{'messages': [HumanMessage(content='Hey, recommend music by Amy Winehouse', additional_kwargs={}, response_metadata={}, id='fd207514-7c44-44ac-b6dc-2c1428ac512d'),\n",
       "  AIMessage(content=\"I'll be happy to help with your account. Could you please provide your customer ID so I can access your information?\", additional_kwargs={}, response_metadata={}, id='33e4422e-7734-42f2-a139-748998339a51')],\n",
       " 'customer_id': None,\n",
       " 'current_mode': 'router'}"
      ]
     },
     "execution_count": 32,
     "metadata": {},
     "output_type": "execute_result"
    }
   ],
   "source": [
    "# Define a thread config dictionary\n",
    "thread_config = {\"configurable\": {\"thread_id\": \"21\"}}\n",
    "\n",
    "# Then use it in your invoke call\n",
    "customer_account_graph.invoke(\n",
    "    {\"messages\": [HumanMessage(content=\"Hey, recommend music by Amy Winehouse\")], \n",
    "     \"current_mode\": \"router\", \n",
    "     \"customer_id\": None}, \n",
    "    thread_config\n",
    ")"
   ]
  },
  {
   "cell_type": "code",
   "execution_count": 33,
   "id": "0ec7eba9-5ebd-447b-b574-b45b099be206",
   "metadata": {},
   "outputs": [
    {
     "data": {
      "text/plain": [
       "{'messages': [HumanMessage(content='Hey, my customer ID is 2. Please update my email to a@b.com', additional_kwargs={}, response_metadata={}, id='e9b672c5-d2af-4f26-8d01-adb56b181f49'),\n",
       "  AIMessage(content=\"I'll be happy to help with your account. Could you please provide your customer ID so I can access your information?\", additional_kwargs={}, response_metadata={}, id='0fb69493-cbc5-4dbb-92fb-243fa11d5563')],\n",
       " 'customer_id': None,\n",
       " 'current_mode': 'router'}"
      ]
     },
     "execution_count": 33,
     "metadata": {},
     "output_type": "execute_result"
    }
   ],
   "source": [
    "# Define a thread config dictionary\n",
    "thread_config = {\"configurable\": {\"thread_id\": \"22\"}}\n",
    "\n",
    "# Then use it in your invoke call\n",
    "customer_account_graph.invoke(\n",
    "    {\"messages\": [HumanMessage(content=\"Hey, my customer ID is 2. Please update my email to a@b.com\")], \n",
    "     \"current_mode\": \"router\", \n",
    "     \"customer_id\": None}, \n",
    "    thread_config\n",
    ")"
   ]
  },
  {
   "cell_type": "code",
   "execution_count": 34,
   "id": "8af07af1-7564-4b92-aae0-29d5b657a58b",
   "metadata": {},
   "outputs": [
    {
     "data": {
      "text/plain": [
       "{'messages': [HumanMessage(content='What is the meaning of life?', additional_kwargs={}, response_metadata={}, id='1382ef43-b70f-4b81-9871-8f64ac9f78ba'),\n",
       "  AIMessage(content=\"I'll be happy to help with your account. Could you please provide your customer ID so I can access your information?\", additional_kwargs={}, response_metadata={}, id='85cb2fee-1a37-485a-bf39-46a23aa16c73')],\n",
       " 'customer_id': None,\n",
       " 'current_mode': 'router'}"
      ]
     },
     "execution_count": 34,
     "metadata": {},
     "output_type": "execute_result"
    }
   ],
   "source": [
    "# Define a thread config dictionary\n",
    "thread_config = {\"configurable\": {\"thread_id\": \"23\"}}\n",
    "\n",
    "# Then use it in your invoke call\n",
    "customer_account_graph.invoke(\n",
    "    {\"messages\": [HumanMessage(content=\"What is the meaning of life?\")], \n",
    "     \"current_mode\": \"router\", \n",
    "     \"customer_id\": None}, \n",
    "    thread_config\n",
    ")"
   ]
  },
  {
   "cell_type": "code",
   "execution_count": null,
   "id": "0925630d-8ae0-4667-bab4-f3f36e86a2c6",
   "metadata": {},
   "outputs": [],
   "source": []
  },
  {
   "cell_type": "markdown",
   "id": "0cc223f1-8bd4-4238-a8ac-77c6d01422f2",
   "metadata": {},
   "source": [
    "## Compound Agent"
   ]
  },
  {
   "cell_type": "code",
   "execution_count": null,
   "id": "745f918f-f260-4c7c-883c-2ccb86c5074c",
   "metadata": {},
   "outputs": [],
   "source": [
    "def music_node(state: MusicStoreChatbotState):\n",
    "    print(\"music_node invoked\")\n",
    "    return state\n",
    "\n",
    "\n",
    "def account_node(state: MusicStoreChatbotState):\n",
    "    print(\"account_node invoked\")\n",
    "    return state\n",
    "\n",
    "def route_condition(state: MusicStoreChatbotState) -> str:\n",
    "    \"\"\"Return the routing condition based on the current state\"\"\"\n",
    "    return state[\"current_mode\"]\n",
    "\n",
    "front_desk_graph_builder = StateGraph(MusicStoreChatbotState)\n",
    "front_desk_graph_builder.add_node(\"route_conversation\", route_conversation)\n",
    "front_desk_graph_builder.add_node(\"music_node\", music_recommendation_graph_builder.compile())\n",
    "# front_desk_graph_builder.add_node(\"account_node\", account_node)\n",
    "front_desk_graph_builder.add_node(\"account_node\", customer_account_graph_builder.compile())\n",
    "front_desk_graph_builder.add_node(\"out_of_scope_message_node\", out_of_scope_message_node)\n",
    "\n",
    "# Add the starting edge\n",
    "front_desk_graph_builder.add_edge(START, \"route_conversation\")\n",
    "\n",
    "# Add conditional edges - this is the key part\n",
    "front_desk_graph_builder.add_conditional_edges(\n",
    "    \"route_conversation\",  # Source node\n",
    "    route_condition,  # Function that returns the condition value\n",
    "    {\n",
    "        \"music\": \"music_node\",\n",
    "        \"account\": \"account_node\",\n",
    "        \"unrelated\": \"out_of_scope_message_node\"\n",
    "    }\n",
    ")\n",
    "\n",
    "# Add the ending edges\n",
    "front_desk_graph_builder.add_edge(\"music_node\", END)\n",
    "front_desk_graph_builder.add_edge(\"account_node\", END)\n",
    "front_desk_graph_builder.add_edge(\"out_of_scope_message_node\", END)\n",
    "\n",
    "memory = MemorySaver()\n",
    "# Can hard-code interruptions  using `builder.compile(interrupt_before=[\"tools\"], checkpointer=memory)`\n",
    "front_desk_graph = front_desk_graph_builder.compile(checkpointer=memory)"
   ]
  },
  {
   "cell_type": "code",
   "execution_count": null,
   "id": "749b72bd-dbea-4783-8056-d24603dab49e",
   "metadata": {},
   "outputs": [],
   "source": [
    "display(Image(front_desk_graph.get_graph(xray=True).draw_mermaid_png()))"
   ]
  },
  {
   "cell_type": "markdown",
   "id": "908660e5-c14c-4847-9a01-80e3faf78f0b",
   "metadata": {},
   "source": [
    "### Test"
   ]
  },
  {
   "cell_type": "code",
   "execution_count": null,
   "id": "229a7709-f1e1-4590-a89c-67fcbdd81b64",
   "metadata": {},
   "outputs": [],
   "source": [
    "# Define a thread config dictionary\n",
    "thread_config = {\"configurable\": {\"thread_id\": \"31\"}}\n",
    "\n",
    "# Then use it in your invoke call\n",
    "front_desk_graph.invoke(\n",
    "    {\"messages\": [HumanMessage(content=\"Hey. recommend music by Amy Winehouse\")], \n",
    "     \"current_mode\": \"router\", \n",
    "     \"customer_id\": None}, \n",
    "    thread_config\n",
    ")"
   ]
  },
  {
   "cell_type": "code",
   "execution_count": null,
   "id": "55dc145b-7200-4e11-b463-e67625f68d77",
   "metadata": {},
   "outputs": [],
   "source": [
    "# Define a thread config dictionary\n",
    "thread_config = {\"configurable\": {\"thread_id\": \"32\"}}\n",
    "\n",
    "# Then use it in your invoke call\n",
    "front_desk_graph.invoke(\n",
    "    {\"messages\": [HumanMessage(content=\"Hey, my customer ID is 2. Please update my email to a@b.com\")], \n",
    "     \"current_mode\": \"router\", \n",
    "     \"customer_id\": None}, \n",
    "    thread_config\n",
    ")"
   ]
  },
  {
   "cell_type": "code",
   "execution_count": null,
   "id": "49b512bc-95cf-4fbf-b66d-64a730f06108",
   "metadata": {},
   "outputs": [],
   "source": [
    "# Define a thread config dictionary\n",
    "thread_config = {\"configurable\": {\"thread_id\": \"33\"}}\n",
    "\n",
    "# Then use it in your invoke call\n",
    "front_desk_graph.invoke(\n",
    "    {\"messages\": [HumanMessage(content=\"What is the meaning of life?\")], \n",
    "     \"current_mode\": \"router\", \n",
    "     \"customer_id\": None}, \n",
    "    thread_config\n",
    ")"
   ]
  },
  {
   "cell_type": "code",
   "execution_count": null,
   "id": "a548303b-9a55-4197-8ed4-96d1659beac0",
   "metadata": {},
   "outputs": [],
   "source": []
  },
  {
   "cell_type": "code",
   "execution_count": null,
   "id": "a21e9b2b-f9d1-4fc8-9518-e5d1e7bd3d6e",
   "metadata": {},
   "outputs": [],
   "source": []
  },
  {
   "cell_type": "code",
   "execution_count": null,
   "id": "0eaeedc7-7bae-4bf2-b603-8f60b78320ff",
   "metadata": {},
   "outputs": [],
   "source": []
  }
 ],
 "metadata": {
  "kernelspec": {
   "display_name": "Python 3 (ipykernel)",
   "language": "python",
   "name": "python3"
  },
  "language_info": {
   "codemirror_mode": {
    "name": "ipython",
    "version": 3
   },
   "file_extension": ".py",
   "mimetype": "text/x-python",
   "name": "python",
   "nbconvert_exporter": "python",
   "pygments_lexer": "ipython3",
   "version": "3.12.3"
  }
 },
 "nbformat": 4,
 "nbformat_minor": 5
}
